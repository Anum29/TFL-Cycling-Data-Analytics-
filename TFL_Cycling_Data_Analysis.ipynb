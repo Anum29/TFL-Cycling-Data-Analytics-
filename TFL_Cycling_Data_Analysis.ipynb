{
 "cells": [
  {
   "cell_type": "markdown",
   "metadata": {},
   "source": [
    "# TFL Cycling Data Analysis"
   ]
  },
  {
   "cell_type": "code",
   "execution_count": 460,
   "metadata": {
    "id": "WbgeLptlk9-_",
    "scrolled": true
   },
   "outputs": [],
   "source": [
    "import pandas as pd\n",
    "import numpy as np\n",
    "import matplotlib.pyplot as plt\n",
    "import seaborn as sns\n",
    "import plotly.express as px\n",
    "import plotly.graph_objs as go\n",
    "import plotly.offline as pyo\n",
    "\n",
    "\n",
    "import requests\n",
    "from io import StringIO\n",
    "from datetime import datetime, timedelta"
   ]
  },
  {
   "cell_type": "markdown",
   "metadata": {
    "id": "UFmcq_RelcH8"
   },
   "source": [
    "# Data Preprocessing"
   ]
  },
  {
   "cell_type": "code",
   "execution_count": 461,
   "metadata": {
    "id": "hi42mTk3BQqy",
    "scrolled": false
   },
   "outputs": [],
   "source": [
    "\n",
    "# Function to extract date and time information from the dataset\n",
    "def extract_date_time(df):\n",
    "\n",
    "    # Calculate the duration in days\n",
    "    df['Duration Days'] = (df['End Date'] - df['Start Date']).dt.days\n",
    "    \n",
    "    # Convert Duration from seconds to hours and minutes\n",
    "    df[\"Duration Hours\"] = df[\"Duration\"] / 3600  # Calculate minutes\n",
    "\n",
    "    # Convert Duration from seconds to minutes\n",
    "    df[\"Duration Minutes\"] = df[\"Duration\"] / 60  # Calculate minutes\n",
    "\n",
    "    # Extract year and month from Start Date\n",
    "    df[\"Start Year\"] = df[\"Start Date\"].dt.year\n",
    "    df[\"Start Month\"] = df[\"Start Date\"].dt.month\n",
    "    \n",
    "    # Extract day of the week and hour of the day from Start Date\n",
    "    df[\"Start Day of Week\"] = df[\"Start Date\"].dt.day_name()\n",
    "    df[\"Start Hour\"] = df[\"Start Date\"].dt.hour\n",
    "    \n",
    "    return df\n",
    "\n",
    "\n",
    "# Custom function to convert \"Xm Ys\" or \"Xh Ym Zs\" format to seconds\n",
    "def convert_duration(duration):\n",
    "    if isinstance(duration, int):\n",
    "        return duration  # Already in seconds\n",
    "    try:\n",
    "      total_seconds = 0\n",
    "      parts = duration.split()\n",
    "      for part in parts:\n",
    "          if part.endswith('h'):\n",
    "              total_seconds += int(part[:-1]) * 3600  # Convert hours to seconds\n",
    "          elif part.endswith('m'):\n",
    "              total_seconds += int(part[:-1]) * 60  # Convert minutes to seconds\n",
    "          elif part.endswith('s'):\n",
    "              total_seconds += int(part[:-1])  # Seconds\n",
    "    except:\n",
    "      pass\n",
    "    return total_seconds\n",
    "\n",
    "# Function to convert mixed date formats to datetime\n",
    "def convert_to_datetime(tfl_cycling_df):\n",
    "    # Define datetime format for 'YYYY-MM-DD HH:MM'\n",
    "    format1 = '%Y-%m-%d %H:%M'\n",
    "\n",
    "    # Define datetime format for 'DD/MM/YYYY HH:MM'\n",
    "    format2 = '%d/%m/%Y %H:%M'\n",
    "\n",
    "    # Convert 'Start Date' and 'End Date' columns using pd.to_datetime\n",
    "    tfl_cycling_df['Start Date'] = pd.to_datetime(tfl_cycling_df['Start Date'], errors='coerce', format=format1).combine_first(\n",
    "        pd.to_datetime(tfl_cycling_df['Start Date'], errors='coerce', format=format2))\n",
    "\n",
    "    tfl_cycling_df['End Date'] = pd.to_datetime(tfl_cycling_df['End Date'], errors='coerce', format=format1).combine_first(\n",
    "        pd.to_datetime(tfl_cycling_df['End Date'], errors='coerce', format=format2))\n",
    "\n",
    "    # Extract date and time information\n",
    "    tfl_cycling_df = extract_date_time(tfl_cycling_df)\n",
    "\n",
    "    return tfl_cycling_df\n",
    "\n",
    "\n",
    "def data_preprocessing():\n",
    "      # Create an empty DataFrame to store the data\n",
    "      combined_df = pd.DataFrame()\n",
    "\n",
    "      # Define column name mapping for consistency\n",
    "      column_mapping = {\n",
    "          \"Number\": \"Rental Id\",\n",
    "          \"Start date\": \"Start Date\",\n",
    "          \"Start station number\": \"StartStation Id\",\n",
    "          \"Start station\": \"StartStation Name\",\n",
    "          \"End date\": \"End Date\",\n",
    "          \"End station number\": \"EndStation Id\",\n",
    "          \"End station\": \"EndStation Name\",\n",
    "          \"Bike number\": \"Bike Id\",\n",
    "          \"Bike model\": \"Bike Model\",\n",
    "          \"Total duration\": \"Duration\",\n",
    "      }\n",
    "\n",
    "      # Initial values\n",
    "      index = 246\n",
    "      start_date = datetime(2020, 12, 30)\n",
    "      end_date = datetime(2021, 1, 5)\n",
    "\n",
    "      # Define the target end date\n",
    "      target_end_date = datetime(2023, 7, 1)\n",
    "      not_found = []\n",
    "      count = 0\n",
    "\n",
    "      # Iterate to generate URLs with incremented values until end_date equals Jan2024\n",
    "      while end_date < target_end_date:\n",
    "\n",
    "          # Format the URLs\n",
    "          start_month_year = start_date.strftime(\"%b%Y\").capitalize()\n",
    "          end_month_year = end_date.strftime(\"%b%Y\").capitalize()\n",
    "          csv_url = f\"https://cycling.data.tfl.gov.uk/usage-stats/{index}JourneyDataExtract{start_date.strftime('%d%b%Y')}-{end_date.strftime('%d%b%Y')}.csv\"\n",
    "          print(csv_url)\n",
    "\n",
    "          # Set a user-agent to mimic a web browser\n",
    "          headers = {'User-Agent': 'Mozilla/5.0 (Windows NT 10.0; Win64; x64) AppleWebKit/537.36 (KHTML, like Gecko) Chrome/58.0.3029.110 Safari/537.36'}\n",
    "\n",
    "          try:\n",
    "              # Send a GET request\n",
    "              response = requests.get(csv_url, headers=headers)\n",
    "\n",
    "              # Read the CSV from the response content\n",
    "              new_df = pd.read_csv(StringIO(response.text))\n",
    "\n",
    "              # Rename columns to the consistent format\n",
    "              new_df.rename(columns=column_mapping, inplace=True)\n",
    "\n",
    "              # Append the new data to the combined DataFrame\n",
    "              combined_df = pd.concat([combined_df, new_df], ignore_index=True)\n",
    "\n",
    "          except:\n",
    "              not_found.append(csv_url)\n",
    "              count += 1\n",
    "\n",
    "\n",
    "          if index == 374:\n",
    "            break\n",
    "          # Increment the index\n",
    "          index += 1\n",
    "          # Increment the start and end dates\n",
    "\n",
    "          if (index == 334):\n",
    "            start_date += timedelta(days=7)\n",
    "            end_date += timedelta(days=5)\n",
    "          elif (index == 335):\n",
    "            start_date += timedelta(days=5)\n",
    "            end_date += timedelta(days=7)\n",
    "          else:\n",
    "            start_date += timedelta(days=7)\n",
    "            end_date += timedelta(days=7)\n",
    "\n",
    "      combined_df['Duration'] = combined_df['Duration'].apply(convert_duration)\n",
    "      combined_df.drop(columns='Total duration (ms)', inplace=True)\n",
    "      \n",
    "      return combined_df\n"
   ]
  },
  {
   "cell_type": "code",
   "execution_count": 462,
   "metadata": {
    "colab": {
     "base_uri": "https://localhost:8080/"
    },
    "id": "UhNtJ0RVl6fK",
    "outputId": "035f96a9-79ea-44d0-ab08-d379c1f58af9",
    "scrolled": false
   },
   "outputs": [
    {
     "name": "stdout",
     "output_type": "stream",
     "text": [
      "https://cycling.data.tfl.gov.uk/usage-stats/246JourneyDataExtract30Dec2020-05Jan2021.csv\n",
      "https://cycling.data.tfl.gov.uk/usage-stats/247JourneyDataExtract06Jan2021-12Jan2021.csv\n",
      "https://cycling.data.tfl.gov.uk/usage-stats/248JourneyDataExtract13Jan2021-19Jan2021.csv\n",
      "https://cycling.data.tfl.gov.uk/usage-stats/249JourneyDataExtract20Jan2021-26Jan2021.csv\n",
      "https://cycling.data.tfl.gov.uk/usage-stats/250JourneyDataExtract27Jan2021-02Feb2021.csv\n",
      "https://cycling.data.tfl.gov.uk/usage-stats/251JourneyDataExtract03Feb2021-09Feb2021.csv\n",
      "https://cycling.data.tfl.gov.uk/usage-stats/252JourneyDataExtract10Feb2021-16Feb2021.csv\n",
      "https://cycling.data.tfl.gov.uk/usage-stats/253JourneyDataExtract17Feb2021-23Feb2021.csv\n",
      "https://cycling.data.tfl.gov.uk/usage-stats/254JourneyDataExtract24Feb2021-02Mar2021.csv\n",
      "https://cycling.data.tfl.gov.uk/usage-stats/255JourneyDataExtract03Mar2021-09Mar2021.csv\n",
      "https://cycling.data.tfl.gov.uk/usage-stats/256JourneyDataExtract10Mar2021-16Mar2021.csv\n",
      "https://cycling.data.tfl.gov.uk/usage-stats/257JourneyDataExtract17Mar2021-23Mar2021.csv\n",
      "https://cycling.data.tfl.gov.uk/usage-stats/258JourneyDataExtract24Mar2021-30Mar2021.csv\n",
      "https://cycling.data.tfl.gov.uk/usage-stats/259JourneyDataExtract31Mar2021-06Apr2021.csv\n",
      "https://cycling.data.tfl.gov.uk/usage-stats/260JourneyDataExtract07Apr2021-13Apr2021.csv\n",
      "https://cycling.data.tfl.gov.uk/usage-stats/261JourneyDataExtract14Apr2021-20Apr2021.csv\n",
      "https://cycling.data.tfl.gov.uk/usage-stats/262JourneyDataExtract21Apr2021-27Apr2021.csv\n",
      "https://cycling.data.tfl.gov.uk/usage-stats/263JourneyDataExtract28Apr2021-04May2021.csv\n",
      "https://cycling.data.tfl.gov.uk/usage-stats/264JourneyDataExtract05May2021-11May2021.csv\n",
      "https://cycling.data.tfl.gov.uk/usage-stats/265JourneyDataExtract12May2021-18May2021.csv\n",
      "https://cycling.data.tfl.gov.uk/usage-stats/266JourneyDataExtract19May2021-25May2021.csv\n",
      "https://cycling.data.tfl.gov.uk/usage-stats/267JourneyDataExtract26May2021-01Jun2021.csv\n",
      "https://cycling.data.tfl.gov.uk/usage-stats/268JourneyDataExtract02Jun2021-08Jun2021.csv\n",
      "https://cycling.data.tfl.gov.uk/usage-stats/269JourneyDataExtract09Jun2021-15Jun2021.csv\n",
      "https://cycling.data.tfl.gov.uk/usage-stats/270JourneyDataExtract16Jun2021-22Jun2021.csv\n",
      "https://cycling.data.tfl.gov.uk/usage-stats/271JourneyDataExtract23Jun2021-29Jun2021.csv\n",
      "https://cycling.data.tfl.gov.uk/usage-stats/272JourneyDataExtract30Jun2021-06Jul2021.csv\n",
      "https://cycling.data.tfl.gov.uk/usage-stats/273JourneyDataExtract07Jul2021-13Jul2021.csv\n",
      "https://cycling.data.tfl.gov.uk/usage-stats/274JourneyDataExtract14Jul2021-20Jul2021.csv\n",
      "https://cycling.data.tfl.gov.uk/usage-stats/275JourneyDataExtract21Jul2021-27Jul2021.csv\n",
      "https://cycling.data.tfl.gov.uk/usage-stats/276JourneyDataExtract28Jul2021-03Aug2021.csv\n",
      "https://cycling.data.tfl.gov.uk/usage-stats/277JourneyDataExtract04Aug2021-10Aug2021.csv\n",
      "https://cycling.data.tfl.gov.uk/usage-stats/278JourneyDataExtract11Aug2021-17Aug2021.csv\n",
      "https://cycling.data.tfl.gov.uk/usage-stats/279JourneyDataExtract18Aug2021-24Aug2021.csv\n",
      "https://cycling.data.tfl.gov.uk/usage-stats/280JourneyDataExtract25Aug2021-31Aug2021.csv\n",
      "https://cycling.data.tfl.gov.uk/usage-stats/281JourneyDataExtract01Sep2021-07Sep2021.csv\n",
      "https://cycling.data.tfl.gov.uk/usage-stats/282JourneyDataExtract08Sep2021-14Sep2021.csv\n",
      "https://cycling.data.tfl.gov.uk/usage-stats/283JourneyDataExtract15Sep2021-21Sep2021.csv\n",
      "https://cycling.data.tfl.gov.uk/usage-stats/284JourneyDataExtract22Sep2021-28Sep2021.csv\n",
      "https://cycling.data.tfl.gov.uk/usage-stats/285JourneyDataExtract29Sep2021-05Oct2021.csv\n",
      "https://cycling.data.tfl.gov.uk/usage-stats/286JourneyDataExtract06Oct2021-12Oct2021.csv\n",
      "https://cycling.data.tfl.gov.uk/usage-stats/287JourneyDataExtract13Oct2021-19Oct2021.csv\n",
      "https://cycling.data.tfl.gov.uk/usage-stats/288JourneyDataExtract20Oct2021-26Oct2021.csv\n",
      "https://cycling.data.tfl.gov.uk/usage-stats/289JourneyDataExtract27Oct2021-02Nov2021.csv\n",
      "https://cycling.data.tfl.gov.uk/usage-stats/290JourneyDataExtract03Nov2021-09Nov2021.csv\n",
      "https://cycling.data.tfl.gov.uk/usage-stats/291JourneyDataExtract10Nov2021-16Nov2021.csv\n",
      "https://cycling.data.tfl.gov.uk/usage-stats/292JourneyDataExtract17Nov2021-23Nov2021.csv\n",
      "https://cycling.data.tfl.gov.uk/usage-stats/293JourneyDataExtract24Nov2021-30Nov2021.csv\n",
      "https://cycling.data.tfl.gov.uk/usage-stats/294JourneyDataExtract01Dec2021-07Dec2021.csv\n",
      "https://cycling.data.tfl.gov.uk/usage-stats/295JourneyDataExtract08Dec2021-14Dec2021.csv\n",
      "https://cycling.data.tfl.gov.uk/usage-stats/296JourneyDataExtract15Dec2021-21Dec2021.csv\n",
      "https://cycling.data.tfl.gov.uk/usage-stats/297JourneyDataExtract22Dec2021-28Dec2021.csv\n",
      "https://cycling.data.tfl.gov.uk/usage-stats/298JourneyDataExtract29Dec2021-04Jan2022.csv\n",
      "https://cycling.data.tfl.gov.uk/usage-stats/299JourneyDataExtract05Jan2022-11Jan2022.csv\n",
      "https://cycling.data.tfl.gov.uk/usage-stats/300JourneyDataExtract12Jan2022-18Jan2022.csv\n",
      "https://cycling.data.tfl.gov.uk/usage-stats/301JourneyDataExtract19Jan2022-25Jan2022.csv\n",
      "https://cycling.data.tfl.gov.uk/usage-stats/302JourneyDataExtract26Jan2022-01Feb2022.csv\n",
      "https://cycling.data.tfl.gov.uk/usage-stats/303JourneyDataExtract02Feb2022-08Feb2022.csv\n",
      "https://cycling.data.tfl.gov.uk/usage-stats/304JourneyDataExtract09Feb2022-15Feb2022.csv\n",
      "https://cycling.data.tfl.gov.uk/usage-stats/305JourneyDataExtract16Feb2022-22Feb2022.csv\n",
      "https://cycling.data.tfl.gov.uk/usage-stats/306JourneyDataExtract23Feb2022-01Mar2022.csv\n",
      "https://cycling.data.tfl.gov.uk/usage-stats/307JourneyDataExtract02Mar2022-08Mar2022.csv\n",
      "https://cycling.data.tfl.gov.uk/usage-stats/308JourneyDataExtract09Mar2022-15Mar2022.csv\n",
      "https://cycling.data.tfl.gov.uk/usage-stats/309JourneyDataExtract16Mar2022-22Mar2022.csv\n",
      "https://cycling.data.tfl.gov.uk/usage-stats/310JourneyDataExtract23Mar2022-29Mar2022.csv\n",
      "https://cycling.data.tfl.gov.uk/usage-stats/311JourneyDataExtract30Mar2022-05Apr2022.csv\n",
      "https://cycling.data.tfl.gov.uk/usage-stats/312JourneyDataExtract06Apr2022-12Apr2022.csv\n",
      "https://cycling.data.tfl.gov.uk/usage-stats/313JourneyDataExtract13Apr2022-19Apr2022.csv\n",
      "https://cycling.data.tfl.gov.uk/usage-stats/314JourneyDataExtract20Apr2022-26Apr2022.csv\n",
      "https://cycling.data.tfl.gov.uk/usage-stats/315JourneyDataExtract27Apr2022-03May2022.csv\n",
      "https://cycling.data.tfl.gov.uk/usage-stats/316JourneyDataExtract04May2022-10May2022.csv\n",
      "https://cycling.data.tfl.gov.uk/usage-stats/317JourneyDataExtract11May2022-17May2022.csv\n",
      "https://cycling.data.tfl.gov.uk/usage-stats/318JourneyDataExtract18May2022-24May2022.csv\n",
      "https://cycling.data.tfl.gov.uk/usage-stats/319JourneyDataExtract25May2022-31May2022.csv\n",
      "https://cycling.data.tfl.gov.uk/usage-stats/320JourneyDataExtract01Jun2022-07Jun2022.csv\n",
      "https://cycling.data.tfl.gov.uk/usage-stats/321JourneyDataExtract08Jun2022-14Jun2022.csv\n",
      "https://cycling.data.tfl.gov.uk/usage-stats/322JourneyDataExtract15Jun2022-21Jun2022.csv\n",
      "https://cycling.data.tfl.gov.uk/usage-stats/323JourneyDataExtract22Jun2022-28Jun2022.csv\n",
      "https://cycling.data.tfl.gov.uk/usage-stats/324JourneyDataExtract29Jun2022-05Jul2022.csv\n",
      "https://cycling.data.tfl.gov.uk/usage-stats/325JourneyDataExtract06Jul2022-12Jul2022.csv\n",
      "https://cycling.data.tfl.gov.uk/usage-stats/326JourneyDataExtract13Jul2022-19Jul2022.csv\n",
      "https://cycling.data.tfl.gov.uk/usage-stats/327JourneyDataExtract20Jul2022-26Jul2022.csv\n",
      "https://cycling.data.tfl.gov.uk/usage-stats/328JourneyDataExtract27Jul2022-02Aug2022.csv\n",
      "https://cycling.data.tfl.gov.uk/usage-stats/329JourneyDataExtract03Aug2022-09Aug2022.csv\n",
      "https://cycling.data.tfl.gov.uk/usage-stats/330JourneyDataExtract10Aug2022-16Aug2022.csv\n",
      "https://cycling.data.tfl.gov.uk/usage-stats/331JourneyDataExtract17Aug2022-23Aug2022.csv\n",
      "https://cycling.data.tfl.gov.uk/usage-stats/332JourneyDataExtract24Aug2022-30Aug2022.csv\n",
      "https://cycling.data.tfl.gov.uk/usage-stats/333JourneyDataExtract31Aug2022-06Sep2022.csv\n",
      "https://cycling.data.tfl.gov.uk/usage-stats/334JourneyDataExtract07Sep2022-11Sep2022.csv\n",
      "https://cycling.data.tfl.gov.uk/usage-stats/335JourneyDataExtract12Sep2022-18Sep2022.csv\n",
      "https://cycling.data.tfl.gov.uk/usage-stats/336JourneyDataExtract19Sep2022-25Sep2022.csv\n",
      "https://cycling.data.tfl.gov.uk/usage-stats/337JourneyDataExtract26Sep2022-02Oct2022.csv\n",
      "https://cycling.data.tfl.gov.uk/usage-stats/338JourneyDataExtract03Oct2022-09Oct2022.csv\n"
     ]
    },
    {
     "name": "stdout",
     "output_type": "stream",
     "text": [
      "https://cycling.data.tfl.gov.uk/usage-stats/339JourneyDataExtract10Oct2022-16Oct2022.csv\n",
      "https://cycling.data.tfl.gov.uk/usage-stats/340JourneyDataExtract17Oct2022-23Oct2022.csv\n",
      "https://cycling.data.tfl.gov.uk/usage-stats/341JourneyDataExtract24Oct2022-30Oct2022.csv\n"
     ]
    },
    {
     "name": "stderr",
     "output_type": "stream",
     "text": [
      "/var/folders/19/fjpzxfh14fs7g1q_qm96qd880000gp/T/ipykernel_71272/821265795.py:108: DtypeWarning:\n",
      "\n",
      "Columns (2,5) have mixed types. Specify dtype option on import or set low_memory=False.\n",
      "\n"
     ]
    },
    {
     "name": "stdout",
     "output_type": "stream",
     "text": [
      "https://cycling.data.tfl.gov.uk/usage-stats/342JourneyDataExtract31Oct2022-06Nov2022.csv\n",
      "https://cycling.data.tfl.gov.uk/usage-stats/343JourneyDataExtract07Nov2022-13Nov2022.csv\n",
      "https://cycling.data.tfl.gov.uk/usage-stats/344JourneyDataExtract14Nov2022-20Nov2022.csv\n",
      "https://cycling.data.tfl.gov.uk/usage-stats/345JourneyDataExtract21Nov2022-27Nov2022.csv\n",
      "https://cycling.data.tfl.gov.uk/usage-stats/346JourneyDataExtract28Nov2022-04Dec2022.csv\n",
      "https://cycling.data.tfl.gov.uk/usage-stats/347JourneyDataExtract05Dec2022-11Dec2022.csv\n",
      "https://cycling.data.tfl.gov.uk/usage-stats/348JourneyDataExtract12Dec2022-18Dec2022.csv\n",
      "https://cycling.data.tfl.gov.uk/usage-stats/349JourneyDataExtract19Dec2022-25Dec2022.csv\n",
      "https://cycling.data.tfl.gov.uk/usage-stats/350JourneyDataExtract26Dec2022-01Jan2023.csv\n",
      "https://cycling.data.tfl.gov.uk/usage-stats/351JourneyDataExtract02Jan2023-08Jan2023.csv\n",
      "https://cycling.data.tfl.gov.uk/usage-stats/352JourneyDataExtract09Jan2023-15Jan2023.csv\n",
      "https://cycling.data.tfl.gov.uk/usage-stats/353JourneyDataExtract16Jan2023-22Jan2023.csv\n",
      "https://cycling.data.tfl.gov.uk/usage-stats/354JourneyDataExtract23Jan2023-29Jan2023.csv\n",
      "https://cycling.data.tfl.gov.uk/usage-stats/355JourneyDataExtract30Jan2023-05Feb2023.csv\n",
      "https://cycling.data.tfl.gov.uk/usage-stats/356JourneyDataExtract06Feb2023-12Feb2023.csv\n",
      "https://cycling.data.tfl.gov.uk/usage-stats/357JourneyDataExtract13Feb2023-19Feb2023.csv\n",
      "https://cycling.data.tfl.gov.uk/usage-stats/358JourneyDataExtract20Feb2023-26Feb2023.csv\n",
      "https://cycling.data.tfl.gov.uk/usage-stats/359JourneyDataExtract27Feb2023-05Mar2023.csv\n",
      "https://cycling.data.tfl.gov.uk/usage-stats/360JourneyDataExtract06Mar2023-12Mar2023.csv\n",
      "https://cycling.data.tfl.gov.uk/usage-stats/361JourneyDataExtract13Mar2023-19Mar2023.csv\n"
     ]
    },
    {
     "name": "stderr",
     "output_type": "stream",
     "text": [
      "/var/folders/19/fjpzxfh14fs7g1q_qm96qd880000gp/T/ipykernel_71272/821265795.py:108: DtypeWarning:\n",
      "\n",
      "Columns (2,5) have mixed types. Specify dtype option on import or set low_memory=False.\n",
      "\n"
     ]
    },
    {
     "name": "stdout",
     "output_type": "stream",
     "text": [
      "https://cycling.data.tfl.gov.uk/usage-stats/362JourneyDataExtract20Mar2023-26Mar2023.csv\n"
     ]
    },
    {
     "name": "stderr",
     "output_type": "stream",
     "text": [
      "/var/folders/19/fjpzxfh14fs7g1q_qm96qd880000gp/T/ipykernel_71272/821265795.py:108: DtypeWarning:\n",
      "\n",
      "Columns (2,5) have mixed types. Specify dtype option on import or set low_memory=False.\n",
      "\n"
     ]
    },
    {
     "name": "stdout",
     "output_type": "stream",
     "text": [
      "https://cycling.data.tfl.gov.uk/usage-stats/363JourneyDataExtract27Mar2023-02Apr2023.csv\n",
      "https://cycling.data.tfl.gov.uk/usage-stats/364JourneyDataExtract03Apr2023-09Apr2023.csv\n",
      "https://cycling.data.tfl.gov.uk/usage-stats/365JourneyDataExtract10Apr2023-16Apr2023.csv\n",
      "https://cycling.data.tfl.gov.uk/usage-stats/366JourneyDataExtract17Apr2023-23Apr2023.csv\n",
      "https://cycling.data.tfl.gov.uk/usage-stats/367JourneyDataExtract24Apr2023-30Apr2023.csv\n",
      "https://cycling.data.tfl.gov.uk/usage-stats/368JourneyDataExtract01May2023-07May2023.csv\n",
      "https://cycling.data.tfl.gov.uk/usage-stats/369JourneyDataExtract08May2023-14May2023.csv\n",
      "https://cycling.data.tfl.gov.uk/usage-stats/370JourneyDataExtract15May2023-21May2023.csv\n",
      "https://cycling.data.tfl.gov.uk/usage-stats/371JourneyDataExtract22May2023-28May2023.csv\n",
      "https://cycling.data.tfl.gov.uk/usage-stats/372JourneyDataExtract29May2023-04Jun2023.csv\n",
      "https://cycling.data.tfl.gov.uk/usage-stats/373JourneyDataExtract05Jun2023-11Jun2023.csv\n",
      "https://cycling.data.tfl.gov.uk/usage-stats/374JourneyDataExtract12Jun2023-18Jun2023.csv\n"
     ]
    }
   ],
   "source": [
    "tfl_cycling_df = data_preprocessing()"
   ]
  },
  {
   "cell_type": "code",
   "execution_count": 5,
   "metadata": {
    "id": "1YkBHJxqb4Ol",
    "scrolled": true
   },
   "outputs": [],
   "source": [
    "tfl_cycling_df_preprocessed = convert_to_datetime(tfl_cycling_df)"
   ]
  },
  {
   "cell_type": "code",
   "execution_count": 6,
   "metadata": {
    "id": "QGO2Hwr5AyuS",
    "scrolled": true
   },
   "outputs": [],
   "source": [
    "tfl_cycling_df_preprocessed.to_csv('tfl_cycling_data.csv', index=False)"
   ]
  },
  {
   "cell_type": "code",
   "execution_count": null,
   "metadata": {
    "id": "ATB7XD8p1AYg",
    "scrolled": true
   },
   "outputs": [],
   "source": [
    "#tfl_cycling_df_preprocessed = pd.read_csv(\"tfl_cycling_data.csv\")"
   ]
  },
  {
   "cell_type": "code",
   "execution_count": 7,
   "metadata": {
    "id": "TRC1wRISjKGe",
    "scrolled": true
   },
   "outputs": [
    {
     "data": {
      "text/plain": [
       "Index(['Rental Id', 'Duration', 'Bike Id', 'End Date', 'EndStation Id',\n",
       "       'EndStation Name', 'Start Date', 'StartStation Id', 'StartStation Name',\n",
       "       'Bike Model', 'Duration Days', 'Duration Hours', 'Duration Minutes',\n",
       "       'Start Year', 'Start Month', 'Start Day of Week', 'Start Hour'],\n",
       "      dtype='object')"
      ]
     },
     "execution_count": 7,
     "metadata": {},
     "output_type": "execute_result"
    }
   ],
   "source": [
    "tfl_cycling_df_preprocessed.columns"
   ]
  },
  {
   "cell_type": "code",
   "execution_count": 9,
   "metadata": {
    "id": "Z4r6FtcEsQVZ",
    "scrolled": false
   },
   "outputs": [
    {
     "data": {
      "text/html": [
       "<div>\n",
       "<style scoped>\n",
       "    .dataframe tbody tr th:only-of-type {\n",
       "        vertical-align: middle;\n",
       "    }\n",
       "\n",
       "    .dataframe tbody tr th {\n",
       "        vertical-align: top;\n",
       "    }\n",
       "\n",
       "    .dataframe thead th {\n",
       "        text-align: right;\n",
       "    }\n",
       "</style>\n",
       "<table border=\"1\" class=\"dataframe\">\n",
       "  <thead>\n",
       "    <tr style=\"text-align: right;\">\n",
       "      <th></th>\n",
       "      <th>Rental Id</th>\n",
       "      <th>Duration</th>\n",
       "      <th>Bike Id</th>\n",
       "      <th>End Date</th>\n",
       "      <th>EndStation Id</th>\n",
       "      <th>EndStation Name</th>\n",
       "      <th>Start Date</th>\n",
       "      <th>StartStation Id</th>\n",
       "      <th>StartStation Name</th>\n",
       "      <th>Bike Model</th>\n",
       "      <th>Duration Days</th>\n",
       "      <th>Duration Hours</th>\n",
       "      <th>Duration Minutes</th>\n",
       "      <th>Start Year</th>\n",
       "      <th>Start Month</th>\n",
       "      <th>Start Day of Week</th>\n",
       "      <th>Start Hour</th>\n",
       "    </tr>\n",
       "  </thead>\n",
       "  <tbody>\n",
       "    <tr>\n",
       "      <th>0</th>\n",
       "      <td>104820582</td>\n",
       "      <td>1620</td>\n",
       "      <td>22</td>\n",
       "      <td>2021-01-03 15:14:00</td>\n",
       "      <td>11.0</td>\n",
       "      <td>Brunswick Square, Bloomsbury</td>\n",
       "      <td>2021-01-03 14:47:00</td>\n",
       "      <td>542</td>\n",
       "      <td>Salmon Lane, Limehouse</td>\n",
       "      <td>NaN</td>\n",
       "      <td>0</td>\n",
       "      <td>0.450000</td>\n",
       "      <td>27.0</td>\n",
       "      <td>2021</td>\n",
       "      <td>1</td>\n",
       "      <td>Sunday</td>\n",
       "      <td>14</td>\n",
       "    </tr>\n",
       "    <tr>\n",
       "      <th>1</th>\n",
       "      <td>104816169</td>\n",
       "      <td>1740</td>\n",
       "      <td>10755</td>\n",
       "      <td>2021-01-03 13:26:00</td>\n",
       "      <td>542.0</td>\n",
       "      <td>Salmon Lane, Limehouse</td>\n",
       "      <td>2021-01-03 12:57:00</td>\n",
       "      <td>546</td>\n",
       "      <td>New Fetter Lane, Holborn</td>\n",
       "      <td>NaN</td>\n",
       "      <td>0</td>\n",
       "      <td>0.483333</td>\n",
       "      <td>29.0</td>\n",
       "      <td>2021</td>\n",
       "      <td>1</td>\n",
       "      <td>Sunday</td>\n",
       "      <td>12</td>\n",
       "    </tr>\n",
       "    <tr>\n",
       "      <th>2</th>\n",
       "      <td>104757113</td>\n",
       "      <td>1620</td>\n",
       "      <td>18908</td>\n",
       "      <td>2020-12-30 15:00:00</td>\n",
       "      <td>239.0</td>\n",
       "      <td>Warren Street Station, Euston</td>\n",
       "      <td>2020-12-30 14:33:00</td>\n",
       "      <td>779</td>\n",
       "      <td>Houndsditch, Aldgate</td>\n",
       "      <td>NaN</td>\n",
       "      <td>0</td>\n",
       "      <td>0.450000</td>\n",
       "      <td>27.0</td>\n",
       "      <td>2020</td>\n",
       "      <td>12</td>\n",
       "      <td>Wednesday</td>\n",
       "      <td>14</td>\n",
       "    </tr>\n",
       "    <tr>\n",
       "      <th>3</th>\n",
       "      <td>104749458</td>\n",
       "      <td>780</td>\n",
       "      <td>18499</td>\n",
       "      <td>2020-12-30 09:21:00</td>\n",
       "      <td>766.0</td>\n",
       "      <td>Ram Street, Wandsworth</td>\n",
       "      <td>2020-12-30 09:08:00</td>\n",
       "      <td>653</td>\n",
       "      <td>Simpson Street, Clapham Junction</td>\n",
       "      <td>NaN</td>\n",
       "      <td>0</td>\n",
       "      <td>0.216667</td>\n",
       "      <td>13.0</td>\n",
       "      <td>2020</td>\n",
       "      <td>12</td>\n",
       "      <td>Wednesday</td>\n",
       "      <td>9</td>\n",
       "    </tr>\n",
       "    <tr>\n",
       "      <th>4</th>\n",
       "      <td>104788389</td>\n",
       "      <td>5400</td>\n",
       "      <td>15668</td>\n",
       "      <td>2021-01-01 16:29:00</td>\n",
       "      <td>655.0</td>\n",
       "      <td>Crabtree Lane, Fulham</td>\n",
       "      <td>2021-01-01 14:59:00</td>\n",
       "      <td>655</td>\n",
       "      <td>Crabtree Lane, Fulham</td>\n",
       "      <td>NaN</td>\n",
       "      <td>0</td>\n",
       "      <td>1.500000</td>\n",
       "      <td>90.0</td>\n",
       "      <td>2021</td>\n",
       "      <td>1</td>\n",
       "      <td>Friday</td>\n",
       "      <td>14</td>\n",
       "    </tr>\n",
       "    <tr>\n",
       "      <th>5</th>\n",
       "      <td>104792584</td>\n",
       "      <td>240</td>\n",
       "      <td>6695</td>\n",
       "      <td>2021-01-01 21:02:00</td>\n",
       "      <td>682.0</td>\n",
       "      <td>Crisp Road, Hammersmith</td>\n",
       "      <td>2021-01-01 20:58:00</td>\n",
       "      <td>655</td>\n",
       "      <td>Crabtree Lane, Fulham</td>\n",
       "      <td>NaN</td>\n",
       "      <td>0</td>\n",
       "      <td>0.066667</td>\n",
       "      <td>4.0</td>\n",
       "      <td>2021</td>\n",
       "      <td>1</td>\n",
       "      <td>Friday</td>\n",
       "      <td>20</td>\n",
       "    </tr>\n",
       "    <tr>\n",
       "      <th>6</th>\n",
       "      <td>104777428</td>\n",
       "      <td>5940</td>\n",
       "      <td>6695</td>\n",
       "      <td>2020-12-31 18:49:00</td>\n",
       "      <td>655.0</td>\n",
       "      <td>Crabtree Lane, Fulham</td>\n",
       "      <td>2020-12-31 17:10:00</td>\n",
       "      <td>655</td>\n",
       "      <td>Crabtree Lane, Fulham</td>\n",
       "      <td>NaN</td>\n",
       "      <td>0</td>\n",
       "      <td>1.650000</td>\n",
       "      <td>99.0</td>\n",
       "      <td>2020</td>\n",
       "      <td>12</td>\n",
       "      <td>Thursday</td>\n",
       "      <td>17</td>\n",
       "    </tr>\n",
       "    <tr>\n",
       "      <th>7</th>\n",
       "      <td>104791339</td>\n",
       "      <td>1860</td>\n",
       "      <td>6695</td>\n",
       "      <td>2021-01-01 18:28:00</td>\n",
       "      <td>655.0</td>\n",
       "      <td>Crabtree Lane, Fulham</td>\n",
       "      <td>2021-01-01 17:57:00</td>\n",
       "      <td>655</td>\n",
       "      <td>Crabtree Lane, Fulham</td>\n",
       "      <td>NaN</td>\n",
       "      <td>0</td>\n",
       "      <td>0.516667</td>\n",
       "      <td>31.0</td>\n",
       "      <td>2021</td>\n",
       "      <td>1</td>\n",
       "      <td>Friday</td>\n",
       "      <td>17</td>\n",
       "    </tr>\n",
       "    <tr>\n",
       "      <th>8</th>\n",
       "      <td>104762231</td>\n",
       "      <td>6060</td>\n",
       "      <td>8883</td>\n",
       "      <td>2020-12-30 18:57:00</td>\n",
       "      <td>682.0</td>\n",
       "      <td>Crisp Road, Hammersmith</td>\n",
       "      <td>2020-12-30 17:16:00</td>\n",
       "      <td>655</td>\n",
       "      <td>Crabtree Lane, Fulham</td>\n",
       "      <td>NaN</td>\n",
       "      <td>0</td>\n",
       "      <td>1.683333</td>\n",
       "      <td>101.0</td>\n",
       "      <td>2020</td>\n",
       "      <td>12</td>\n",
       "      <td>Wednesday</td>\n",
       "      <td>17</td>\n",
       "    </tr>\n",
       "    <tr>\n",
       "      <th>9</th>\n",
       "      <td>104776884</td>\n",
       "      <td>720</td>\n",
       "      <td>3424</td>\n",
       "      <td>2020-12-31 16:53:00</td>\n",
       "      <td>395.0</td>\n",
       "      <td>Cadogan Gardens, Chelsea</td>\n",
       "      <td>2020-12-31 16:41:00</td>\n",
       "      <td>662</td>\n",
       "      <td>Phene Street, Chelsea</td>\n",
       "      <td>NaN</td>\n",
       "      <td>0</td>\n",
       "      <td>0.200000</td>\n",
       "      <td>12.0</td>\n",
       "      <td>2020</td>\n",
       "      <td>12</td>\n",
       "      <td>Thursday</td>\n",
       "      <td>16</td>\n",
       "    </tr>\n",
       "  </tbody>\n",
       "</table>\n",
       "</div>"
      ],
      "text/plain": [
       "   Rental Id  Duration  Bike Id            End Date EndStation Id  \\\n",
       "0  104820582      1620       22 2021-01-03 15:14:00          11.0   \n",
       "1  104816169      1740    10755 2021-01-03 13:26:00         542.0   \n",
       "2  104757113      1620    18908 2020-12-30 15:00:00         239.0   \n",
       "3  104749458       780    18499 2020-12-30 09:21:00         766.0   \n",
       "4  104788389      5400    15668 2021-01-01 16:29:00         655.0   \n",
       "5  104792584       240     6695 2021-01-01 21:02:00         682.0   \n",
       "6  104777428      5940     6695 2020-12-31 18:49:00         655.0   \n",
       "7  104791339      1860     6695 2021-01-01 18:28:00         655.0   \n",
       "8  104762231      6060     8883 2020-12-30 18:57:00         682.0   \n",
       "9  104776884       720     3424 2020-12-31 16:53:00         395.0   \n",
       "\n",
       "                 EndStation Name          Start Date StartStation Id  \\\n",
       "0   Brunswick Square, Bloomsbury 2021-01-03 14:47:00             542   \n",
       "1         Salmon Lane, Limehouse 2021-01-03 12:57:00             546   \n",
       "2  Warren Street Station, Euston 2020-12-30 14:33:00             779   \n",
       "3         Ram Street, Wandsworth 2020-12-30 09:08:00             653   \n",
       "4          Crabtree Lane, Fulham 2021-01-01 14:59:00             655   \n",
       "5        Crisp Road, Hammersmith 2021-01-01 20:58:00             655   \n",
       "6          Crabtree Lane, Fulham 2020-12-31 17:10:00             655   \n",
       "7          Crabtree Lane, Fulham 2021-01-01 17:57:00             655   \n",
       "8        Crisp Road, Hammersmith 2020-12-30 17:16:00             655   \n",
       "9       Cadogan Gardens, Chelsea 2020-12-31 16:41:00             662   \n",
       "\n",
       "                  StartStation Name Bike Model  Duration Days  Duration Hours  \\\n",
       "0            Salmon Lane, Limehouse        NaN              0        0.450000   \n",
       "1          New Fetter Lane, Holborn        NaN              0        0.483333   \n",
       "2              Houndsditch, Aldgate        NaN              0        0.450000   \n",
       "3  Simpson Street, Clapham Junction        NaN              0        0.216667   \n",
       "4             Crabtree Lane, Fulham        NaN              0        1.500000   \n",
       "5             Crabtree Lane, Fulham        NaN              0        0.066667   \n",
       "6             Crabtree Lane, Fulham        NaN              0        1.650000   \n",
       "7             Crabtree Lane, Fulham        NaN              0        0.516667   \n",
       "8             Crabtree Lane, Fulham        NaN              0        1.683333   \n",
       "9             Phene Street, Chelsea        NaN              0        0.200000   \n",
       "\n",
       "   Duration Minutes  Start Year  Start Month Start Day of Week  Start Hour  \n",
       "0              27.0        2021            1            Sunday          14  \n",
       "1              29.0        2021            1            Sunday          12  \n",
       "2              27.0        2020           12         Wednesday          14  \n",
       "3              13.0        2020           12         Wednesday           9  \n",
       "4              90.0        2021            1            Friday          14  \n",
       "5               4.0        2021            1            Friday          20  \n",
       "6              99.0        2020           12          Thursday          17  \n",
       "7              31.0        2021            1            Friday          17  \n",
       "8             101.0        2020           12         Wednesday          17  \n",
       "9              12.0        2020           12          Thursday          16  "
      ]
     },
     "execution_count": 9,
     "metadata": {},
     "output_type": "execute_result"
    }
   ],
   "source": [
    "tfl_cycling_df_preprocessed.head(10)"
   ]
  },
  {
   "cell_type": "code",
   "execution_count": 10,
   "metadata": {
    "id": "uNCn-dID1xHw",
    "scrolled": true
   },
   "outputs": [
    {
     "data": {
      "text/html": [
       "<div>\n",
       "<style scoped>\n",
       "    .dataframe tbody tr th:only-of-type {\n",
       "        vertical-align: middle;\n",
       "    }\n",
       "\n",
       "    .dataframe tbody tr th {\n",
       "        vertical-align: top;\n",
       "    }\n",
       "\n",
       "    .dataframe thead th {\n",
       "        text-align: right;\n",
       "    }\n",
       "</style>\n",
       "<table border=\"1\" class=\"dataframe\">\n",
       "  <thead>\n",
       "    <tr style=\"text-align: right;\">\n",
       "      <th></th>\n",
       "      <th>Rental Id</th>\n",
       "      <th>Duration</th>\n",
       "      <th>Bike Id</th>\n",
       "      <th>Duration Days</th>\n",
       "      <th>Duration Hours</th>\n",
       "      <th>Duration Minutes</th>\n",
       "      <th>Start Year</th>\n",
       "      <th>Start Month</th>\n",
       "      <th>Start Hour</th>\n",
       "    </tr>\n",
       "  </thead>\n",
       "  <tbody>\n",
       "    <tr>\n",
       "      <th>count</th>\n",
       "      <td>2.606722e+07</td>\n",
       "      <td>2.606722e+07</td>\n",
       "      <td>2.606722e+07</td>\n",
       "      <td>2.606722e+07</td>\n",
       "      <td>2.606722e+07</td>\n",
       "      <td>2.606722e+07</td>\n",
       "      <td>2.606722e+07</td>\n",
       "      <td>2.606722e+07</td>\n",
       "      <td>2.606722e+07</td>\n",
       "    </tr>\n",
       "    <tr>\n",
       "      <th>mean</th>\n",
       "      <td>1.181858e+08</td>\n",
       "      <td>1.240298e+03</td>\n",
       "      <td>2.304620e+04</td>\n",
       "      <td>1.392017e-03</td>\n",
       "      <td>3.445271e-01</td>\n",
       "      <td>2.067163e+01</td>\n",
       "      <td>2.021728e+03</td>\n",
       "      <td>6.188202e+00</td>\n",
       "      <td>1.399801e+01</td>\n",
       "    </tr>\n",
       "    <tr>\n",
       "      <th>std</th>\n",
       "      <td>7.735912e+06</td>\n",
       "      <td>3.827923e+03</td>\n",
       "      <td>1.663516e+04</td>\n",
       "      <td>1.195454e-01</td>\n",
       "      <td>1.063312e+00</td>\n",
       "      <td>6.379871e+01</td>\n",
       "      <td>7.011454e-01</td>\n",
       "      <td>3.106090e+00</td>\n",
       "      <td>4.977164e+00</td>\n",
       "    </tr>\n",
       "    <tr>\n",
       "      <th>min</th>\n",
       "      <td>1.047482e+08</td>\n",
       "      <td>0.000000e+00</td>\n",
       "      <td>1.000000e+00</td>\n",
       "      <td>-1.000000e+00</td>\n",
       "      <td>0.000000e+00</td>\n",
       "      <td>0.000000e+00</td>\n",
       "      <td>2.020000e+03</td>\n",
       "      <td>1.000000e+00</td>\n",
       "      <td>0.000000e+00</td>\n",
       "    </tr>\n",
       "    <tr>\n",
       "      <th>25%</th>\n",
       "      <td>1.115033e+08</td>\n",
       "      <td>4.920000e+02</td>\n",
       "      <td>1.340000e+04</td>\n",
       "      <td>0.000000e+00</td>\n",
       "      <td>1.366667e-01</td>\n",
       "      <td>8.200000e+00</td>\n",
       "      <td>2.021000e+03</td>\n",
       "      <td>4.000000e+00</td>\n",
       "      <td>1.000000e+01</td>\n",
       "    </tr>\n",
       "    <tr>\n",
       "      <th>50%</th>\n",
       "      <td>1.181748e+08</td>\n",
       "      <td>8.400000e+02</td>\n",
       "      <td>1.837400e+04</td>\n",
       "      <td>0.000000e+00</td>\n",
       "      <td>2.333333e-01</td>\n",
       "      <td>1.400000e+01</td>\n",
       "      <td>2.022000e+03</td>\n",
       "      <td>6.000000e+00</td>\n",
       "      <td>1.500000e+01</td>\n",
       "    </tr>\n",
       "    <tr>\n",
       "      <th>75%</th>\n",
       "      <td>1.248630e+08</td>\n",
       "      <td>1.320000e+03</td>\n",
       "      <td>2.209300e+04</td>\n",
       "      <td>0.000000e+00</td>\n",
       "      <td>3.666667e-01</td>\n",
       "      <td>2.200000e+01</td>\n",
       "      <td>2.022000e+03</td>\n",
       "      <td>9.000000e+00</td>\n",
       "      <td>1.800000e+01</td>\n",
       "    </tr>\n",
       "    <tr>\n",
       "      <th>max</th>\n",
       "      <td>1.316159e+08</td>\n",
       "      <td>5.874600e+05</td>\n",
       "      <td>9.999800e+04</td>\n",
       "      <td>6.500000e+01</td>\n",
       "      <td>1.631833e+02</td>\n",
       "      <td>9.791000e+03</td>\n",
       "      <td>2.023000e+03</td>\n",
       "      <td>1.200000e+01</td>\n",
       "      <td>2.300000e+01</td>\n",
       "    </tr>\n",
       "  </tbody>\n",
       "</table>\n",
       "</div>"
      ],
      "text/plain": [
       "          Rental Id      Duration       Bike Id  Duration Days  \\\n",
       "count  2.606722e+07  2.606722e+07  2.606722e+07   2.606722e+07   \n",
       "mean   1.181858e+08  1.240298e+03  2.304620e+04   1.392017e-03   \n",
       "std    7.735912e+06  3.827923e+03  1.663516e+04   1.195454e-01   \n",
       "min    1.047482e+08  0.000000e+00  1.000000e+00  -1.000000e+00   \n",
       "25%    1.115033e+08  4.920000e+02  1.340000e+04   0.000000e+00   \n",
       "50%    1.181748e+08  8.400000e+02  1.837400e+04   0.000000e+00   \n",
       "75%    1.248630e+08  1.320000e+03  2.209300e+04   0.000000e+00   \n",
       "max    1.316159e+08  5.874600e+05  9.999800e+04   6.500000e+01   \n",
       "\n",
       "       Duration Hours  Duration Minutes    Start Year   Start Month  \\\n",
       "count    2.606722e+07      2.606722e+07  2.606722e+07  2.606722e+07   \n",
       "mean     3.445271e-01      2.067163e+01  2.021728e+03  6.188202e+00   \n",
       "std      1.063312e+00      6.379871e+01  7.011454e-01  3.106090e+00   \n",
       "min      0.000000e+00      0.000000e+00  2.020000e+03  1.000000e+00   \n",
       "25%      1.366667e-01      8.200000e+00  2.021000e+03  4.000000e+00   \n",
       "50%      2.333333e-01      1.400000e+01  2.022000e+03  6.000000e+00   \n",
       "75%      3.666667e-01      2.200000e+01  2.022000e+03  9.000000e+00   \n",
       "max      1.631833e+02      9.791000e+03  2.023000e+03  1.200000e+01   \n",
       "\n",
       "         Start Hour  \n",
       "count  2.606722e+07  \n",
       "mean   1.399801e+01  \n",
       "std    4.977164e+00  \n",
       "min    0.000000e+00  \n",
       "25%    1.000000e+01  \n",
       "50%    1.500000e+01  \n",
       "75%    1.800000e+01  \n",
       "max    2.300000e+01  "
      ]
     },
     "execution_count": 10,
     "metadata": {},
     "output_type": "execute_result"
    }
   ],
   "source": [
    "tfl_cycling_df_preprocessed.describe()"
   ]
  },
  {
   "cell_type": "markdown",
   "metadata": {
    "id": "Sw4l7ReAkj1-"
   },
   "source": [
    "# Exploratory Data Analysis"
   ]
  },
  {
   "cell_type": "markdown",
   "metadata": {
    "id": "DzVgDu3wxnlp"
   },
   "source": [
    "## Rental Anaysis\n",
    "\n",
    "Examine the distribution of rental durations (in seconds) to identify patterns and outliers. This analysis can help understand the typical length of bike rentals."
   ]
  },
  {
   "cell_type": "markdown",
   "metadata": {},
   "source": [
    "### Rental duration by Days"
   ]
  },
  {
   "cell_type": "code",
   "execution_count": 96,
   "metadata": {
    "scrolled": true
   },
   "outputs": [],
   "source": [
    "filtered_df = tfl_cycling_df_preprocessed[tfl_cycling_df_preprocessed['Duration Days'] >= 0]"
   ]
  },
  {
   "cell_type": "code",
   "execution_count": 97,
   "metadata": {
    "id": "42J4r64S6sGO",
    "scrolled": true
   },
   "outputs": [],
   "source": [
    "duration_days_counts = filtered_df['Duration Days'].value_counts()"
   ]
  },
  {
   "cell_type": "code",
   "execution_count": 98,
   "metadata": {
    "scrolled": true
   },
   "outputs": [],
   "source": [
    "duration_days_counts_df = duration_days_counts.reset_index()\n",
    "duration_days_counts_df.columns = ['Duration Days', 'Count']"
   ]
  },
  {
   "cell_type": "code",
   "execution_count": 109,
   "metadata": {
    "scrolled": true
   },
   "outputs": [
    {
     "data": {
      "application/vnd.plotly.v1+json": {
       "config": {
        "plotlyServerURL": "https://plot.ly"
       },
       "data": [
        {
         "alignmentgroup": "True",
         "bingroup": "x",
         "histfunc": "sum",
         "hovertemplate": "BarColor=DarkBlue<br>Duration Days=%{x}<br>sum of Count=%{y}<extra></extra>",
         "legendgroup": "DarkBlue",
         "marker": {
          "color": "DarkBlue",
          "pattern": {
           "shape": ""
          }
         },
         "name": "DarkBlue",
         "nbinsx": 30,
         "offsetgroup": "DarkBlue",
         "orientation": "v",
         "showlegend": true,
         "textposition": "outside",
         "texttemplate": "%{y}",
         "type": "histogram",
         "x": [
          0
         ],
         "xaxis": "x",
         "y": [
          26055321
         ],
         "yaxis": "y"
        },
        {
         "alignmentgroup": "True",
         "bingroup": "x",
         "histfunc": "sum",
         "hovertemplate": "BarColor=SkyBlue<br>Duration Days=%{x}<br>sum of Count=%{y}<extra></extra>",
         "legendgroup": "SkyBlue",
         "marker": {
          "color": "SkyBlue",
          "pattern": {
           "shape": ""
          }
         },
         "name": "SkyBlue",
         "nbinsx": 30,
         "offsetgroup": "SkyBlue",
         "orientation": "v",
         "showlegend": true,
         "textposition": "outside",
         "texttemplate": "%{y}",
         "type": "histogram",
         "x": [
          1,
          2,
          3,
          4,
          5,
          6,
          7,
          8,
          9,
          10,
          11,
          12,
          13,
          15,
          16,
          14,
          17,
          21,
          25,
          18,
          35,
          27,
          29,
          23,
          20,
          36,
          19,
          38,
          37,
          53,
          22,
          33,
          24,
          31,
          47,
          34,
          32,
          28,
          41,
          46,
          44,
          48,
          40,
          42,
          26,
          58,
          51,
          52,
          45,
          39,
          57,
          49,
          50,
          54,
          59,
          63,
          65,
          62,
          60,
          30
         ],
         "xaxis": "x",
         "y": [
          5694,
          2189,
          1194,
          659,
          413,
          272,
          226,
          160,
          154,
          148,
          147,
          132,
          96,
          21,
          17,
          16,
          13,
          9,
          8,
          7,
          7,
          7,
          7,
          6,
          6,
          6,
          5,
          5,
          5,
          5,
          5,
          5,
          5,
          5,
          4,
          4,
          4,
          4,
          3,
          3,
          3,
          2,
          2,
          2,
          2,
          2,
          2,
          2,
          2,
          2,
          2,
          1,
          1,
          1,
          1,
          1,
          1,
          1,
          1,
          1
         ],
         "yaxis": "y"
        }
       ],
       "layout": {
        "barmode": "relative",
        "legend": {
         "title": {
          "text": "BarColor"
         },
         "tracegroupgap": 0
        },
        "template": {
         "data": {
          "bar": [
           {
            "error_x": {
             "color": "#2a3f5f"
            },
            "error_y": {
             "color": "#2a3f5f"
            },
            "marker": {
             "line": {
              "color": "#E5ECF6",
              "width": 0.5
             },
             "pattern": {
              "fillmode": "overlay",
              "size": 10,
              "solidity": 0.2
             }
            },
            "type": "bar"
           }
          ],
          "barpolar": [
           {
            "marker": {
             "line": {
              "color": "#E5ECF6",
              "width": 0.5
             },
             "pattern": {
              "fillmode": "overlay",
              "size": 10,
              "solidity": 0.2
             }
            },
            "type": "barpolar"
           }
          ],
          "carpet": [
           {
            "aaxis": {
             "endlinecolor": "#2a3f5f",
             "gridcolor": "white",
             "linecolor": "white",
             "minorgridcolor": "white",
             "startlinecolor": "#2a3f5f"
            },
            "baxis": {
             "endlinecolor": "#2a3f5f",
             "gridcolor": "white",
             "linecolor": "white",
             "minorgridcolor": "white",
             "startlinecolor": "#2a3f5f"
            },
            "type": "carpet"
           }
          ],
          "choropleth": [
           {
            "colorbar": {
             "outlinewidth": 0,
             "ticks": ""
            },
            "type": "choropleth"
           }
          ],
          "contour": [
           {
            "colorbar": {
             "outlinewidth": 0,
             "ticks": ""
            },
            "colorscale": [
             [
              0,
              "#0d0887"
             ],
             [
              0.1111111111111111,
              "#46039f"
             ],
             [
              0.2222222222222222,
              "#7201a8"
             ],
             [
              0.3333333333333333,
              "#9c179e"
             ],
             [
              0.4444444444444444,
              "#bd3786"
             ],
             [
              0.5555555555555556,
              "#d8576b"
             ],
             [
              0.6666666666666666,
              "#ed7953"
             ],
             [
              0.7777777777777778,
              "#fb9f3a"
             ],
             [
              0.8888888888888888,
              "#fdca26"
             ],
             [
              1,
              "#f0f921"
             ]
            ],
            "type": "contour"
           }
          ],
          "contourcarpet": [
           {
            "colorbar": {
             "outlinewidth": 0,
             "ticks": ""
            },
            "type": "contourcarpet"
           }
          ],
          "heatmap": [
           {
            "colorbar": {
             "outlinewidth": 0,
             "ticks": ""
            },
            "colorscale": [
             [
              0,
              "#0d0887"
             ],
             [
              0.1111111111111111,
              "#46039f"
             ],
             [
              0.2222222222222222,
              "#7201a8"
             ],
             [
              0.3333333333333333,
              "#9c179e"
             ],
             [
              0.4444444444444444,
              "#bd3786"
             ],
             [
              0.5555555555555556,
              "#d8576b"
             ],
             [
              0.6666666666666666,
              "#ed7953"
             ],
             [
              0.7777777777777778,
              "#fb9f3a"
             ],
             [
              0.8888888888888888,
              "#fdca26"
             ],
             [
              1,
              "#f0f921"
             ]
            ],
            "type": "heatmap"
           }
          ],
          "heatmapgl": [
           {
            "colorbar": {
             "outlinewidth": 0,
             "ticks": ""
            },
            "colorscale": [
             [
              0,
              "#0d0887"
             ],
             [
              0.1111111111111111,
              "#46039f"
             ],
             [
              0.2222222222222222,
              "#7201a8"
             ],
             [
              0.3333333333333333,
              "#9c179e"
             ],
             [
              0.4444444444444444,
              "#bd3786"
             ],
             [
              0.5555555555555556,
              "#d8576b"
             ],
             [
              0.6666666666666666,
              "#ed7953"
             ],
             [
              0.7777777777777778,
              "#fb9f3a"
             ],
             [
              0.8888888888888888,
              "#fdca26"
             ],
             [
              1,
              "#f0f921"
             ]
            ],
            "type": "heatmapgl"
           }
          ],
          "histogram": [
           {
            "marker": {
             "pattern": {
              "fillmode": "overlay",
              "size": 10,
              "solidity": 0.2
             }
            },
            "type": "histogram"
           }
          ],
          "histogram2d": [
           {
            "colorbar": {
             "outlinewidth": 0,
             "ticks": ""
            },
            "colorscale": [
             [
              0,
              "#0d0887"
             ],
             [
              0.1111111111111111,
              "#46039f"
             ],
             [
              0.2222222222222222,
              "#7201a8"
             ],
             [
              0.3333333333333333,
              "#9c179e"
             ],
             [
              0.4444444444444444,
              "#bd3786"
             ],
             [
              0.5555555555555556,
              "#d8576b"
             ],
             [
              0.6666666666666666,
              "#ed7953"
             ],
             [
              0.7777777777777778,
              "#fb9f3a"
             ],
             [
              0.8888888888888888,
              "#fdca26"
             ],
             [
              1,
              "#f0f921"
             ]
            ],
            "type": "histogram2d"
           }
          ],
          "histogram2dcontour": [
           {
            "colorbar": {
             "outlinewidth": 0,
             "ticks": ""
            },
            "colorscale": [
             [
              0,
              "#0d0887"
             ],
             [
              0.1111111111111111,
              "#46039f"
             ],
             [
              0.2222222222222222,
              "#7201a8"
             ],
             [
              0.3333333333333333,
              "#9c179e"
             ],
             [
              0.4444444444444444,
              "#bd3786"
             ],
             [
              0.5555555555555556,
              "#d8576b"
             ],
             [
              0.6666666666666666,
              "#ed7953"
             ],
             [
              0.7777777777777778,
              "#fb9f3a"
             ],
             [
              0.8888888888888888,
              "#fdca26"
             ],
             [
              1,
              "#f0f921"
             ]
            ],
            "type": "histogram2dcontour"
           }
          ],
          "mesh3d": [
           {
            "colorbar": {
             "outlinewidth": 0,
             "ticks": ""
            },
            "type": "mesh3d"
           }
          ],
          "parcoords": [
           {
            "line": {
             "colorbar": {
              "outlinewidth": 0,
              "ticks": ""
             }
            },
            "type": "parcoords"
           }
          ],
          "pie": [
           {
            "automargin": true,
            "type": "pie"
           }
          ],
          "scatter": [
           {
            "fillpattern": {
             "fillmode": "overlay",
             "size": 10,
             "solidity": 0.2
            },
            "type": "scatter"
           }
          ],
          "scatter3d": [
           {
            "line": {
             "colorbar": {
              "outlinewidth": 0,
              "ticks": ""
             }
            },
            "marker": {
             "colorbar": {
              "outlinewidth": 0,
              "ticks": ""
             }
            },
            "type": "scatter3d"
           }
          ],
          "scattercarpet": [
           {
            "marker": {
             "colorbar": {
              "outlinewidth": 0,
              "ticks": ""
             }
            },
            "type": "scattercarpet"
           }
          ],
          "scattergeo": [
           {
            "marker": {
             "colorbar": {
              "outlinewidth": 0,
              "ticks": ""
             }
            },
            "type": "scattergeo"
           }
          ],
          "scattergl": [
           {
            "marker": {
             "colorbar": {
              "outlinewidth": 0,
              "ticks": ""
             }
            },
            "type": "scattergl"
           }
          ],
          "scattermapbox": [
           {
            "marker": {
             "colorbar": {
              "outlinewidth": 0,
              "ticks": ""
             }
            },
            "type": "scattermapbox"
           }
          ],
          "scatterpolar": [
           {
            "marker": {
             "colorbar": {
              "outlinewidth": 0,
              "ticks": ""
             }
            },
            "type": "scatterpolar"
           }
          ],
          "scatterpolargl": [
           {
            "marker": {
             "colorbar": {
              "outlinewidth": 0,
              "ticks": ""
             }
            },
            "type": "scatterpolargl"
           }
          ],
          "scatterternary": [
           {
            "marker": {
             "colorbar": {
              "outlinewidth": 0,
              "ticks": ""
             }
            },
            "type": "scatterternary"
           }
          ],
          "surface": [
           {
            "colorbar": {
             "outlinewidth": 0,
             "ticks": ""
            },
            "colorscale": [
             [
              0,
              "#0d0887"
             ],
             [
              0.1111111111111111,
              "#46039f"
             ],
             [
              0.2222222222222222,
              "#7201a8"
             ],
             [
              0.3333333333333333,
              "#9c179e"
             ],
             [
              0.4444444444444444,
              "#bd3786"
             ],
             [
              0.5555555555555556,
              "#d8576b"
             ],
             [
              0.6666666666666666,
              "#ed7953"
             ],
             [
              0.7777777777777778,
              "#fb9f3a"
             ],
             [
              0.8888888888888888,
              "#fdca26"
             ],
             [
              1,
              "#f0f921"
             ]
            ],
            "type": "surface"
           }
          ],
          "table": [
           {
            "cells": {
             "fill": {
              "color": "#EBF0F8"
             },
             "line": {
              "color": "white"
             }
            },
            "header": {
             "fill": {
              "color": "#C8D4E3"
             },
             "line": {
              "color": "white"
             }
            },
            "type": "table"
           }
          ]
         },
         "layout": {
          "annotationdefaults": {
           "arrowcolor": "#2a3f5f",
           "arrowhead": 0,
           "arrowwidth": 1
          },
          "autotypenumbers": "strict",
          "coloraxis": {
           "colorbar": {
            "outlinewidth": 0,
            "ticks": ""
           }
          },
          "colorscale": {
           "diverging": [
            [
             0,
             "#8e0152"
            ],
            [
             0.1,
             "#c51b7d"
            ],
            [
             0.2,
             "#de77ae"
            ],
            [
             0.3,
             "#f1b6da"
            ],
            [
             0.4,
             "#fde0ef"
            ],
            [
             0.5,
             "#f7f7f7"
            ],
            [
             0.6,
             "#e6f5d0"
            ],
            [
             0.7,
             "#b8e186"
            ],
            [
             0.8,
             "#7fbc41"
            ],
            [
             0.9,
             "#4d9221"
            ],
            [
             1,
             "#276419"
            ]
           ],
           "sequential": [
            [
             0,
             "#0d0887"
            ],
            [
             0.1111111111111111,
             "#46039f"
            ],
            [
             0.2222222222222222,
             "#7201a8"
            ],
            [
             0.3333333333333333,
             "#9c179e"
            ],
            [
             0.4444444444444444,
             "#bd3786"
            ],
            [
             0.5555555555555556,
             "#d8576b"
            ],
            [
             0.6666666666666666,
             "#ed7953"
            ],
            [
             0.7777777777777778,
             "#fb9f3a"
            ],
            [
             0.8888888888888888,
             "#fdca26"
            ],
            [
             1,
             "#f0f921"
            ]
           ],
           "sequentialminus": [
            [
             0,
             "#0d0887"
            ],
            [
             0.1111111111111111,
             "#46039f"
            ],
            [
             0.2222222222222222,
             "#7201a8"
            ],
            [
             0.3333333333333333,
             "#9c179e"
            ],
            [
             0.4444444444444444,
             "#bd3786"
            ],
            [
             0.5555555555555556,
             "#d8576b"
            ],
            [
             0.6666666666666666,
             "#ed7953"
            ],
            [
             0.7777777777777778,
             "#fb9f3a"
            ],
            [
             0.8888888888888888,
             "#fdca26"
            ],
            [
             1,
             "#f0f921"
            ]
           ]
          },
          "colorway": [
           "#636efa",
           "#EF553B",
           "#00cc96",
           "#ab63fa",
           "#FFA15A",
           "#19d3f3",
           "#FF6692",
           "#B6E880",
           "#FF97FF",
           "#FECB52"
          ],
          "font": {
           "color": "#2a3f5f"
          },
          "geo": {
           "bgcolor": "white",
           "lakecolor": "white",
           "landcolor": "#E5ECF6",
           "showlakes": true,
           "showland": true,
           "subunitcolor": "white"
          },
          "hoverlabel": {
           "align": "left"
          },
          "hovermode": "closest",
          "mapbox": {
           "style": "light"
          },
          "paper_bgcolor": "white",
          "plot_bgcolor": "#E5ECF6",
          "polar": {
           "angularaxis": {
            "gridcolor": "white",
            "linecolor": "white",
            "ticks": ""
           },
           "bgcolor": "#E5ECF6",
           "radialaxis": {
            "gridcolor": "white",
            "linecolor": "white",
            "ticks": ""
           }
          },
          "scene": {
           "xaxis": {
            "backgroundcolor": "#E5ECF6",
            "gridcolor": "white",
            "gridwidth": 2,
            "linecolor": "white",
            "showbackground": true,
            "ticks": "",
            "zerolinecolor": "white"
           },
           "yaxis": {
            "backgroundcolor": "#E5ECF6",
            "gridcolor": "white",
            "gridwidth": 2,
            "linecolor": "white",
            "showbackground": true,
            "ticks": "",
            "zerolinecolor": "white"
           },
           "zaxis": {
            "backgroundcolor": "#E5ECF6",
            "gridcolor": "white",
            "gridwidth": 2,
            "linecolor": "white",
            "showbackground": true,
            "ticks": "",
            "zerolinecolor": "white"
           }
          },
          "shapedefaults": {
           "line": {
            "color": "#2a3f5f"
           }
          },
          "ternary": {
           "aaxis": {
            "gridcolor": "white",
            "linecolor": "white",
            "ticks": ""
           },
           "baxis": {
            "gridcolor": "white",
            "linecolor": "white",
            "ticks": ""
           },
           "bgcolor": "#E5ECF6",
           "caxis": {
            "gridcolor": "white",
            "linecolor": "white",
            "ticks": ""
           }
          },
          "title": {
           "x": 0.05
          },
          "xaxis": {
           "automargin": true,
           "gridcolor": "white",
           "linecolor": "white",
           "ticks": "",
           "title": {
            "standoff": 15
           },
           "zerolinecolor": "white",
           "zerolinewidth": 2
          },
          "yaxis": {
           "automargin": true,
           "gridcolor": "white",
           "linecolor": "white",
           "ticks": "",
           "title": {
            "standoff": 15
           },
           "zerolinecolor": "white",
           "zerolinewidth": 2
          }
         }
        },
        "title": {
         "text": "Distribution of Rental Durations in Days"
        },
        "xaxis": {
         "anchor": "y",
         "domain": [
          0,
          1
         ],
         "title": {
          "text": "Duration (Days)"
         }
        },
        "yaxis": {
         "anchor": "x",
         "domain": [
          0,
          1
         ],
         "title": {
          "text": "Number of Rentals"
         },
         "type": "log"
        }
       }
      },
      "text/html": [
       "<div>                            <div id=\"c33604bd-7e6a-4e41-aec3-48ea868e4e7d\" class=\"plotly-graph-div\" style=\"height:525px; width:100%;\"></div>            <script type=\"text/javascript\">                require([\"plotly\"], function(Plotly) {                    window.PLOTLYENV=window.PLOTLYENV || {};                                    if (document.getElementById(\"c33604bd-7e6a-4e41-aec3-48ea868e4e7d\")) {                    Plotly.newPlot(                        \"c33604bd-7e6a-4e41-aec3-48ea868e4e7d\",                        [{\"alignmentgroup\":\"True\",\"bingroup\":\"x\",\"histfunc\":\"sum\",\"hovertemplate\":\"BarColor=DarkBlue<br>Duration Days=%{x}<br>sum of Count=%{y}<extra></extra>\",\"legendgroup\":\"DarkBlue\",\"marker\":{\"color\":\"DarkBlue\",\"pattern\":{\"shape\":\"\"}},\"name\":\"DarkBlue\",\"nbinsx\":30,\"offsetgroup\":\"DarkBlue\",\"orientation\":\"v\",\"showlegend\":true,\"x\":[0],\"xaxis\":\"x\",\"y\":[26055321],\"yaxis\":\"y\",\"type\":\"histogram\",\"textposition\":\"outside\",\"texttemplate\":\"%{y}\"},{\"alignmentgroup\":\"True\",\"bingroup\":\"x\",\"histfunc\":\"sum\",\"hovertemplate\":\"BarColor=SkyBlue<br>Duration Days=%{x}<br>sum of Count=%{y}<extra></extra>\",\"legendgroup\":\"SkyBlue\",\"marker\":{\"color\":\"SkyBlue\",\"pattern\":{\"shape\":\"\"}},\"name\":\"SkyBlue\",\"nbinsx\":30,\"offsetgroup\":\"SkyBlue\",\"orientation\":\"v\",\"showlegend\":true,\"x\":[1,2,3,4,5,6,7,8,9,10,11,12,13,15,16,14,17,21,25,18,35,27,29,23,20,36,19,38,37,53,22,33,24,31,47,34,32,28,41,46,44,48,40,42,26,58,51,52,45,39,57,49,50,54,59,63,65,62,60,30],\"xaxis\":\"x\",\"y\":[5694,2189,1194,659,413,272,226,160,154,148,147,132,96,21,17,16,13,9,8,7,7,7,7,6,6,6,5,5,5,5,5,5,5,5,4,4,4,4,3,3,3,2,2,2,2,2,2,2,2,2,2,1,1,1,1,1,1,1,1,1],\"yaxis\":\"y\",\"type\":\"histogram\",\"textposition\":\"outside\",\"texttemplate\":\"%{y}\"}],                        {\"template\":{\"data\":{\"histogram2dcontour\":[{\"type\":\"histogram2dcontour\",\"colorbar\":{\"outlinewidth\":0,\"ticks\":\"\"},\"colorscale\":[[0.0,\"#0d0887\"],[0.1111111111111111,\"#46039f\"],[0.2222222222222222,\"#7201a8\"],[0.3333333333333333,\"#9c179e\"],[0.4444444444444444,\"#bd3786\"],[0.5555555555555556,\"#d8576b\"],[0.6666666666666666,\"#ed7953\"],[0.7777777777777778,\"#fb9f3a\"],[0.8888888888888888,\"#fdca26\"],[1.0,\"#f0f921\"]]}],\"choropleth\":[{\"type\":\"choropleth\",\"colorbar\":{\"outlinewidth\":0,\"ticks\":\"\"}}],\"histogram2d\":[{\"type\":\"histogram2d\",\"colorbar\":{\"outlinewidth\":0,\"ticks\":\"\"},\"colorscale\":[[0.0,\"#0d0887\"],[0.1111111111111111,\"#46039f\"],[0.2222222222222222,\"#7201a8\"],[0.3333333333333333,\"#9c179e\"],[0.4444444444444444,\"#bd3786\"],[0.5555555555555556,\"#d8576b\"],[0.6666666666666666,\"#ed7953\"],[0.7777777777777778,\"#fb9f3a\"],[0.8888888888888888,\"#fdca26\"],[1.0,\"#f0f921\"]]}],\"heatmap\":[{\"type\":\"heatmap\",\"colorbar\":{\"outlinewidth\":0,\"ticks\":\"\"},\"colorscale\":[[0.0,\"#0d0887\"],[0.1111111111111111,\"#46039f\"],[0.2222222222222222,\"#7201a8\"],[0.3333333333333333,\"#9c179e\"],[0.4444444444444444,\"#bd3786\"],[0.5555555555555556,\"#d8576b\"],[0.6666666666666666,\"#ed7953\"],[0.7777777777777778,\"#fb9f3a\"],[0.8888888888888888,\"#fdca26\"],[1.0,\"#f0f921\"]]}],\"heatmapgl\":[{\"type\":\"heatmapgl\",\"colorbar\":{\"outlinewidth\":0,\"ticks\":\"\"},\"colorscale\":[[0.0,\"#0d0887\"],[0.1111111111111111,\"#46039f\"],[0.2222222222222222,\"#7201a8\"],[0.3333333333333333,\"#9c179e\"],[0.4444444444444444,\"#bd3786\"],[0.5555555555555556,\"#d8576b\"],[0.6666666666666666,\"#ed7953\"],[0.7777777777777778,\"#fb9f3a\"],[0.8888888888888888,\"#fdca26\"],[1.0,\"#f0f921\"]]}],\"contourcarpet\":[{\"type\":\"contourcarpet\",\"colorbar\":{\"outlinewidth\":0,\"ticks\":\"\"}}],\"contour\":[{\"type\":\"contour\",\"colorbar\":{\"outlinewidth\":0,\"ticks\":\"\"},\"colorscale\":[[0.0,\"#0d0887\"],[0.1111111111111111,\"#46039f\"],[0.2222222222222222,\"#7201a8\"],[0.3333333333333333,\"#9c179e\"],[0.4444444444444444,\"#bd3786\"],[0.5555555555555556,\"#d8576b\"],[0.6666666666666666,\"#ed7953\"],[0.7777777777777778,\"#fb9f3a\"],[0.8888888888888888,\"#fdca26\"],[1.0,\"#f0f921\"]]}],\"surface\":[{\"type\":\"surface\",\"colorbar\":{\"outlinewidth\":0,\"ticks\":\"\"},\"colorscale\":[[0.0,\"#0d0887\"],[0.1111111111111111,\"#46039f\"],[0.2222222222222222,\"#7201a8\"],[0.3333333333333333,\"#9c179e\"],[0.4444444444444444,\"#bd3786\"],[0.5555555555555556,\"#d8576b\"],[0.6666666666666666,\"#ed7953\"],[0.7777777777777778,\"#fb9f3a\"],[0.8888888888888888,\"#fdca26\"],[1.0,\"#f0f921\"]]}],\"mesh3d\":[{\"type\":\"mesh3d\",\"colorbar\":{\"outlinewidth\":0,\"ticks\":\"\"}}],\"scatter\":[{\"fillpattern\":{\"fillmode\":\"overlay\",\"size\":10,\"solidity\":0.2},\"type\":\"scatter\"}],\"parcoords\":[{\"type\":\"parcoords\",\"line\":{\"colorbar\":{\"outlinewidth\":0,\"ticks\":\"\"}}}],\"scatterpolargl\":[{\"type\":\"scatterpolargl\",\"marker\":{\"colorbar\":{\"outlinewidth\":0,\"ticks\":\"\"}}}],\"bar\":[{\"error_x\":{\"color\":\"#2a3f5f\"},\"error_y\":{\"color\":\"#2a3f5f\"},\"marker\":{\"line\":{\"color\":\"#E5ECF6\",\"width\":0.5},\"pattern\":{\"fillmode\":\"overlay\",\"size\":10,\"solidity\":0.2}},\"type\":\"bar\"}],\"scattergeo\":[{\"type\":\"scattergeo\",\"marker\":{\"colorbar\":{\"outlinewidth\":0,\"ticks\":\"\"}}}],\"scatterpolar\":[{\"type\":\"scatterpolar\",\"marker\":{\"colorbar\":{\"outlinewidth\":0,\"ticks\":\"\"}}}],\"histogram\":[{\"marker\":{\"pattern\":{\"fillmode\":\"overlay\",\"size\":10,\"solidity\":0.2}},\"type\":\"histogram\"}],\"scattergl\":[{\"type\":\"scattergl\",\"marker\":{\"colorbar\":{\"outlinewidth\":0,\"ticks\":\"\"}}}],\"scatter3d\":[{\"type\":\"scatter3d\",\"line\":{\"colorbar\":{\"outlinewidth\":0,\"ticks\":\"\"}},\"marker\":{\"colorbar\":{\"outlinewidth\":0,\"ticks\":\"\"}}}],\"scattermapbox\":[{\"type\":\"scattermapbox\",\"marker\":{\"colorbar\":{\"outlinewidth\":0,\"ticks\":\"\"}}}],\"scatterternary\":[{\"type\":\"scatterternary\",\"marker\":{\"colorbar\":{\"outlinewidth\":0,\"ticks\":\"\"}}}],\"scattercarpet\":[{\"type\":\"scattercarpet\",\"marker\":{\"colorbar\":{\"outlinewidth\":0,\"ticks\":\"\"}}}],\"carpet\":[{\"aaxis\":{\"endlinecolor\":\"#2a3f5f\",\"gridcolor\":\"white\",\"linecolor\":\"white\",\"minorgridcolor\":\"white\",\"startlinecolor\":\"#2a3f5f\"},\"baxis\":{\"endlinecolor\":\"#2a3f5f\",\"gridcolor\":\"white\",\"linecolor\":\"white\",\"minorgridcolor\":\"white\",\"startlinecolor\":\"#2a3f5f\"},\"type\":\"carpet\"}],\"table\":[{\"cells\":{\"fill\":{\"color\":\"#EBF0F8\"},\"line\":{\"color\":\"white\"}},\"header\":{\"fill\":{\"color\":\"#C8D4E3\"},\"line\":{\"color\":\"white\"}},\"type\":\"table\"}],\"barpolar\":[{\"marker\":{\"line\":{\"color\":\"#E5ECF6\",\"width\":0.5},\"pattern\":{\"fillmode\":\"overlay\",\"size\":10,\"solidity\":0.2}},\"type\":\"barpolar\"}],\"pie\":[{\"automargin\":true,\"type\":\"pie\"}]},\"layout\":{\"autotypenumbers\":\"strict\",\"colorway\":[\"#636efa\",\"#EF553B\",\"#00cc96\",\"#ab63fa\",\"#FFA15A\",\"#19d3f3\",\"#FF6692\",\"#B6E880\",\"#FF97FF\",\"#FECB52\"],\"font\":{\"color\":\"#2a3f5f\"},\"hovermode\":\"closest\",\"hoverlabel\":{\"align\":\"left\"},\"paper_bgcolor\":\"white\",\"plot_bgcolor\":\"#E5ECF6\",\"polar\":{\"bgcolor\":\"#E5ECF6\",\"angularaxis\":{\"gridcolor\":\"white\",\"linecolor\":\"white\",\"ticks\":\"\"},\"radialaxis\":{\"gridcolor\":\"white\",\"linecolor\":\"white\",\"ticks\":\"\"}},\"ternary\":{\"bgcolor\":\"#E5ECF6\",\"aaxis\":{\"gridcolor\":\"white\",\"linecolor\":\"white\",\"ticks\":\"\"},\"baxis\":{\"gridcolor\":\"white\",\"linecolor\":\"white\",\"ticks\":\"\"},\"caxis\":{\"gridcolor\":\"white\",\"linecolor\":\"white\",\"ticks\":\"\"}},\"coloraxis\":{\"colorbar\":{\"outlinewidth\":0,\"ticks\":\"\"}},\"colorscale\":{\"sequential\":[[0.0,\"#0d0887\"],[0.1111111111111111,\"#46039f\"],[0.2222222222222222,\"#7201a8\"],[0.3333333333333333,\"#9c179e\"],[0.4444444444444444,\"#bd3786\"],[0.5555555555555556,\"#d8576b\"],[0.6666666666666666,\"#ed7953\"],[0.7777777777777778,\"#fb9f3a\"],[0.8888888888888888,\"#fdca26\"],[1.0,\"#f0f921\"]],\"sequentialminus\":[[0.0,\"#0d0887\"],[0.1111111111111111,\"#46039f\"],[0.2222222222222222,\"#7201a8\"],[0.3333333333333333,\"#9c179e\"],[0.4444444444444444,\"#bd3786\"],[0.5555555555555556,\"#d8576b\"],[0.6666666666666666,\"#ed7953\"],[0.7777777777777778,\"#fb9f3a\"],[0.8888888888888888,\"#fdca26\"],[1.0,\"#f0f921\"]],\"diverging\":[[0,\"#8e0152\"],[0.1,\"#c51b7d\"],[0.2,\"#de77ae\"],[0.3,\"#f1b6da\"],[0.4,\"#fde0ef\"],[0.5,\"#f7f7f7\"],[0.6,\"#e6f5d0\"],[0.7,\"#b8e186\"],[0.8,\"#7fbc41\"],[0.9,\"#4d9221\"],[1,\"#276419\"]]},\"xaxis\":{\"gridcolor\":\"white\",\"linecolor\":\"white\",\"ticks\":\"\",\"title\":{\"standoff\":15},\"zerolinecolor\":\"white\",\"automargin\":true,\"zerolinewidth\":2},\"yaxis\":{\"gridcolor\":\"white\",\"linecolor\":\"white\",\"ticks\":\"\",\"title\":{\"standoff\":15},\"zerolinecolor\":\"white\",\"automargin\":true,\"zerolinewidth\":2},\"scene\":{\"xaxis\":{\"backgroundcolor\":\"#E5ECF6\",\"gridcolor\":\"white\",\"linecolor\":\"white\",\"showbackground\":true,\"ticks\":\"\",\"zerolinecolor\":\"white\",\"gridwidth\":2},\"yaxis\":{\"backgroundcolor\":\"#E5ECF6\",\"gridcolor\":\"white\",\"linecolor\":\"white\",\"showbackground\":true,\"ticks\":\"\",\"zerolinecolor\":\"white\",\"gridwidth\":2},\"zaxis\":{\"backgroundcolor\":\"#E5ECF6\",\"gridcolor\":\"white\",\"linecolor\":\"white\",\"showbackground\":true,\"ticks\":\"\",\"zerolinecolor\":\"white\",\"gridwidth\":2}},\"shapedefaults\":{\"line\":{\"color\":\"#2a3f5f\"}},\"annotationdefaults\":{\"arrowcolor\":\"#2a3f5f\",\"arrowhead\":0,\"arrowwidth\":1},\"geo\":{\"bgcolor\":\"white\",\"landcolor\":\"#E5ECF6\",\"subunitcolor\":\"white\",\"showland\":true,\"showlakes\":true,\"lakecolor\":\"white\"},\"title\":{\"x\":0.05},\"mapbox\":{\"style\":\"light\"}}},\"xaxis\":{\"anchor\":\"y\",\"domain\":[0.0,1.0],\"title\":{\"text\":\"Duration (Days)\"}},\"yaxis\":{\"anchor\":\"x\",\"domain\":[0.0,1.0],\"title\":{\"text\":\"Number of Rentals\"},\"type\":\"log\"},\"legend\":{\"title\":{\"text\":\"BarColor\"},\"tracegroupgap\":0},\"title\":{\"text\":\"Distribution of Rental Durations in Days\"},\"barmode\":\"relative\"},                        {\"responsive\": true}                    ).then(function(){\n",
       "                            \n",
       "var gd = document.getElementById('c33604bd-7e6a-4e41-aec3-48ea868e4e7d');\n",
       "var x = new MutationObserver(function (mutations, observer) {{\n",
       "        var display = window.getComputedStyle(gd).display;\n",
       "        if (!display || display === 'none') {{\n",
       "            console.log([gd, 'removed!']);\n",
       "            Plotly.purge(gd);\n",
       "            observer.disconnect();\n",
       "        }}\n",
       "}});\n",
       "\n",
       "// Listen for the removal of the full notebook cells\n",
       "var notebookContainer = gd.closest('#notebook-container');\n",
       "if (notebookContainer) {{\n",
       "    x.observe(notebookContainer, {childList: true});\n",
       "}}\n",
       "\n",
       "// Listen for the clearing of the current output cell\n",
       "var outputEl = gd.closest('.output');\n",
       "if (outputEl) {{\n",
       "    x.observe(outputEl, {childList: true});\n",
       "}}\n",
       "\n",
       "                        })                };                });            </script>        </div>"
      ]
     },
     "metadata": {},
     "output_type": "display_data"
    }
   ],
   "source": [
    "# Find the maximum count\n",
    "max_count = duration_days_counts_df['Count'].max()\n",
    "\n",
    "# Define a custom color mapping function\n",
    "def set_color(count):\n",
    "    if count == max_count:\n",
    "        return 'DarkBlue'\n",
    "    else:\n",
    "        return 'SkyBlue'\n",
    "\n",
    "# Apply the color mapping function to create a new column for colors\n",
    "duration_days_counts_df['BarColor'] = duration_days_counts_df['Count'].apply(set_color)\n",
    "\n",
    "# Create a histogram with custom colors\n",
    "fig = px.histogram(\n",
    "    duration_days_counts_df,\n",
    "    x='Duration Days',\n",
    "    y='Count',\n",
    "    title='Distribution of Rental Durations in Days',\n",
    "    color='BarColor',\n",
    "    color_discrete_map={'DarkBlue': 'DarkBlue', 'SkyBlue': 'SkyBlue'},\n",
    "    log_y=True,\n",
    "    nbins = 30\n",
    ")\n",
    "fig.update_xaxes(title_text='Duration (Days)')\n",
    "fig.update_yaxes(title_text='Number of Rentals')\n",
    "\n",
    "# Add text annotations to the bars\n",
    "fig.update_traces(texttemplate='%{y}', textposition='outside')\n",
    "\n",
    "# Show the Plotly figure\n",
    "fig.show()\n"
   ]
  },
  {
   "cell_type": "markdown",
   "metadata": {},
   "source": [
    "A significant majority of customers opt for short-term rentals, typically returning the rented bikes on the same day"
   ]
  },
  {
   "cell_type": "markdown",
   "metadata": {},
   "source": [
    "### Rental duration by Hours"
   ]
  },
  {
   "cell_type": "code",
   "execution_count": 61,
   "metadata": {
    "id": "dv0hfmpaXzWz",
    "scrolled": true
   },
   "outputs": [],
   "source": [
    "duration_hours_counts = filtered_df['Duration Hours'].value_counts()"
   ]
  },
  {
   "cell_type": "code",
   "execution_count": 62,
   "metadata": {
    "scrolled": true
   },
   "outputs": [],
   "source": [
    "duration_hours_counts_df = duration_hours_counts.reset_index()\n",
    "duration_hours_counts_df.columns = ['Duration Hour', 'Count']\n"
   ]
  },
  {
   "cell_type": "code",
   "execution_count": 63,
   "metadata": {
    "scrolled": true
   },
   "outputs": [
    {
     "data": {
      "text/html": [
       "<div>\n",
       "<style scoped>\n",
       "    .dataframe tbody tr th:only-of-type {\n",
       "        vertical-align: middle;\n",
       "    }\n",
       "\n",
       "    .dataframe tbody tr th {\n",
       "        vertical-align: top;\n",
       "    }\n",
       "\n",
       "    .dataframe thead th {\n",
       "        text-align: right;\n",
       "    }\n",
       "</style>\n",
       "<table border=\"1\" class=\"dataframe\">\n",
       "  <thead>\n",
       "    <tr style=\"text-align: right;\">\n",
       "      <th></th>\n",
       "      <th>Duration Hour</th>\n",
       "      <th>Count</th>\n",
       "    </tr>\n",
       "  </thead>\n",
       "  <tbody>\n",
       "    <tr>\n",
       "      <th>0</th>\n",
       "      <td>0.150000</td>\n",
       "      <td>903954</td>\n",
       "    </tr>\n",
       "    <tr>\n",
       "      <th>1</th>\n",
       "      <td>0.133333</td>\n",
       "      <td>898909</td>\n",
       "    </tr>\n",
       "    <tr>\n",
       "      <th>2</th>\n",
       "      <td>0.166667</td>\n",
       "      <td>892736</td>\n",
       "    </tr>\n",
       "    <tr>\n",
       "      <th>3</th>\n",
       "      <td>0.116667</td>\n",
       "      <td>879368</td>\n",
       "    </tr>\n",
       "    <tr>\n",
       "      <th>4</th>\n",
       "      <td>0.183333</td>\n",
       "      <td>874192</td>\n",
       "    </tr>\n",
       "    <tr>\n",
       "      <th>...</th>\n",
       "      <td>...</td>\n",
       "      <td>...</td>\n",
       "    </tr>\n",
       "    <tr>\n",
       "      <th>30739</th>\n",
       "      <td>17.618889</td>\n",
       "      <td>1</td>\n",
       "    </tr>\n",
       "    <tr>\n",
       "      <th>30740</th>\n",
       "      <td>67.016667</td>\n",
       "      <td>1</td>\n",
       "    </tr>\n",
       "    <tr>\n",
       "      <th>30741</th>\n",
       "      <td>39.550000</td>\n",
       "      <td>1</td>\n",
       "    </tr>\n",
       "    <tr>\n",
       "      <th>30742</th>\n",
       "      <td>11.721944</td>\n",
       "      <td>1</td>\n",
       "    </tr>\n",
       "    <tr>\n",
       "      <th>30743</th>\n",
       "      <td>7.272500</td>\n",
       "      <td>1</td>\n",
       "    </tr>\n",
       "  </tbody>\n",
       "</table>\n",
       "<p>30744 rows × 2 columns</p>\n",
       "</div>"
      ],
      "text/plain": [
       "       Duration Hour   Count\n",
       "0           0.150000  903954\n",
       "1           0.133333  898909\n",
       "2           0.166667  892736\n",
       "3           0.116667  879368\n",
       "4           0.183333  874192\n",
       "...              ...     ...\n",
       "30739      17.618889       1\n",
       "30740      67.016667       1\n",
       "30741      39.550000       1\n",
       "30742      11.721944       1\n",
       "30743       7.272500       1\n",
       "\n",
       "[30744 rows x 2 columns]"
      ]
     },
     "execution_count": 63,
     "metadata": {},
     "output_type": "execute_result"
    }
   ],
   "source": [
    "duration_hours_counts_df"
   ]
  },
  {
   "cell_type": "code",
   "execution_count": 65,
   "metadata": {
    "scrolled": true
   },
   "outputs": [],
   "source": [
    "# Filter out non-numeric values in 'Duration Hour'\n",
    "duration_hours_counts_df = duration_hours_counts_df[pd.to_numeric(duration_hours_counts_df['Duration Hour'], errors='coerce').notna()]\n",
    "\n",
    "# Define custom bin labels\n",
    "bin_labels = ['0-1 hr', '1-2 hr'] + [f'{i}-{i+1} hr' for i in range(2, 18)] + ['18+ hr']\n",
    "\n",
    "# Define custom bins\n",
    "bin_edges = [-1, 1, 2] + list(range(2, 19)) + [float('inf')]\n",
    "\n",
    "# Perform custom binning with 'duplicates' argument\n",
    "duration_hours_counts_df['Duration Hour Binned'] = pd.cut(pd.to_numeric(duration_hours_counts_df['Duration Hour']), bins=bin_edges, labels=bin_labels, duplicates='drop')\n",
    "\n",
    "# Group and aggregate the data for the custom bins\n",
    "custom_binned_counts = duration_hours_counts_df.groupby('Duration Hour Binned')['Count'].sum().reset_index()\n"
   ]
  },
  {
   "cell_type": "code",
   "execution_count": 66,
   "metadata": {
    "scrolled": true
   },
   "outputs": [
    {
     "data": {
      "text/html": [
       "<div>\n",
       "<style scoped>\n",
       "    .dataframe tbody tr th:only-of-type {\n",
       "        vertical-align: middle;\n",
       "    }\n",
       "\n",
       "    .dataframe tbody tr th {\n",
       "        vertical-align: top;\n",
       "    }\n",
       "\n",
       "    .dataframe thead th {\n",
       "        text-align: right;\n",
       "    }\n",
       "</style>\n",
       "<table border=\"1\" class=\"dataframe\">\n",
       "  <thead>\n",
       "    <tr style=\"text-align: right;\">\n",
       "      <th></th>\n",
       "      <th>Duration Hour Binned</th>\n",
       "      <th>Count</th>\n",
       "    </tr>\n",
       "  </thead>\n",
       "  <tbody>\n",
       "    <tr>\n",
       "      <th>0</th>\n",
       "      <td>0-1 hr</td>\n",
       "      <td>25164262</td>\n",
       "    </tr>\n",
       "    <tr>\n",
       "      <th>1</th>\n",
       "      <td>1-2 hr</td>\n",
       "      <td>630555</td>\n",
       "    </tr>\n",
       "    <tr>\n",
       "      <th>2</th>\n",
       "      <td>2-3 hr</td>\n",
       "      <td>146389</td>\n",
       "    </tr>\n",
       "    <tr>\n",
       "      <th>3</th>\n",
       "      <td>3-4 hr</td>\n",
       "      <td>50770</td>\n",
       "    </tr>\n",
       "    <tr>\n",
       "      <th>4</th>\n",
       "      <td>4-5 hr</td>\n",
       "      <td>21750</td>\n",
       "    </tr>\n",
       "    <tr>\n",
       "      <th>5</th>\n",
       "      <td>5-6 hr</td>\n",
       "      <td>10726</td>\n",
       "    </tr>\n",
       "    <tr>\n",
       "      <th>6</th>\n",
       "      <td>6-7 hr</td>\n",
       "      <td>5816</td>\n",
       "    </tr>\n",
       "    <tr>\n",
       "      <th>7</th>\n",
       "      <td>7-8 hr</td>\n",
       "      <td>3946</td>\n",
       "    </tr>\n",
       "    <tr>\n",
       "      <th>8</th>\n",
       "      <td>8-9 hr</td>\n",
       "      <td>3149</td>\n",
       "    </tr>\n",
       "    <tr>\n",
       "      <th>9</th>\n",
       "      <td>9-10 hr</td>\n",
       "      <td>2613</td>\n",
       "    </tr>\n",
       "    <tr>\n",
       "      <th>10</th>\n",
       "      <td>10-11 hr</td>\n",
       "      <td>2212</td>\n",
       "    </tr>\n",
       "    <tr>\n",
       "      <th>11</th>\n",
       "      <td>11-12 hr</td>\n",
       "      <td>1913</td>\n",
       "    </tr>\n",
       "    <tr>\n",
       "      <th>12</th>\n",
       "      <td>12-13 hr</td>\n",
       "      <td>1804</td>\n",
       "    </tr>\n",
       "    <tr>\n",
       "      <th>13</th>\n",
       "      <td>13-14 hr</td>\n",
       "      <td>1814</td>\n",
       "    </tr>\n",
       "    <tr>\n",
       "      <th>14</th>\n",
       "      <td>14-15 hr</td>\n",
       "      <td>1645</td>\n",
       "    </tr>\n",
       "    <tr>\n",
       "      <th>15</th>\n",
       "      <td>15-16 hr</td>\n",
       "      <td>1496</td>\n",
       "    </tr>\n",
       "    <tr>\n",
       "      <th>16</th>\n",
       "      <td>16-17 hr</td>\n",
       "      <td>1343</td>\n",
       "    </tr>\n",
       "    <tr>\n",
       "      <th>17</th>\n",
       "      <td>17-18 hr</td>\n",
       "      <td>1313</td>\n",
       "    </tr>\n",
       "    <tr>\n",
       "      <th>18</th>\n",
       "      <td>18+ hr</td>\n",
       "      <td>13513</td>\n",
       "    </tr>\n",
       "  </tbody>\n",
       "</table>\n",
       "</div>"
      ],
      "text/plain": [
       "   Duration Hour Binned     Count\n",
       "0                0-1 hr  25164262\n",
       "1                1-2 hr    630555\n",
       "2                2-3 hr    146389\n",
       "3                3-4 hr     50770\n",
       "4                4-5 hr     21750\n",
       "5                5-6 hr     10726\n",
       "6                6-7 hr      5816\n",
       "7                7-8 hr      3946\n",
       "8                8-9 hr      3149\n",
       "9               9-10 hr      2613\n",
       "10             10-11 hr      2212\n",
       "11             11-12 hr      1913\n",
       "12             12-13 hr      1804\n",
       "13             13-14 hr      1814\n",
       "14             14-15 hr      1645\n",
       "15             15-16 hr      1496\n",
       "16             16-17 hr      1343\n",
       "17             17-18 hr      1313\n",
       "18               18+ hr     13513"
      ]
     },
     "execution_count": 66,
     "metadata": {},
     "output_type": "execute_result"
    }
   ],
   "source": [
    "custom_binned_counts"
   ]
  },
  {
   "cell_type": "code",
   "execution_count": 181,
   "metadata": {
    "scrolled": true
   },
   "outputs": [
    {
     "data": {
      "application/vnd.plotly.v1+json": {
       "config": {
        "plotlyServerURL": "https://plot.ly"
       },
       "data": [
        {
         "alignmentgroup": "True",
         "bingroup": "x",
         "histfunc": "sum",
         "hovertemplate": "Duration Hours=%{x}<br>sum of Count=%{y}<extra></extra>",
         "legendgroup": "",
         "marker": {
          "color": [
           "darkblue",
           "SkyBlue",
           "SkyBlue",
           "SkyBlue",
           "SkyBlue",
           "SkyBlue",
           "SkyBlue",
           "SkyBlue",
           "SkyBlue",
           "SkyBlue",
           "SkyBlue",
           "SkyBlue",
           "SkyBlue",
           "SkyBlue",
           "SkyBlue",
           "SkyBlue",
           "SkyBlue",
           "SkyBlue",
           "SkyBlue"
          ],
          "pattern": {
           "shape": ""
          }
         },
         "name": "",
         "nbinsx": 35,
         "offsetgroup": "",
         "orientation": "v",
         "showlegend": false,
         "textposition": "outside",
         "texttemplate": "%{y}",
         "type": "histogram",
         "x": [
          "0-1 hr",
          "1-2 hr",
          "2-3 hr",
          "3-4 hr",
          "4-5 hr",
          "5-6 hr",
          "6-7 hr",
          "7-8 hr",
          "8-9 hr",
          "9-10 hr",
          "10-11 hr",
          "11-12 hr",
          "12-13 hr",
          "13-14 hr",
          "14-15 hr",
          "15-16 hr",
          "16-17 hr",
          "17-18 hr",
          "18+ hr"
         ],
         "xaxis": "x",
         "y": [
          25164262,
          630555,
          146389,
          50770,
          21750,
          10726,
          5816,
          3946,
          3149,
          2613,
          2212,
          1913,
          1804,
          1814,
          1645,
          1496,
          1343,
          1313,
          13513
         ],
         "yaxis": "y"
        }
       ],
       "layout": {
        "barmode": "relative",
        "legend": {
         "tracegroupgap": 0
        },
        "template": {
         "data": {
          "bar": [
           {
            "error_x": {
             "color": "#2a3f5f"
            },
            "error_y": {
             "color": "#2a3f5f"
            },
            "marker": {
             "line": {
              "color": "#E5ECF6",
              "width": 0.5
             },
             "pattern": {
              "fillmode": "overlay",
              "size": 10,
              "solidity": 0.2
             }
            },
            "type": "bar"
           }
          ],
          "barpolar": [
           {
            "marker": {
             "line": {
              "color": "#E5ECF6",
              "width": 0.5
             },
             "pattern": {
              "fillmode": "overlay",
              "size": 10,
              "solidity": 0.2
             }
            },
            "type": "barpolar"
           }
          ],
          "carpet": [
           {
            "aaxis": {
             "endlinecolor": "#2a3f5f",
             "gridcolor": "white",
             "linecolor": "white",
             "minorgridcolor": "white",
             "startlinecolor": "#2a3f5f"
            },
            "baxis": {
             "endlinecolor": "#2a3f5f",
             "gridcolor": "white",
             "linecolor": "white",
             "minorgridcolor": "white",
             "startlinecolor": "#2a3f5f"
            },
            "type": "carpet"
           }
          ],
          "choropleth": [
           {
            "colorbar": {
             "outlinewidth": 0,
             "ticks": ""
            },
            "type": "choropleth"
           }
          ],
          "contour": [
           {
            "colorbar": {
             "outlinewidth": 0,
             "ticks": ""
            },
            "colorscale": [
             [
              0,
              "#0d0887"
             ],
             [
              0.1111111111111111,
              "#46039f"
             ],
             [
              0.2222222222222222,
              "#7201a8"
             ],
             [
              0.3333333333333333,
              "#9c179e"
             ],
             [
              0.4444444444444444,
              "#bd3786"
             ],
             [
              0.5555555555555556,
              "#d8576b"
             ],
             [
              0.6666666666666666,
              "#ed7953"
             ],
             [
              0.7777777777777778,
              "#fb9f3a"
             ],
             [
              0.8888888888888888,
              "#fdca26"
             ],
             [
              1,
              "#f0f921"
             ]
            ],
            "type": "contour"
           }
          ],
          "contourcarpet": [
           {
            "colorbar": {
             "outlinewidth": 0,
             "ticks": ""
            },
            "type": "contourcarpet"
           }
          ],
          "heatmap": [
           {
            "colorbar": {
             "outlinewidth": 0,
             "ticks": ""
            },
            "colorscale": [
             [
              0,
              "#0d0887"
             ],
             [
              0.1111111111111111,
              "#46039f"
             ],
             [
              0.2222222222222222,
              "#7201a8"
             ],
             [
              0.3333333333333333,
              "#9c179e"
             ],
             [
              0.4444444444444444,
              "#bd3786"
             ],
             [
              0.5555555555555556,
              "#d8576b"
             ],
             [
              0.6666666666666666,
              "#ed7953"
             ],
             [
              0.7777777777777778,
              "#fb9f3a"
             ],
             [
              0.8888888888888888,
              "#fdca26"
             ],
             [
              1,
              "#f0f921"
             ]
            ],
            "type": "heatmap"
           }
          ],
          "heatmapgl": [
           {
            "colorbar": {
             "outlinewidth": 0,
             "ticks": ""
            },
            "colorscale": [
             [
              0,
              "#0d0887"
             ],
             [
              0.1111111111111111,
              "#46039f"
             ],
             [
              0.2222222222222222,
              "#7201a8"
             ],
             [
              0.3333333333333333,
              "#9c179e"
             ],
             [
              0.4444444444444444,
              "#bd3786"
             ],
             [
              0.5555555555555556,
              "#d8576b"
             ],
             [
              0.6666666666666666,
              "#ed7953"
             ],
             [
              0.7777777777777778,
              "#fb9f3a"
             ],
             [
              0.8888888888888888,
              "#fdca26"
             ],
             [
              1,
              "#f0f921"
             ]
            ],
            "type": "heatmapgl"
           }
          ],
          "histogram": [
           {
            "marker": {
             "pattern": {
              "fillmode": "overlay",
              "size": 10,
              "solidity": 0.2
             }
            },
            "type": "histogram"
           }
          ],
          "histogram2d": [
           {
            "colorbar": {
             "outlinewidth": 0,
             "ticks": ""
            },
            "colorscale": [
             [
              0,
              "#0d0887"
             ],
             [
              0.1111111111111111,
              "#46039f"
             ],
             [
              0.2222222222222222,
              "#7201a8"
             ],
             [
              0.3333333333333333,
              "#9c179e"
             ],
             [
              0.4444444444444444,
              "#bd3786"
             ],
             [
              0.5555555555555556,
              "#d8576b"
             ],
             [
              0.6666666666666666,
              "#ed7953"
             ],
             [
              0.7777777777777778,
              "#fb9f3a"
             ],
             [
              0.8888888888888888,
              "#fdca26"
             ],
             [
              1,
              "#f0f921"
             ]
            ],
            "type": "histogram2d"
           }
          ],
          "histogram2dcontour": [
           {
            "colorbar": {
             "outlinewidth": 0,
             "ticks": ""
            },
            "colorscale": [
             [
              0,
              "#0d0887"
             ],
             [
              0.1111111111111111,
              "#46039f"
             ],
             [
              0.2222222222222222,
              "#7201a8"
             ],
             [
              0.3333333333333333,
              "#9c179e"
             ],
             [
              0.4444444444444444,
              "#bd3786"
             ],
             [
              0.5555555555555556,
              "#d8576b"
             ],
             [
              0.6666666666666666,
              "#ed7953"
             ],
             [
              0.7777777777777778,
              "#fb9f3a"
             ],
             [
              0.8888888888888888,
              "#fdca26"
             ],
             [
              1,
              "#f0f921"
             ]
            ],
            "type": "histogram2dcontour"
           }
          ],
          "mesh3d": [
           {
            "colorbar": {
             "outlinewidth": 0,
             "ticks": ""
            },
            "type": "mesh3d"
           }
          ],
          "parcoords": [
           {
            "line": {
             "colorbar": {
              "outlinewidth": 0,
              "ticks": ""
             }
            },
            "type": "parcoords"
           }
          ],
          "pie": [
           {
            "automargin": true,
            "type": "pie"
           }
          ],
          "scatter": [
           {
            "fillpattern": {
             "fillmode": "overlay",
             "size": 10,
             "solidity": 0.2
            },
            "type": "scatter"
           }
          ],
          "scatter3d": [
           {
            "line": {
             "colorbar": {
              "outlinewidth": 0,
              "ticks": ""
             }
            },
            "marker": {
             "colorbar": {
              "outlinewidth": 0,
              "ticks": ""
             }
            },
            "type": "scatter3d"
           }
          ],
          "scattercarpet": [
           {
            "marker": {
             "colorbar": {
              "outlinewidth": 0,
              "ticks": ""
             }
            },
            "type": "scattercarpet"
           }
          ],
          "scattergeo": [
           {
            "marker": {
             "colorbar": {
              "outlinewidth": 0,
              "ticks": ""
             }
            },
            "type": "scattergeo"
           }
          ],
          "scattergl": [
           {
            "marker": {
             "colorbar": {
              "outlinewidth": 0,
              "ticks": ""
             }
            },
            "type": "scattergl"
           }
          ],
          "scattermapbox": [
           {
            "marker": {
             "colorbar": {
              "outlinewidth": 0,
              "ticks": ""
             }
            },
            "type": "scattermapbox"
           }
          ],
          "scatterpolar": [
           {
            "marker": {
             "colorbar": {
              "outlinewidth": 0,
              "ticks": ""
             }
            },
            "type": "scatterpolar"
           }
          ],
          "scatterpolargl": [
           {
            "marker": {
             "colorbar": {
              "outlinewidth": 0,
              "ticks": ""
             }
            },
            "type": "scatterpolargl"
           }
          ],
          "scatterternary": [
           {
            "marker": {
             "colorbar": {
              "outlinewidth": 0,
              "ticks": ""
             }
            },
            "type": "scatterternary"
           }
          ],
          "surface": [
           {
            "colorbar": {
             "outlinewidth": 0,
             "ticks": ""
            },
            "colorscale": [
             [
              0,
              "#0d0887"
             ],
             [
              0.1111111111111111,
              "#46039f"
             ],
             [
              0.2222222222222222,
              "#7201a8"
             ],
             [
              0.3333333333333333,
              "#9c179e"
             ],
             [
              0.4444444444444444,
              "#bd3786"
             ],
             [
              0.5555555555555556,
              "#d8576b"
             ],
             [
              0.6666666666666666,
              "#ed7953"
             ],
             [
              0.7777777777777778,
              "#fb9f3a"
             ],
             [
              0.8888888888888888,
              "#fdca26"
             ],
             [
              1,
              "#f0f921"
             ]
            ],
            "type": "surface"
           }
          ],
          "table": [
           {
            "cells": {
             "fill": {
              "color": "#EBF0F8"
             },
             "line": {
              "color": "white"
             }
            },
            "header": {
             "fill": {
              "color": "#C8D4E3"
             },
             "line": {
              "color": "white"
             }
            },
            "type": "table"
           }
          ]
         },
         "layout": {
          "annotationdefaults": {
           "arrowcolor": "#2a3f5f",
           "arrowhead": 0,
           "arrowwidth": 1
          },
          "autotypenumbers": "strict",
          "coloraxis": {
           "colorbar": {
            "outlinewidth": 0,
            "ticks": ""
           }
          },
          "colorscale": {
           "diverging": [
            [
             0,
             "#8e0152"
            ],
            [
             0.1,
             "#c51b7d"
            ],
            [
             0.2,
             "#de77ae"
            ],
            [
             0.3,
             "#f1b6da"
            ],
            [
             0.4,
             "#fde0ef"
            ],
            [
             0.5,
             "#f7f7f7"
            ],
            [
             0.6,
             "#e6f5d0"
            ],
            [
             0.7,
             "#b8e186"
            ],
            [
             0.8,
             "#7fbc41"
            ],
            [
             0.9,
             "#4d9221"
            ],
            [
             1,
             "#276419"
            ]
           ],
           "sequential": [
            [
             0,
             "#0d0887"
            ],
            [
             0.1111111111111111,
             "#46039f"
            ],
            [
             0.2222222222222222,
             "#7201a8"
            ],
            [
             0.3333333333333333,
             "#9c179e"
            ],
            [
             0.4444444444444444,
             "#bd3786"
            ],
            [
             0.5555555555555556,
             "#d8576b"
            ],
            [
             0.6666666666666666,
             "#ed7953"
            ],
            [
             0.7777777777777778,
             "#fb9f3a"
            ],
            [
             0.8888888888888888,
             "#fdca26"
            ],
            [
             1,
             "#f0f921"
            ]
           ],
           "sequentialminus": [
            [
             0,
             "#0d0887"
            ],
            [
             0.1111111111111111,
             "#46039f"
            ],
            [
             0.2222222222222222,
             "#7201a8"
            ],
            [
             0.3333333333333333,
             "#9c179e"
            ],
            [
             0.4444444444444444,
             "#bd3786"
            ],
            [
             0.5555555555555556,
             "#d8576b"
            ],
            [
             0.6666666666666666,
             "#ed7953"
            ],
            [
             0.7777777777777778,
             "#fb9f3a"
            ],
            [
             0.8888888888888888,
             "#fdca26"
            ],
            [
             1,
             "#f0f921"
            ]
           ]
          },
          "colorway": [
           "#636efa",
           "#EF553B",
           "#00cc96",
           "#ab63fa",
           "#FFA15A",
           "#19d3f3",
           "#FF6692",
           "#B6E880",
           "#FF97FF",
           "#FECB52"
          ],
          "font": {
           "color": "#2a3f5f"
          },
          "geo": {
           "bgcolor": "white",
           "lakecolor": "white",
           "landcolor": "#E5ECF6",
           "showlakes": true,
           "showland": true,
           "subunitcolor": "white"
          },
          "hoverlabel": {
           "align": "left"
          },
          "hovermode": "closest",
          "mapbox": {
           "style": "light"
          },
          "paper_bgcolor": "white",
          "plot_bgcolor": "#E5ECF6",
          "polar": {
           "angularaxis": {
            "gridcolor": "white",
            "linecolor": "white",
            "ticks": ""
           },
           "bgcolor": "#E5ECF6",
           "radialaxis": {
            "gridcolor": "white",
            "linecolor": "white",
            "ticks": ""
           }
          },
          "scene": {
           "xaxis": {
            "backgroundcolor": "#E5ECF6",
            "gridcolor": "white",
            "gridwidth": 2,
            "linecolor": "white",
            "showbackground": true,
            "ticks": "",
            "zerolinecolor": "white"
           },
           "yaxis": {
            "backgroundcolor": "#E5ECF6",
            "gridcolor": "white",
            "gridwidth": 2,
            "linecolor": "white",
            "showbackground": true,
            "ticks": "",
            "zerolinecolor": "white"
           },
           "zaxis": {
            "backgroundcolor": "#E5ECF6",
            "gridcolor": "white",
            "gridwidth": 2,
            "linecolor": "white",
            "showbackground": true,
            "ticks": "",
            "zerolinecolor": "white"
           }
          },
          "shapedefaults": {
           "line": {
            "color": "#2a3f5f"
           }
          },
          "ternary": {
           "aaxis": {
            "gridcolor": "white",
            "linecolor": "white",
            "ticks": ""
           },
           "baxis": {
            "gridcolor": "white",
            "linecolor": "white",
            "ticks": ""
           },
           "bgcolor": "#E5ECF6",
           "caxis": {
            "gridcolor": "white",
            "linecolor": "white",
            "ticks": ""
           }
          },
          "title": {
           "x": 0.05
          },
          "xaxis": {
           "automargin": true,
           "gridcolor": "white",
           "linecolor": "white",
           "ticks": "",
           "title": {
            "standoff": 15
           },
           "zerolinecolor": "white",
           "zerolinewidth": 2
          },
          "yaxis": {
           "automargin": true,
           "gridcolor": "white",
           "linecolor": "white",
           "ticks": "",
           "title": {
            "standoff": 15
           },
           "zerolinecolor": "white",
           "zerolinewidth": 2
          }
         }
        },
        "title": {
         "text": "Distribution of Rental Durations in Hours"
        },
        "xaxis": {
         "anchor": "y",
         "domain": [
          0,
          1
         ],
         "title": {
          "text": "Duration (Hours)"
         }
        },
        "yaxis": {
         "anchor": "x",
         "domain": [
          0,
          1
         ],
         "title": {
          "text": "Number of Rentals"
         },
         "type": "log"
        }
       }
      },
      "text/html": [
       "<div>                            <div id=\"5df66d1b-fecc-4b1f-82a0-367d79f0ed4f\" class=\"plotly-graph-div\" style=\"height:525px; width:100%;\"></div>            <script type=\"text/javascript\">                require([\"plotly\"], function(Plotly) {                    window.PLOTLYENV=window.PLOTLYENV || {};                                    if (document.getElementById(\"5df66d1b-fecc-4b1f-82a0-367d79f0ed4f\")) {                    Plotly.newPlot(                        \"5df66d1b-fecc-4b1f-82a0-367d79f0ed4f\",                        [{\"alignmentgroup\":\"True\",\"bingroup\":\"x\",\"histfunc\":\"sum\",\"hovertemplate\":\"Duration Hours=%{x}<br>sum of Count=%{y}<extra></extra>\",\"legendgroup\":\"\",\"marker\":{\"color\":[\"darkblue\",\"SkyBlue\",\"SkyBlue\",\"SkyBlue\",\"SkyBlue\",\"SkyBlue\",\"SkyBlue\",\"SkyBlue\",\"SkyBlue\",\"SkyBlue\",\"SkyBlue\",\"SkyBlue\",\"SkyBlue\",\"SkyBlue\",\"SkyBlue\",\"SkyBlue\",\"SkyBlue\",\"SkyBlue\",\"SkyBlue\"],\"pattern\":{\"shape\":\"\"}},\"name\":\"\",\"nbinsx\":35,\"offsetgroup\":\"\",\"orientation\":\"v\",\"showlegend\":false,\"x\":[\"0-1 hr\",\"1-2 hr\",\"2-3 hr\",\"3-4 hr\",\"4-5 hr\",\"5-6 hr\",\"6-7 hr\",\"7-8 hr\",\"8-9 hr\",\"9-10 hr\",\"10-11 hr\",\"11-12 hr\",\"12-13 hr\",\"13-14 hr\",\"14-15 hr\",\"15-16 hr\",\"16-17 hr\",\"17-18 hr\",\"18+ hr\"],\"xaxis\":\"x\",\"y\":[25164262,630555,146389,50770,21750,10726,5816,3946,3149,2613,2212,1913,1804,1814,1645,1496,1343,1313,13513],\"yaxis\":\"y\",\"type\":\"histogram\",\"textposition\":\"outside\",\"texttemplate\":\"%{y}\"}],                        {\"template\":{\"data\":{\"histogram2dcontour\":[{\"type\":\"histogram2dcontour\",\"colorbar\":{\"outlinewidth\":0,\"ticks\":\"\"},\"colorscale\":[[0.0,\"#0d0887\"],[0.1111111111111111,\"#46039f\"],[0.2222222222222222,\"#7201a8\"],[0.3333333333333333,\"#9c179e\"],[0.4444444444444444,\"#bd3786\"],[0.5555555555555556,\"#d8576b\"],[0.6666666666666666,\"#ed7953\"],[0.7777777777777778,\"#fb9f3a\"],[0.8888888888888888,\"#fdca26\"],[1.0,\"#f0f921\"]]}],\"choropleth\":[{\"type\":\"choropleth\",\"colorbar\":{\"outlinewidth\":0,\"ticks\":\"\"}}],\"histogram2d\":[{\"type\":\"histogram2d\",\"colorbar\":{\"outlinewidth\":0,\"ticks\":\"\"},\"colorscale\":[[0.0,\"#0d0887\"],[0.1111111111111111,\"#46039f\"],[0.2222222222222222,\"#7201a8\"],[0.3333333333333333,\"#9c179e\"],[0.4444444444444444,\"#bd3786\"],[0.5555555555555556,\"#d8576b\"],[0.6666666666666666,\"#ed7953\"],[0.7777777777777778,\"#fb9f3a\"],[0.8888888888888888,\"#fdca26\"],[1.0,\"#f0f921\"]]}],\"heatmap\":[{\"type\":\"heatmap\",\"colorbar\":{\"outlinewidth\":0,\"ticks\":\"\"},\"colorscale\":[[0.0,\"#0d0887\"],[0.1111111111111111,\"#46039f\"],[0.2222222222222222,\"#7201a8\"],[0.3333333333333333,\"#9c179e\"],[0.4444444444444444,\"#bd3786\"],[0.5555555555555556,\"#d8576b\"],[0.6666666666666666,\"#ed7953\"],[0.7777777777777778,\"#fb9f3a\"],[0.8888888888888888,\"#fdca26\"],[1.0,\"#f0f921\"]]}],\"heatmapgl\":[{\"type\":\"heatmapgl\",\"colorbar\":{\"outlinewidth\":0,\"ticks\":\"\"},\"colorscale\":[[0.0,\"#0d0887\"],[0.1111111111111111,\"#46039f\"],[0.2222222222222222,\"#7201a8\"],[0.3333333333333333,\"#9c179e\"],[0.4444444444444444,\"#bd3786\"],[0.5555555555555556,\"#d8576b\"],[0.6666666666666666,\"#ed7953\"],[0.7777777777777778,\"#fb9f3a\"],[0.8888888888888888,\"#fdca26\"],[1.0,\"#f0f921\"]]}],\"contourcarpet\":[{\"type\":\"contourcarpet\",\"colorbar\":{\"outlinewidth\":0,\"ticks\":\"\"}}],\"contour\":[{\"type\":\"contour\",\"colorbar\":{\"outlinewidth\":0,\"ticks\":\"\"},\"colorscale\":[[0.0,\"#0d0887\"],[0.1111111111111111,\"#46039f\"],[0.2222222222222222,\"#7201a8\"],[0.3333333333333333,\"#9c179e\"],[0.4444444444444444,\"#bd3786\"],[0.5555555555555556,\"#d8576b\"],[0.6666666666666666,\"#ed7953\"],[0.7777777777777778,\"#fb9f3a\"],[0.8888888888888888,\"#fdca26\"],[1.0,\"#f0f921\"]]}],\"surface\":[{\"type\":\"surface\",\"colorbar\":{\"outlinewidth\":0,\"ticks\":\"\"},\"colorscale\":[[0.0,\"#0d0887\"],[0.1111111111111111,\"#46039f\"],[0.2222222222222222,\"#7201a8\"],[0.3333333333333333,\"#9c179e\"],[0.4444444444444444,\"#bd3786\"],[0.5555555555555556,\"#d8576b\"],[0.6666666666666666,\"#ed7953\"],[0.7777777777777778,\"#fb9f3a\"],[0.8888888888888888,\"#fdca26\"],[1.0,\"#f0f921\"]]}],\"mesh3d\":[{\"type\":\"mesh3d\",\"colorbar\":{\"outlinewidth\":0,\"ticks\":\"\"}}],\"scatter\":[{\"fillpattern\":{\"fillmode\":\"overlay\",\"size\":10,\"solidity\":0.2},\"type\":\"scatter\"}],\"parcoords\":[{\"type\":\"parcoords\",\"line\":{\"colorbar\":{\"outlinewidth\":0,\"ticks\":\"\"}}}],\"scatterpolargl\":[{\"type\":\"scatterpolargl\",\"marker\":{\"colorbar\":{\"outlinewidth\":0,\"ticks\":\"\"}}}],\"bar\":[{\"error_x\":{\"color\":\"#2a3f5f\"},\"error_y\":{\"color\":\"#2a3f5f\"},\"marker\":{\"line\":{\"color\":\"#E5ECF6\",\"width\":0.5},\"pattern\":{\"fillmode\":\"overlay\",\"size\":10,\"solidity\":0.2}},\"type\":\"bar\"}],\"scattergeo\":[{\"type\":\"scattergeo\",\"marker\":{\"colorbar\":{\"outlinewidth\":0,\"ticks\":\"\"}}}],\"scatterpolar\":[{\"type\":\"scatterpolar\",\"marker\":{\"colorbar\":{\"outlinewidth\":0,\"ticks\":\"\"}}}],\"histogram\":[{\"marker\":{\"pattern\":{\"fillmode\":\"overlay\",\"size\":10,\"solidity\":0.2}},\"type\":\"histogram\"}],\"scattergl\":[{\"type\":\"scattergl\",\"marker\":{\"colorbar\":{\"outlinewidth\":0,\"ticks\":\"\"}}}],\"scatter3d\":[{\"type\":\"scatter3d\",\"line\":{\"colorbar\":{\"outlinewidth\":0,\"ticks\":\"\"}},\"marker\":{\"colorbar\":{\"outlinewidth\":0,\"ticks\":\"\"}}}],\"scattermapbox\":[{\"type\":\"scattermapbox\",\"marker\":{\"colorbar\":{\"outlinewidth\":0,\"ticks\":\"\"}}}],\"scatterternary\":[{\"type\":\"scatterternary\",\"marker\":{\"colorbar\":{\"outlinewidth\":0,\"ticks\":\"\"}}}],\"scattercarpet\":[{\"type\":\"scattercarpet\",\"marker\":{\"colorbar\":{\"outlinewidth\":0,\"ticks\":\"\"}}}],\"carpet\":[{\"aaxis\":{\"endlinecolor\":\"#2a3f5f\",\"gridcolor\":\"white\",\"linecolor\":\"white\",\"minorgridcolor\":\"white\",\"startlinecolor\":\"#2a3f5f\"},\"baxis\":{\"endlinecolor\":\"#2a3f5f\",\"gridcolor\":\"white\",\"linecolor\":\"white\",\"minorgridcolor\":\"white\",\"startlinecolor\":\"#2a3f5f\"},\"type\":\"carpet\"}],\"table\":[{\"cells\":{\"fill\":{\"color\":\"#EBF0F8\"},\"line\":{\"color\":\"white\"}},\"header\":{\"fill\":{\"color\":\"#C8D4E3\"},\"line\":{\"color\":\"white\"}},\"type\":\"table\"}],\"barpolar\":[{\"marker\":{\"line\":{\"color\":\"#E5ECF6\",\"width\":0.5},\"pattern\":{\"fillmode\":\"overlay\",\"size\":10,\"solidity\":0.2}},\"type\":\"barpolar\"}],\"pie\":[{\"automargin\":true,\"type\":\"pie\"}]},\"layout\":{\"autotypenumbers\":\"strict\",\"colorway\":[\"#636efa\",\"#EF553B\",\"#00cc96\",\"#ab63fa\",\"#FFA15A\",\"#19d3f3\",\"#FF6692\",\"#B6E880\",\"#FF97FF\",\"#FECB52\"],\"font\":{\"color\":\"#2a3f5f\"},\"hovermode\":\"closest\",\"hoverlabel\":{\"align\":\"left\"},\"paper_bgcolor\":\"white\",\"plot_bgcolor\":\"#E5ECF6\",\"polar\":{\"bgcolor\":\"#E5ECF6\",\"angularaxis\":{\"gridcolor\":\"white\",\"linecolor\":\"white\",\"ticks\":\"\"},\"radialaxis\":{\"gridcolor\":\"white\",\"linecolor\":\"white\",\"ticks\":\"\"}},\"ternary\":{\"bgcolor\":\"#E5ECF6\",\"aaxis\":{\"gridcolor\":\"white\",\"linecolor\":\"white\",\"ticks\":\"\"},\"baxis\":{\"gridcolor\":\"white\",\"linecolor\":\"white\",\"ticks\":\"\"},\"caxis\":{\"gridcolor\":\"white\",\"linecolor\":\"white\",\"ticks\":\"\"}},\"coloraxis\":{\"colorbar\":{\"outlinewidth\":0,\"ticks\":\"\"}},\"colorscale\":{\"sequential\":[[0.0,\"#0d0887\"],[0.1111111111111111,\"#46039f\"],[0.2222222222222222,\"#7201a8\"],[0.3333333333333333,\"#9c179e\"],[0.4444444444444444,\"#bd3786\"],[0.5555555555555556,\"#d8576b\"],[0.6666666666666666,\"#ed7953\"],[0.7777777777777778,\"#fb9f3a\"],[0.8888888888888888,\"#fdca26\"],[1.0,\"#f0f921\"]],\"sequentialminus\":[[0.0,\"#0d0887\"],[0.1111111111111111,\"#46039f\"],[0.2222222222222222,\"#7201a8\"],[0.3333333333333333,\"#9c179e\"],[0.4444444444444444,\"#bd3786\"],[0.5555555555555556,\"#d8576b\"],[0.6666666666666666,\"#ed7953\"],[0.7777777777777778,\"#fb9f3a\"],[0.8888888888888888,\"#fdca26\"],[1.0,\"#f0f921\"]],\"diverging\":[[0,\"#8e0152\"],[0.1,\"#c51b7d\"],[0.2,\"#de77ae\"],[0.3,\"#f1b6da\"],[0.4,\"#fde0ef\"],[0.5,\"#f7f7f7\"],[0.6,\"#e6f5d0\"],[0.7,\"#b8e186\"],[0.8,\"#7fbc41\"],[0.9,\"#4d9221\"],[1,\"#276419\"]]},\"xaxis\":{\"gridcolor\":\"white\",\"linecolor\":\"white\",\"ticks\":\"\",\"title\":{\"standoff\":15},\"zerolinecolor\":\"white\",\"automargin\":true,\"zerolinewidth\":2},\"yaxis\":{\"gridcolor\":\"white\",\"linecolor\":\"white\",\"ticks\":\"\",\"title\":{\"standoff\":15},\"zerolinecolor\":\"white\",\"automargin\":true,\"zerolinewidth\":2},\"scene\":{\"xaxis\":{\"backgroundcolor\":\"#E5ECF6\",\"gridcolor\":\"white\",\"linecolor\":\"white\",\"showbackground\":true,\"ticks\":\"\",\"zerolinecolor\":\"white\",\"gridwidth\":2},\"yaxis\":{\"backgroundcolor\":\"#E5ECF6\",\"gridcolor\":\"white\",\"linecolor\":\"white\",\"showbackground\":true,\"ticks\":\"\",\"zerolinecolor\":\"white\",\"gridwidth\":2},\"zaxis\":{\"backgroundcolor\":\"#E5ECF6\",\"gridcolor\":\"white\",\"linecolor\":\"white\",\"showbackground\":true,\"ticks\":\"\",\"zerolinecolor\":\"white\",\"gridwidth\":2}},\"shapedefaults\":{\"line\":{\"color\":\"#2a3f5f\"}},\"annotationdefaults\":{\"arrowcolor\":\"#2a3f5f\",\"arrowhead\":0,\"arrowwidth\":1},\"geo\":{\"bgcolor\":\"white\",\"landcolor\":\"#E5ECF6\",\"subunitcolor\":\"white\",\"showland\":true,\"showlakes\":true,\"lakecolor\":\"white\"},\"title\":{\"x\":0.05},\"mapbox\":{\"style\":\"light\"}}},\"xaxis\":{\"anchor\":\"y\",\"domain\":[0.0,1.0],\"title\":{\"text\":\"Duration (Hours)\"}},\"yaxis\":{\"anchor\":\"x\",\"domain\":[0.0,1.0],\"title\":{\"text\":\"Number of Rentals\"},\"type\":\"log\"},\"legend\":{\"tracegroupgap\":0},\"title\":{\"text\":\"Distribution of Rental Durations in Hours\"},\"barmode\":\"relative\"},                        {\"responsive\": true}                    ).then(function(){\n",
       "                            \n",
       "var gd = document.getElementById('5df66d1b-fecc-4b1f-82a0-367d79f0ed4f');\n",
       "var x = new MutationObserver(function (mutations, observer) {{\n",
       "        var display = window.getComputedStyle(gd).display;\n",
       "        if (!display || display === 'none') {{\n",
       "            console.log([gd, 'removed!']);\n",
       "            Plotly.purge(gd);\n",
       "            observer.disconnect();\n",
       "        }}\n",
       "}});\n",
       "\n",
       "// Listen for the removal of the full notebook cells\n",
       "var notebookContainer = gd.closest('#notebook-container');\n",
       "if (notebookContainer) {{\n",
       "    x.observe(notebookContainer, {childList: true});\n",
       "}}\n",
       "\n",
       "// Listen for the clearing of the current output cell\n",
       "var outputEl = gd.closest('.output');\n",
       "if (outputEl) {{\n",
       "    x.observe(outputEl, {childList: true});\n",
       "}}\n",
       "\n",
       "                        })                };                });            </script>        </div>"
      ]
     },
     "metadata": {},
     "output_type": "display_data"
    }
   ],
   "source": [
    "# Create a bar chart with custom bins\n",
    "fig = px.histogram(custom_binned_counts, x='Duration Hour Binned', title='Distribution of Rental Durations in Hours', y='Count', labels={'Duration Hour Binned': 'Duration Hours'}, nbins=35, log_y=True)\n",
    "fig.update_xaxes(title_text='Duration (Hours)')\n",
    "fig.update_yaxes(title_text='Number of Rentals')\n",
    "\n",
    "# Find the index of the maximum count\n",
    "max_count_index = custom_binned_counts['Count'].idxmax()\n",
    "\n",
    "# Create a list of colors for the bars\n",
    "colors = ['SkyBlue'] * len(custom_binned_counts)\n",
    "colors[max_count_index] = 'darkblue'  # Change the color of the maximum count bar to dark blue\n",
    "\n",
    "# Add text annotations to the bars\n",
    "fig.update_traces(texttemplate='%{y}', textposition='outside', marker=dict(color=colors))\n",
    "\n",
    "# Show the Plotly figure\n",
    "fig.show()\n"
   ]
  },
  {
   "cell_type": "markdown",
   "metadata": {},
   "source": [
    "Most common usage pattern is for short trips or commutes within the same hour,\n"
   ]
  },
  {
   "cell_type": "markdown",
   "metadata": {
    "id": "N1417JK5a8EU"
   },
   "source": [
    "## Temporal Analysis\n",
    "Analyze the temporal aspects of rentals, including:\n",
    "- Start and End Date: Check for any trends in rental start and end dates.\n",
    "- Start Year and Month: Understand how rentals are distributed across different years and months.\n",
    "- Start Day of Week: Explore the distribution of rentals by day of the week.\n",
    "- Start Hour: Analyze the hourly distribution of rentals."
   ]
  },
  {
   "cell_type": "code",
   "execution_count": 424,
   "metadata": {
    "colab": {
     "base_uri": "https://localhost:8080/",
     "height": 542
    },
    "id": "7YQy5xsN3QXn",
    "outputId": "a071bae2-8502-404c-f9de-45ee104a67cc"
   },
   "outputs": [
    {
     "data": {
      "application/vnd.plotly.v1+json": {
       "config": {
        "linkText": "Export to plot.ly",
        "plotlyServerURL": "https://plot.ly",
        "showLink": false
       },
       "data": [
        {
         "name": "January",
         "type": "bar",
         "x": [
          2021,
          2022,
          2023
         ],
         "y": [
          405015,
          741875,
          569504
         ]
        },
        {
         "name": "February",
         "type": "bar",
         "x": [
          2021,
          2022,
          2023
         ],
         "y": [
          504154,
          743581,
          612571
         ]
        },
        {
         "name": "March",
         "type": "bar",
         "x": [
          2021,
          2022,
          2023
         ],
         "y": [
          738522,
          1047369,
          629728
         ]
        },
        {
         "name": "April",
         "type": "bar",
         "x": [
          2021,
          2022,
          2023
         ],
         "y": [
          930934,
          1022467,
          646025
         ]
        },
        {
         "name": "May",
         "type": "bar",
         "x": [
          2021,
          2022,
          2023
         ],
         "y": [
          912059,
          1190590,
          821882
         ]
        },
        {
         "name": "June",
         "type": "bar",
         "x": [
          2021,
          2022,
          2023
         ],
         "y": [
          1169603,
          1268701,
          515208
         ]
        },
        {
         "name": "July",
         "type": "bar",
         "x": [
          2021,
          2022,
          2023
         ],
         "y": [
          1155434,
          1303376,
          0
         ]
        },
        {
         "name": "August",
         "type": "bar",
         "x": [
          2021,
          2022,
          2023
         ],
         "y": [
          1098972,
          1249038,
          0
         ]
        },
        {
         "name": "September",
         "type": "bar",
         "x": [
          2021,
          2022,
          2023
         ],
         "y": [
          1208914,
          796412,
          0
         ]
        },
        {
         "name": "October",
         "type": "bar",
         "x": [
          2021,
          2022,
          2023
         ],
         "y": [
          1099712,
          861664,
          0
         ]
        },
        {
         "name": "November",
         "type": "bar",
         "x": [
          2021,
          2022,
          2023
         ],
         "y": [
          936941,
          723460,
          0
         ]
        },
        {
         "name": "December",
         "type": "bar",
         "x": [
          2021,
          2022,
          2023
         ],
         "y": [
          661029,
          470761,
          0
         ]
        }
       ],
       "layout": {
        "annotations": [
         {
          "showarrow": false,
          "text": "2021",
          "x": 2021,
          "xshift": 0,
          "y": 10821289,
          "yshift": 10
         },
         {
          "showarrow": false,
          "text": "2022",
          "x": 2022,
          "xshift": 0,
          "y": 11419294,
          "yshift": 10
         },
         {
          "showarrow": false,
          "text": "2023",
          "x": 2023,
          "xshift": 0,
          "y": 3794918,
          "yshift": 10
         }
        ],
        "barmode": "stack",
        "template": {
         "data": {
          "bar": [
           {
            "error_x": {
             "color": "#2a3f5f"
            },
            "error_y": {
             "color": "#2a3f5f"
            },
            "marker": {
             "line": {
              "color": "#E5ECF6",
              "width": 0.5
             },
             "pattern": {
              "fillmode": "overlay",
              "size": 10,
              "solidity": 0.2
             }
            },
            "type": "bar"
           }
          ],
          "barpolar": [
           {
            "marker": {
             "line": {
              "color": "#E5ECF6",
              "width": 0.5
             },
             "pattern": {
              "fillmode": "overlay",
              "size": 10,
              "solidity": 0.2
             }
            },
            "type": "barpolar"
           }
          ],
          "carpet": [
           {
            "aaxis": {
             "endlinecolor": "#2a3f5f",
             "gridcolor": "white",
             "linecolor": "white",
             "minorgridcolor": "white",
             "startlinecolor": "#2a3f5f"
            },
            "baxis": {
             "endlinecolor": "#2a3f5f",
             "gridcolor": "white",
             "linecolor": "white",
             "minorgridcolor": "white",
             "startlinecolor": "#2a3f5f"
            },
            "type": "carpet"
           }
          ],
          "choropleth": [
           {
            "colorbar": {
             "outlinewidth": 0,
             "ticks": ""
            },
            "type": "choropleth"
           }
          ],
          "contour": [
           {
            "colorbar": {
             "outlinewidth": 0,
             "ticks": ""
            },
            "colorscale": [
             [
              0,
              "#0d0887"
             ],
             [
              0.1111111111111111,
              "#46039f"
             ],
             [
              0.2222222222222222,
              "#7201a8"
             ],
             [
              0.3333333333333333,
              "#9c179e"
             ],
             [
              0.4444444444444444,
              "#bd3786"
             ],
             [
              0.5555555555555556,
              "#d8576b"
             ],
             [
              0.6666666666666666,
              "#ed7953"
             ],
             [
              0.7777777777777778,
              "#fb9f3a"
             ],
             [
              0.8888888888888888,
              "#fdca26"
             ],
             [
              1,
              "#f0f921"
             ]
            ],
            "type": "contour"
           }
          ],
          "contourcarpet": [
           {
            "colorbar": {
             "outlinewidth": 0,
             "ticks": ""
            },
            "type": "contourcarpet"
           }
          ],
          "heatmap": [
           {
            "colorbar": {
             "outlinewidth": 0,
             "ticks": ""
            },
            "colorscale": [
             [
              0,
              "#0d0887"
             ],
             [
              0.1111111111111111,
              "#46039f"
             ],
             [
              0.2222222222222222,
              "#7201a8"
             ],
             [
              0.3333333333333333,
              "#9c179e"
             ],
             [
              0.4444444444444444,
              "#bd3786"
             ],
             [
              0.5555555555555556,
              "#d8576b"
             ],
             [
              0.6666666666666666,
              "#ed7953"
             ],
             [
              0.7777777777777778,
              "#fb9f3a"
             ],
             [
              0.8888888888888888,
              "#fdca26"
             ],
             [
              1,
              "#f0f921"
             ]
            ],
            "type": "heatmap"
           }
          ],
          "heatmapgl": [
           {
            "colorbar": {
             "outlinewidth": 0,
             "ticks": ""
            },
            "colorscale": [
             [
              0,
              "#0d0887"
             ],
             [
              0.1111111111111111,
              "#46039f"
             ],
             [
              0.2222222222222222,
              "#7201a8"
             ],
             [
              0.3333333333333333,
              "#9c179e"
             ],
             [
              0.4444444444444444,
              "#bd3786"
             ],
             [
              0.5555555555555556,
              "#d8576b"
             ],
             [
              0.6666666666666666,
              "#ed7953"
             ],
             [
              0.7777777777777778,
              "#fb9f3a"
             ],
             [
              0.8888888888888888,
              "#fdca26"
             ],
             [
              1,
              "#f0f921"
             ]
            ],
            "type": "heatmapgl"
           }
          ],
          "histogram": [
           {
            "marker": {
             "pattern": {
              "fillmode": "overlay",
              "size": 10,
              "solidity": 0.2
             }
            },
            "type": "histogram"
           }
          ],
          "histogram2d": [
           {
            "colorbar": {
             "outlinewidth": 0,
             "ticks": ""
            },
            "colorscale": [
             [
              0,
              "#0d0887"
             ],
             [
              0.1111111111111111,
              "#46039f"
             ],
             [
              0.2222222222222222,
              "#7201a8"
             ],
             [
              0.3333333333333333,
              "#9c179e"
             ],
             [
              0.4444444444444444,
              "#bd3786"
             ],
             [
              0.5555555555555556,
              "#d8576b"
             ],
             [
              0.6666666666666666,
              "#ed7953"
             ],
             [
              0.7777777777777778,
              "#fb9f3a"
             ],
             [
              0.8888888888888888,
              "#fdca26"
             ],
             [
              1,
              "#f0f921"
             ]
            ],
            "type": "histogram2d"
           }
          ],
          "histogram2dcontour": [
           {
            "colorbar": {
             "outlinewidth": 0,
             "ticks": ""
            },
            "colorscale": [
             [
              0,
              "#0d0887"
             ],
             [
              0.1111111111111111,
              "#46039f"
             ],
             [
              0.2222222222222222,
              "#7201a8"
             ],
             [
              0.3333333333333333,
              "#9c179e"
             ],
             [
              0.4444444444444444,
              "#bd3786"
             ],
             [
              0.5555555555555556,
              "#d8576b"
             ],
             [
              0.6666666666666666,
              "#ed7953"
             ],
             [
              0.7777777777777778,
              "#fb9f3a"
             ],
             [
              0.8888888888888888,
              "#fdca26"
             ],
             [
              1,
              "#f0f921"
             ]
            ],
            "type": "histogram2dcontour"
           }
          ],
          "mesh3d": [
           {
            "colorbar": {
             "outlinewidth": 0,
             "ticks": ""
            },
            "type": "mesh3d"
           }
          ],
          "parcoords": [
           {
            "line": {
             "colorbar": {
              "outlinewidth": 0,
              "ticks": ""
             }
            },
            "type": "parcoords"
           }
          ],
          "pie": [
           {
            "automargin": true,
            "type": "pie"
           }
          ],
          "scatter": [
           {
            "fillpattern": {
             "fillmode": "overlay",
             "size": 10,
             "solidity": 0.2
            },
            "type": "scatter"
           }
          ],
          "scatter3d": [
           {
            "line": {
             "colorbar": {
              "outlinewidth": 0,
              "ticks": ""
             }
            },
            "marker": {
             "colorbar": {
              "outlinewidth": 0,
              "ticks": ""
             }
            },
            "type": "scatter3d"
           }
          ],
          "scattercarpet": [
           {
            "marker": {
             "colorbar": {
              "outlinewidth": 0,
              "ticks": ""
             }
            },
            "type": "scattercarpet"
           }
          ],
          "scattergeo": [
           {
            "marker": {
             "colorbar": {
              "outlinewidth": 0,
              "ticks": ""
             }
            },
            "type": "scattergeo"
           }
          ],
          "scattergl": [
           {
            "marker": {
             "colorbar": {
              "outlinewidth": 0,
              "ticks": ""
             }
            },
            "type": "scattergl"
           }
          ],
          "scattermapbox": [
           {
            "marker": {
             "colorbar": {
              "outlinewidth": 0,
              "ticks": ""
             }
            },
            "type": "scattermapbox"
           }
          ],
          "scatterpolar": [
           {
            "marker": {
             "colorbar": {
              "outlinewidth": 0,
              "ticks": ""
             }
            },
            "type": "scatterpolar"
           }
          ],
          "scatterpolargl": [
           {
            "marker": {
             "colorbar": {
              "outlinewidth": 0,
              "ticks": ""
             }
            },
            "type": "scatterpolargl"
           }
          ],
          "scatterternary": [
           {
            "marker": {
             "colorbar": {
              "outlinewidth": 0,
              "ticks": ""
             }
            },
            "type": "scatterternary"
           }
          ],
          "surface": [
           {
            "colorbar": {
             "outlinewidth": 0,
             "ticks": ""
            },
            "colorscale": [
             [
              0,
              "#0d0887"
             ],
             [
              0.1111111111111111,
              "#46039f"
             ],
             [
              0.2222222222222222,
              "#7201a8"
             ],
             [
              0.3333333333333333,
              "#9c179e"
             ],
             [
              0.4444444444444444,
              "#bd3786"
             ],
             [
              0.5555555555555556,
              "#d8576b"
             ],
             [
              0.6666666666666666,
              "#ed7953"
             ],
             [
              0.7777777777777778,
              "#fb9f3a"
             ],
             [
              0.8888888888888888,
              "#fdca26"
             ],
             [
              1,
              "#f0f921"
             ]
            ],
            "type": "surface"
           }
          ],
          "table": [
           {
            "cells": {
             "fill": {
              "color": "#EBF0F8"
             },
             "line": {
              "color": "white"
             }
            },
            "header": {
             "fill": {
              "color": "#C8D4E3"
             },
             "line": {
              "color": "white"
             }
            },
            "type": "table"
           }
          ]
         },
         "layout": {
          "annotationdefaults": {
           "arrowcolor": "#2a3f5f",
           "arrowhead": 0,
           "arrowwidth": 1
          },
          "autotypenumbers": "strict",
          "coloraxis": {
           "colorbar": {
            "outlinewidth": 0,
            "ticks": ""
           }
          },
          "colorscale": {
           "diverging": [
            [
             0,
             "#8e0152"
            ],
            [
             0.1,
             "#c51b7d"
            ],
            [
             0.2,
             "#de77ae"
            ],
            [
             0.3,
             "#f1b6da"
            ],
            [
             0.4,
             "#fde0ef"
            ],
            [
             0.5,
             "#f7f7f7"
            ],
            [
             0.6,
             "#e6f5d0"
            ],
            [
             0.7,
             "#b8e186"
            ],
            [
             0.8,
             "#7fbc41"
            ],
            [
             0.9,
             "#4d9221"
            ],
            [
             1,
             "#276419"
            ]
           ],
           "sequential": [
            [
             0,
             "#0d0887"
            ],
            [
             0.1111111111111111,
             "#46039f"
            ],
            [
             0.2222222222222222,
             "#7201a8"
            ],
            [
             0.3333333333333333,
             "#9c179e"
            ],
            [
             0.4444444444444444,
             "#bd3786"
            ],
            [
             0.5555555555555556,
             "#d8576b"
            ],
            [
             0.6666666666666666,
             "#ed7953"
            ],
            [
             0.7777777777777778,
             "#fb9f3a"
            ],
            [
             0.8888888888888888,
             "#fdca26"
            ],
            [
             1,
             "#f0f921"
            ]
           ],
           "sequentialminus": [
            [
             0,
             "#0d0887"
            ],
            [
             0.1111111111111111,
             "#46039f"
            ],
            [
             0.2222222222222222,
             "#7201a8"
            ],
            [
             0.3333333333333333,
             "#9c179e"
            ],
            [
             0.4444444444444444,
             "#bd3786"
            ],
            [
             0.5555555555555556,
             "#d8576b"
            ],
            [
             0.6666666666666666,
             "#ed7953"
            ],
            [
             0.7777777777777778,
             "#fb9f3a"
            ],
            [
             0.8888888888888888,
             "#fdca26"
            ],
            [
             1,
             "#f0f921"
            ]
           ]
          },
          "colorway": [
           "#636efa",
           "#EF553B",
           "#00cc96",
           "#ab63fa",
           "#FFA15A",
           "#19d3f3",
           "#FF6692",
           "#B6E880",
           "#FF97FF",
           "#FECB52"
          ],
          "font": {
           "color": "#2a3f5f"
          },
          "geo": {
           "bgcolor": "white",
           "lakecolor": "white",
           "landcolor": "#E5ECF6",
           "showlakes": true,
           "showland": true,
           "subunitcolor": "white"
          },
          "hoverlabel": {
           "align": "left"
          },
          "hovermode": "closest",
          "mapbox": {
           "style": "light"
          },
          "paper_bgcolor": "white",
          "plot_bgcolor": "#E5ECF6",
          "polar": {
           "angularaxis": {
            "gridcolor": "white",
            "linecolor": "white",
            "ticks": ""
           },
           "bgcolor": "#E5ECF6",
           "radialaxis": {
            "gridcolor": "white",
            "linecolor": "white",
            "ticks": ""
           }
          },
          "scene": {
           "xaxis": {
            "backgroundcolor": "#E5ECF6",
            "gridcolor": "white",
            "gridwidth": 2,
            "linecolor": "white",
            "showbackground": true,
            "ticks": "",
            "zerolinecolor": "white"
           },
           "yaxis": {
            "backgroundcolor": "#E5ECF6",
            "gridcolor": "white",
            "gridwidth": 2,
            "linecolor": "white",
            "showbackground": true,
            "ticks": "",
            "zerolinecolor": "white"
           },
           "zaxis": {
            "backgroundcolor": "#E5ECF6",
            "gridcolor": "white",
            "gridwidth": 2,
            "linecolor": "white",
            "showbackground": true,
            "ticks": "",
            "zerolinecolor": "white"
           }
          },
          "shapedefaults": {
           "line": {
            "color": "#2a3f5f"
           }
          },
          "ternary": {
           "aaxis": {
            "gridcolor": "white",
            "linecolor": "white",
            "ticks": ""
           },
           "baxis": {
            "gridcolor": "white",
            "linecolor": "white",
            "ticks": ""
           },
           "bgcolor": "#E5ECF6",
           "caxis": {
            "gridcolor": "white",
            "linecolor": "white",
            "ticks": ""
           }
          },
          "title": {
           "x": 0.05
          },
          "xaxis": {
           "automargin": true,
           "gridcolor": "white",
           "linecolor": "white",
           "ticks": "",
           "title": {
            "standoff": 15
           },
           "zerolinecolor": "white",
           "zerolinewidth": 2
          },
          "yaxis": {
           "automargin": true,
           "gridcolor": "white",
           "linecolor": "white",
           "ticks": "",
           "title": {
            "standoff": 15
           },
           "zerolinecolor": "white",
           "zerolinewidth": 2
          }
         }
        },
        "title": {
         "text": "Number of Rentals by Month for Each Year (Stacked)"
        },
        "xaxis": {
         "title": {
          "text": "Year"
         }
        },
        "yaxis": {
         "title": {
          "text": "Number of Rentals"
         }
        }
       }
      },
      "text/html": [
       "<div>                            <div id=\"a9bfa2c3-4b58-4335-9817-234f40f816dc\" class=\"plotly-graph-div\" style=\"height:525px; width:100%;\"></div>            <script type=\"text/javascript\">                require([\"plotly\"], function(Plotly) {                    window.PLOTLYENV=window.PLOTLYENV || {};                                    if (document.getElementById(\"a9bfa2c3-4b58-4335-9817-234f40f816dc\")) {                    Plotly.newPlot(                        \"a9bfa2c3-4b58-4335-9817-234f40f816dc\",                        [{\"name\":\"January\",\"x\":[2021,2022,2023],\"y\":[405015,741875,569504],\"type\":\"bar\"},{\"name\":\"February\",\"x\":[2021,2022,2023],\"y\":[504154,743581,612571],\"type\":\"bar\"},{\"name\":\"March\",\"x\":[2021,2022,2023],\"y\":[738522,1047369,629728],\"type\":\"bar\"},{\"name\":\"April\",\"x\":[2021,2022,2023],\"y\":[930934,1022467,646025],\"type\":\"bar\"},{\"name\":\"May\",\"x\":[2021,2022,2023],\"y\":[912059,1190590,821882],\"type\":\"bar\"},{\"name\":\"June\",\"x\":[2021,2022,2023],\"y\":[1169603,1268701,515208],\"type\":\"bar\"},{\"name\":\"July\",\"x\":[2021,2022,2023],\"y\":[1155434,1303376,0],\"type\":\"bar\"},{\"name\":\"August\",\"x\":[2021,2022,2023],\"y\":[1098972,1249038,0],\"type\":\"bar\"},{\"name\":\"September\",\"x\":[2021,2022,2023],\"y\":[1208914,796412,0],\"type\":\"bar\"},{\"name\":\"October\",\"x\":[2021,2022,2023],\"y\":[1099712,861664,0],\"type\":\"bar\"},{\"name\":\"November\",\"x\":[2021,2022,2023],\"y\":[936941,723460,0],\"type\":\"bar\"},{\"name\":\"December\",\"x\":[2021,2022,2023],\"y\":[661029,470761,0],\"type\":\"bar\"}],                        {\"annotations\":[{\"showarrow\":false,\"text\":\"2021\",\"x\":2021,\"xshift\":0,\"y\":10821289,\"yshift\":10},{\"showarrow\":false,\"text\":\"2022\",\"x\":2022,\"xshift\":0,\"y\":11419294,\"yshift\":10},{\"showarrow\":false,\"text\":\"2023\",\"x\":2023,\"xshift\":0,\"y\":3794918,\"yshift\":10}],\"barmode\":\"stack\",\"template\":{\"data\":{\"barpolar\":[{\"marker\":{\"line\":{\"color\":\"#E5ECF6\",\"width\":0.5},\"pattern\":{\"fillmode\":\"overlay\",\"size\":10,\"solidity\":0.2}},\"type\":\"barpolar\"}],\"bar\":[{\"error_x\":{\"color\":\"#2a3f5f\"},\"error_y\":{\"color\":\"#2a3f5f\"},\"marker\":{\"line\":{\"color\":\"#E5ECF6\",\"width\":0.5},\"pattern\":{\"fillmode\":\"overlay\",\"size\":10,\"solidity\":0.2}},\"type\":\"bar\"}],\"carpet\":[{\"aaxis\":{\"endlinecolor\":\"#2a3f5f\",\"gridcolor\":\"white\",\"linecolor\":\"white\",\"minorgridcolor\":\"white\",\"startlinecolor\":\"#2a3f5f\"},\"baxis\":{\"endlinecolor\":\"#2a3f5f\",\"gridcolor\":\"white\",\"linecolor\":\"white\",\"minorgridcolor\":\"white\",\"startlinecolor\":\"#2a3f5f\"},\"type\":\"carpet\"}],\"choropleth\":[{\"colorbar\":{\"outlinewidth\":0,\"ticks\":\"\"},\"type\":\"choropleth\"}],\"contourcarpet\":[{\"colorbar\":{\"outlinewidth\":0,\"ticks\":\"\"},\"type\":\"contourcarpet\"}],\"contour\":[{\"colorbar\":{\"outlinewidth\":0,\"ticks\":\"\"},\"colorscale\":[[0.0,\"#0d0887\"],[0.1111111111111111,\"#46039f\"],[0.2222222222222222,\"#7201a8\"],[0.3333333333333333,\"#9c179e\"],[0.4444444444444444,\"#bd3786\"],[0.5555555555555556,\"#d8576b\"],[0.6666666666666666,\"#ed7953\"],[0.7777777777777778,\"#fb9f3a\"],[0.8888888888888888,\"#fdca26\"],[1.0,\"#f0f921\"]],\"type\":\"contour\"}],\"heatmapgl\":[{\"colorbar\":{\"outlinewidth\":0,\"ticks\":\"\"},\"colorscale\":[[0.0,\"#0d0887\"],[0.1111111111111111,\"#46039f\"],[0.2222222222222222,\"#7201a8\"],[0.3333333333333333,\"#9c179e\"],[0.4444444444444444,\"#bd3786\"],[0.5555555555555556,\"#d8576b\"],[0.6666666666666666,\"#ed7953\"],[0.7777777777777778,\"#fb9f3a\"],[0.8888888888888888,\"#fdca26\"],[1.0,\"#f0f921\"]],\"type\":\"heatmapgl\"}],\"heatmap\":[{\"colorbar\":{\"outlinewidth\":0,\"ticks\":\"\"},\"colorscale\":[[0.0,\"#0d0887\"],[0.1111111111111111,\"#46039f\"],[0.2222222222222222,\"#7201a8\"],[0.3333333333333333,\"#9c179e\"],[0.4444444444444444,\"#bd3786\"],[0.5555555555555556,\"#d8576b\"],[0.6666666666666666,\"#ed7953\"],[0.7777777777777778,\"#fb9f3a\"],[0.8888888888888888,\"#fdca26\"],[1.0,\"#f0f921\"]],\"type\":\"heatmap\"}],\"histogram2dcontour\":[{\"colorbar\":{\"outlinewidth\":0,\"ticks\":\"\"},\"colorscale\":[[0.0,\"#0d0887\"],[0.1111111111111111,\"#46039f\"],[0.2222222222222222,\"#7201a8\"],[0.3333333333333333,\"#9c179e\"],[0.4444444444444444,\"#bd3786\"],[0.5555555555555556,\"#d8576b\"],[0.6666666666666666,\"#ed7953\"],[0.7777777777777778,\"#fb9f3a\"],[0.8888888888888888,\"#fdca26\"],[1.0,\"#f0f921\"]],\"type\":\"histogram2dcontour\"}],\"histogram2d\":[{\"colorbar\":{\"outlinewidth\":0,\"ticks\":\"\"},\"colorscale\":[[0.0,\"#0d0887\"],[0.1111111111111111,\"#46039f\"],[0.2222222222222222,\"#7201a8\"],[0.3333333333333333,\"#9c179e\"],[0.4444444444444444,\"#bd3786\"],[0.5555555555555556,\"#d8576b\"],[0.6666666666666666,\"#ed7953\"],[0.7777777777777778,\"#fb9f3a\"],[0.8888888888888888,\"#fdca26\"],[1.0,\"#f0f921\"]],\"type\":\"histogram2d\"}],\"histogram\":[{\"marker\":{\"pattern\":{\"fillmode\":\"overlay\",\"size\":10,\"solidity\":0.2}},\"type\":\"histogram\"}],\"mesh3d\":[{\"colorbar\":{\"outlinewidth\":0,\"ticks\":\"\"},\"type\":\"mesh3d\"}],\"parcoords\":[{\"line\":{\"colorbar\":{\"outlinewidth\":0,\"ticks\":\"\"}},\"type\":\"parcoords\"}],\"pie\":[{\"automargin\":true,\"type\":\"pie\"}],\"scatter3d\":[{\"line\":{\"colorbar\":{\"outlinewidth\":0,\"ticks\":\"\"}},\"marker\":{\"colorbar\":{\"outlinewidth\":0,\"ticks\":\"\"}},\"type\":\"scatter3d\"}],\"scattercarpet\":[{\"marker\":{\"colorbar\":{\"outlinewidth\":0,\"ticks\":\"\"}},\"type\":\"scattercarpet\"}],\"scattergeo\":[{\"marker\":{\"colorbar\":{\"outlinewidth\":0,\"ticks\":\"\"}},\"type\":\"scattergeo\"}],\"scattergl\":[{\"marker\":{\"colorbar\":{\"outlinewidth\":0,\"ticks\":\"\"}},\"type\":\"scattergl\"}],\"scattermapbox\":[{\"marker\":{\"colorbar\":{\"outlinewidth\":0,\"ticks\":\"\"}},\"type\":\"scattermapbox\"}],\"scatterpolargl\":[{\"marker\":{\"colorbar\":{\"outlinewidth\":0,\"ticks\":\"\"}},\"type\":\"scatterpolargl\"}],\"scatterpolar\":[{\"marker\":{\"colorbar\":{\"outlinewidth\":0,\"ticks\":\"\"}},\"type\":\"scatterpolar\"}],\"scatter\":[{\"fillpattern\":{\"fillmode\":\"overlay\",\"size\":10,\"solidity\":0.2},\"type\":\"scatter\"}],\"scatterternary\":[{\"marker\":{\"colorbar\":{\"outlinewidth\":0,\"ticks\":\"\"}},\"type\":\"scatterternary\"}],\"surface\":[{\"colorbar\":{\"outlinewidth\":0,\"ticks\":\"\"},\"colorscale\":[[0.0,\"#0d0887\"],[0.1111111111111111,\"#46039f\"],[0.2222222222222222,\"#7201a8\"],[0.3333333333333333,\"#9c179e\"],[0.4444444444444444,\"#bd3786\"],[0.5555555555555556,\"#d8576b\"],[0.6666666666666666,\"#ed7953\"],[0.7777777777777778,\"#fb9f3a\"],[0.8888888888888888,\"#fdca26\"],[1.0,\"#f0f921\"]],\"type\":\"surface\"}],\"table\":[{\"cells\":{\"fill\":{\"color\":\"#EBF0F8\"},\"line\":{\"color\":\"white\"}},\"header\":{\"fill\":{\"color\":\"#C8D4E3\"},\"line\":{\"color\":\"white\"}},\"type\":\"table\"}]},\"layout\":{\"annotationdefaults\":{\"arrowcolor\":\"#2a3f5f\",\"arrowhead\":0,\"arrowwidth\":1},\"autotypenumbers\":\"strict\",\"coloraxis\":{\"colorbar\":{\"outlinewidth\":0,\"ticks\":\"\"}},\"colorscale\":{\"diverging\":[[0,\"#8e0152\"],[0.1,\"#c51b7d\"],[0.2,\"#de77ae\"],[0.3,\"#f1b6da\"],[0.4,\"#fde0ef\"],[0.5,\"#f7f7f7\"],[0.6,\"#e6f5d0\"],[0.7,\"#b8e186\"],[0.8,\"#7fbc41\"],[0.9,\"#4d9221\"],[1,\"#276419\"]],\"sequential\":[[0.0,\"#0d0887\"],[0.1111111111111111,\"#46039f\"],[0.2222222222222222,\"#7201a8\"],[0.3333333333333333,\"#9c179e\"],[0.4444444444444444,\"#bd3786\"],[0.5555555555555556,\"#d8576b\"],[0.6666666666666666,\"#ed7953\"],[0.7777777777777778,\"#fb9f3a\"],[0.8888888888888888,\"#fdca26\"],[1.0,\"#f0f921\"]],\"sequentialminus\":[[0.0,\"#0d0887\"],[0.1111111111111111,\"#46039f\"],[0.2222222222222222,\"#7201a8\"],[0.3333333333333333,\"#9c179e\"],[0.4444444444444444,\"#bd3786\"],[0.5555555555555556,\"#d8576b\"],[0.6666666666666666,\"#ed7953\"],[0.7777777777777778,\"#fb9f3a\"],[0.8888888888888888,\"#fdca26\"],[1.0,\"#f0f921\"]]},\"colorway\":[\"#636efa\",\"#EF553B\",\"#00cc96\",\"#ab63fa\",\"#FFA15A\",\"#19d3f3\",\"#FF6692\",\"#B6E880\",\"#FF97FF\",\"#FECB52\"],\"font\":{\"color\":\"#2a3f5f\"},\"geo\":{\"bgcolor\":\"white\",\"lakecolor\":\"white\",\"landcolor\":\"#E5ECF6\",\"showlakes\":true,\"showland\":true,\"subunitcolor\":\"white\"},\"hoverlabel\":{\"align\":\"left\"},\"hovermode\":\"closest\",\"mapbox\":{\"style\":\"light\"},\"paper_bgcolor\":\"white\",\"plot_bgcolor\":\"#E5ECF6\",\"polar\":{\"angularaxis\":{\"gridcolor\":\"white\",\"linecolor\":\"white\",\"ticks\":\"\"},\"bgcolor\":\"#E5ECF6\",\"radialaxis\":{\"gridcolor\":\"white\",\"linecolor\":\"white\",\"ticks\":\"\"}},\"scene\":{\"xaxis\":{\"backgroundcolor\":\"#E5ECF6\",\"gridcolor\":\"white\",\"gridwidth\":2,\"linecolor\":\"white\",\"showbackground\":true,\"ticks\":\"\",\"zerolinecolor\":\"white\"},\"yaxis\":{\"backgroundcolor\":\"#E5ECF6\",\"gridcolor\":\"white\",\"gridwidth\":2,\"linecolor\":\"white\",\"showbackground\":true,\"ticks\":\"\",\"zerolinecolor\":\"white\"},\"zaxis\":{\"backgroundcolor\":\"#E5ECF6\",\"gridcolor\":\"white\",\"gridwidth\":2,\"linecolor\":\"white\",\"showbackground\":true,\"ticks\":\"\",\"zerolinecolor\":\"white\"}},\"shapedefaults\":{\"line\":{\"color\":\"#2a3f5f\"}},\"ternary\":{\"aaxis\":{\"gridcolor\":\"white\",\"linecolor\":\"white\",\"ticks\":\"\"},\"baxis\":{\"gridcolor\":\"white\",\"linecolor\":\"white\",\"ticks\":\"\"},\"bgcolor\":\"#E5ECF6\",\"caxis\":{\"gridcolor\":\"white\",\"linecolor\":\"white\",\"ticks\":\"\"}},\"title\":{\"x\":0.05},\"xaxis\":{\"automargin\":true,\"gridcolor\":\"white\",\"linecolor\":\"white\",\"ticks\":\"\",\"title\":{\"standoff\":15},\"zerolinecolor\":\"white\",\"zerolinewidth\":2},\"yaxis\":{\"automargin\":true,\"gridcolor\":\"white\",\"linecolor\":\"white\",\"ticks\":\"\",\"title\":{\"standoff\":15},\"zerolinecolor\":\"white\",\"zerolinewidth\":2}}},\"title\":{\"text\":\"Number of Rentals by Month for Each Year (Stacked)\"},\"xaxis\":{\"title\":{\"text\":\"Year\"}},\"yaxis\":{\"title\":{\"text\":\"Number of Rentals\"}}},                        {\"responsive\": true}                    ).then(function(){\n",
       "                            \n",
       "var gd = document.getElementById('a9bfa2c3-4b58-4335-9817-234f40f816dc');\n",
       "var x = new MutationObserver(function (mutations, observer) {{\n",
       "        var display = window.getComputedStyle(gd).display;\n",
       "        if (!display || display === 'none') {{\n",
       "            console.log([gd, 'removed!']);\n",
       "            Plotly.purge(gd);\n",
       "            observer.disconnect();\n",
       "        }}\n",
       "}});\n",
       "\n",
       "// Listen for the removal of the full notebook cells\n",
       "var notebookContainer = gd.closest('#notebook-container');\n",
       "if (notebookContainer) {{\n",
       "    x.observe(notebookContainer, {childList: true});\n",
       "}}\n",
       "\n",
       "// Listen for the clearing of the current output cell\n",
       "var outputEl = gd.closest('.output');\n",
       "if (outputEl) {{\n",
       "    x.observe(outputEl, {childList: true});\n",
       "}}\n",
       "\n",
       "                        })                };                });            </script>        </div>"
      ]
     },
     "metadata": {},
     "output_type": "display_data"
    }
   ],
   "source": [
    "# Create a list of month names\n",
    "months = ['January', 'February', 'March', 'April', 'May', 'June', 'July', 'August', 'September', 'October', 'November', 'December']\n",
    "\n",
    "# Convert the 'Start Date' column to a datetime object if it's not already\n",
    "tfl_cycling_df_preprocessed['Start Date'] = pd.to_datetime(tfl_cycling_df_preprocessed['Start Date'])\n",
    "\n",
    "# Filter out rows with 2020 data\n",
    "tfl_cycling_df_preprocessed = tfl_cycling_df_preprocessed[tfl_cycling_df_preprocessed['Start Date'].dt.year > 2020]\n",
    "\n",
    "# Create a categorical column for months\n",
    "tfl_cycling_df_preprocessed['Start Month Category'] = pd.Categorical(\n",
    "    tfl_cycling_df_preprocessed['Start Date'].dt.strftime('%B'),\n",
    "    categories=months,\n",
    "    ordered=True\n",
    ")\n",
    "\n",
    "# Group the data by year and month and count rentals\n",
    "grouped_data = tfl_cycling_df_preprocessed.groupby([tfl_cycling_df_preprocessed['Start Date'].dt.year, 'Start Month Category'])['Rental Id'].count().unstack()\n",
    "\n",
    "# Create a Plotly figure\n",
    "traces = []\n",
    "for month in months:\n",
    "    traces.append(go.Bar(\n",
    "        x=grouped_data.index,\n",
    "        y=grouped_data[month].fillna(0),  # Fill NaN values with 0\n",
    "        name=month\n",
    "    ))\n",
    "\n",
    "layout = go.Layout(\n",
    "    title='Number of Rentals by Month for Each Year (Stacked)',\n",
    "    xaxis=dict(title='Year'),\n",
    "    yaxis=dict(title='Number of Rentals'),\n",
    "    barmode='stack'\n",
    ")\n",
    "\n",
    "fig = go.Figure(data=traces, layout=layout)\n",
    "\n",
    "# Add total rentals at the top of each bar\n",
    "for i in range(len(grouped_data.index)):\n",
    "    year = int(grouped_data.index[i])\n",
    "    height = grouped_data.iloc[i].sum()\n",
    "    fig.add_annotation(\n",
    "        text=f'{year}',\n",
    "        x=year,\n",
    "        y=height,\n",
    "        showarrow=False,\n",
    "        xshift=0,\n",
    "        yshift=10\n",
    "    )\n",
    "\n",
    "pyo.iplot(fig)\n"
   ]
  },
  {
   "cell_type": "code",
   "execution_count": 127,
   "metadata": {
    "scrolled": true
   },
   "outputs": [],
   "source": [
    "# Filter out rows with 2020 data\n",
    "tfl_cycling_df_preprocessed = tfl_cycling_df_preprocessed[tfl_cycling_df_preprocessed['Start Date'].dt.year > 2020]\n"
   ]
  },
  {
   "cell_type": "code",
   "execution_count": 459,
   "metadata": {
    "colab": {
     "base_uri": "https://localhost:8080/",
     "height": 558
    },
    "id": "UcHFTzyxbEDO",
    "outputId": "33cf872b-f15a-4e7d-b659-ef79a1055205"
   },
   "outputs": [
    {
     "data": {
      "image/png": "[encoded data removed]",
      "text/plain": [
       "<Figure size 1800x1200 with 4 Axes>"
      ]
     },
     "metadata": {},
     "output_type": "display_data"
    }
   ],
   "source": [
    "# Create a figure with subplots and increase the figure size\n",
    "fig, axes = plt.subplots(2, 2, figsize=(18, 12))\n",
    "\n",
    "# Subplot 1: Distribution of Rentals by Year\n",
    "ax1 = sns.countplot(data=tfl_cycling_df_preprocessed, x='Start Year', ax=axes[0, 0], palette=\"Blues\")\n",
    "ax1.set_xlabel('Year')\n",
    "ax1.set_ylabel('Rentals')\n",
    "\n",
    "# Subplot 2: Distribution of Rentals by Month\n",
    "ax2 = sns.countplot(data=tfl_cycling_df_preprocessed, x='Start Month', ax=axes[0, 1], palette=\"Blues\")\n",
    "ax2.set_xlabel('Month')\n",
    "ax2.set_ylabel('Rentals')\n",
    "\n",
    "# Subplot 3: Distribution of Rentals by Day of Week\n",
    "ax3 = sns.countplot(data=tfl_cycling_df_preprocessed, x='Start Day of Week', ax=axes[1, 0], order=['Monday', 'Tuesday', 'Wednesday', 'Thursday', 'Friday', 'Saturday', 'Sunday'], palette=\"Blues\")\n",
    "ax3.set_xlabel('Day of Week')\n",
    "ax3.set_ylabel('Rentals')\n",
    "\n",
    "# Subplot 4: Distribution of Rentals by Hour of the Day\n",
    "ax4 = sns.countplot(data=tfl_cycling_df_preprocessed, x='Start Hour', ax=axes[1, 1], palette=\"Blues\")\n",
    "ax4.set_xlabel('Hour of the Day')\n",
    "ax4.set_ylabel('Rentals')\n",
    "\n",
    "# Highlight the max value with dark blue and add data values at the top of each bar\n",
    "for ax in [ax1, ax2, ax3, ax4]:\n",
    "    max_value = max(ax.patches, key=lambda p: p.get_height())\n",
    "    max_value.set_color('darkblue')\n",
    "    for bar in ax.patches:\n",
    "        if bar.get_height() == max_value.get_height():\n",
    "            ax.annotate(f'{int(bar.get_height())}', (bar.get_x() + bar.get_width() / 2, bar.get_height()), ha='center', va='bottom', fontsize=12)\n",
    "\n",
    "plt.tight_layout()\n",
    "plt.show()\n"
   ]
  },
  {
   "cell_type": "markdown",
   "metadata": {
    "id": "h8Ze2MiqcVI0"
   },
   "source": [
    "### Bike Usage Analysis\n",
    "Investigate the usage of different bike models and identify any preferences among customers. Check for missing data in the \"Bike Model\" column."
   ]
  },
  {
   "cell_type": "code",
   "execution_count": 140,
   "metadata": {
    "id": "xNx03nTvaxSk",
    "scrolled": true
   },
   "outputs": [
    {
     "name": "stdout",
     "output_type": "stream",
     "text": [
      "Rows with missing 'Bike Model' data:\n",
      "          Rental Id  Duration  Bike Id            End Date EndStation Id  \\\n",
      "0         104820582      1620       22 2021-01-03 15:14:00          11.0   \n",
      "1         104816169      1740    10755 2021-01-03 13:26:00         542.0   \n",
      "4         104788389      5400    15668 2021-01-01 16:29:00         655.0   \n",
      "5         104792584       240     6695 2021-01-01 21:02:00         682.0   \n",
      "7         104791339      1860     6695 2021-01-01 18:28:00         655.0   \n",
      "...             ...       ...      ...                 ...           ...   \n",
      "26067210  131400576      1306    57572 2023-06-12 00:22:00        300073   \n",
      "26067211  131400577      2767    58990 2023-06-12 00:46:00           995   \n",
      "26067212  131400578       931    61140 2023-06-12 00:16:00          3480   \n",
      "26067213  131400579       943    56849 2023-06-12 00:16:00        200252   \n",
      "26067214  131400580      1176    23563 2023-06-12 00:20:00        200167   \n",
      "\n",
      "                                EndStation Name          Start Date  \\\n",
      "0                  Brunswick Square, Bloomsbury 2021-01-03 14:47:00   \n",
      "1                        Salmon Lane, Limehouse 2021-01-03 12:57:00   \n",
      "4                         Crabtree Lane, Fulham 2021-01-01 14:59:00   \n",
      "5                       Crisp Road, Hammersmith 2021-01-01 20:58:00   \n",
      "7                         Crabtree Lane, Fulham 2021-01-01 17:57:00   \n",
      "...                                         ...                 ...   \n",
      "26067210  Prince of Wales Drive, Battersea Park 2023-06-12 00:00:00   \n",
      "26067211         Little Argyll Street, West End 2023-06-12 00:00:00   \n",
      "26067212              Smith Square, Westminster 2023-06-12 00:00:00   \n",
      "26067213                Bow Church Station, Bow 2023-06-12 00:00:00   \n",
      "26067214            Twig Folly Bridge, Mile End 2023-06-12 00:00:00   \n",
      "\n",
      "         StartStation Id                 StartStation Name  Bike Model  \\\n",
      "0                    542            Salmon Lane, Limehouse         NaN   \n",
      "1                    546          New Fetter Lane, Holborn         NaN   \n",
      "4                    655             Crabtree Lane, Fulham         NaN   \n",
      "5                    655             Crabtree Lane, Fulham         NaN   \n",
      "7                    655             Crabtree Lane, Fulham         NaN   \n",
      "...                  ...                               ...         ...   \n",
      "26067210          200184          Erin Close, Walham Green     CLASSIC   \n",
      "26067211            1071             Tower Gardens , Tower     CLASSIC   \n",
      "26067212            3428        Pancras Road, King's Cross  PBSC_EBIKE   \n",
      "26067213          200239  Old Montague Street, Whitechapel     CLASSIC   \n",
      "26067214          200155      Gascoyne Road, Victoria Park     CLASSIC   \n",
      "\n",
      "          Duration Days  Duration Hours  Duration Minutes  Start Year  \\\n",
      "0                     0        0.450000         27.000000        2021   \n",
      "1                     0        0.483333         29.000000        2021   \n",
      "4                     0        1.500000         90.000000        2021   \n",
      "5                     0        0.066667          4.000000        2021   \n",
      "7                     0        0.516667         31.000000        2021   \n",
      "...                 ...             ...               ...         ...   \n",
      "26067210              0        0.362778         21.766667        2023   \n",
      "26067211              0        0.768611         46.116667        2023   \n",
      "26067212              0        0.258611         15.516667        2023   \n",
      "26067213              0        0.261944         15.716667        2023   \n",
      "26067214              0        0.326667         19.600000        2023   \n",
      "\n",
      "          Start Month Start Day of Week  Start Hour Start Month Category  \n",
      "0                   1            Sunday          14              January  \n",
      "1                   1            Sunday          12              January  \n",
      "4                   1            Friday          14              January  \n",
      "5                   1            Friday          20              January  \n",
      "7                   1            Friday          17              January  \n",
      "...               ...               ...         ...                  ...  \n",
      "26067210            6            Monday           0                 June  \n",
      "26067211            6            Monday           0                 June  \n",
      "26067212            6            Monday           0                 June  \n",
      "26067213            6            Monday           0                 June  \n",
      "26067214            6            Monday           0                 June  \n",
      "\n",
      "[26035501 rows x 18 columns]\n"
     ]
    }
   ],
   "source": [
    "# Check for missing values in the 'Bike Model' column\n",
    "missing_bike_models = tfl_cycling_df_preprocessed[tfl_cycling_df_preprocessed['Bike Model'] != \"NaN\"]\n",
    "if not missing_bike_models.empty:\n",
    "    print(\"Rows with missing 'Bike Model' data:\")\n",
    "    print(missing_bike_models)\n"
   ]
  },
  {
   "cell_type": "code",
   "execution_count": 149,
   "metadata": {
    "id": "VjAcyzCHcX6V",
    "scrolled": true
   },
   "outputs": [
    {
     "data": {
      "image/png": "[encoded data removed]",
      "text/plain": [
       "<Figure size 1000x600 with 1 Axes>"
      ]
     },
     "metadata": {},
     "output_type": "display_data"
    }
   ],
   "source": [
    "bike_model_counts = tfl_cycling_df_preprocessed['Bike Model'].value_counts()\n",
    "plt.figure(figsize=(10, 6))\n",
    "ax = sns.barplot(x=bike_model_counts.index, y=bike_model_counts.values, palette=\"Blues\")\n",
    "\n",
    "# Find the maximum value\n",
    "max_value = bike_model_counts.max()\n",
    "\n",
    "# Highlight the maximum value with dark blue\n",
    "for bar in ax.patches:\n",
    "    if bar.get_height() == max_value:\n",
    "        bar.set_facecolor('darkblue')\n",
    "\n",
    "plt.title('Bike Model Usage')\n",
    "plt.xlabel('Bike Model')\n",
    "plt.ylabel('Count')\n",
    "plt.xticks(rotation=45)\n",
    "plt.show()\n"
   ]
  },
  {
   "cell_type": "markdown",
   "metadata": {
    "id": "XD48HPJ0dFIG"
   },
   "source": [
    "## Station Analysis\n",
    "Examine the start and end stations to identify popular routes and high-traffic areas."
   ]
  },
  {
   "cell_type": "markdown",
   "metadata": {},
   "source": [
    "### Top 10 start and end stations"
   ]
  },
  {
   "cell_type": "code",
   "execution_count": 159,
   "metadata": {
    "colab": {
     "base_uri": "https://localhost:8080/",
     "height": 480
    },
    "id": "k1ythhamc-h9",
    "outputId": "c8cc1ffd-ff20-4fd0-948a-222c1ded0ed9"
   },
   "outputs": [
    {
     "data": {
      "image/png": "[encoded data removed]",
      "text/plain": [
       "<Figure size 1400x600 with 2 Axes>"
      ]
     },
     "metadata": {},
     "output_type": "display_data"
    }
   ],
   "source": [
    "\n",
    "# Get the top start and end stations\n",
    "start_stations = tfl_cycling_df_preprocessed['StartStation Name'].value_counts().head(10)\n",
    "end_stations = tfl_cycling_df_preprocessed['EndStation Name'].value_counts().head(10)\n",
    "\n",
    "# Define the color palette\n",
    "custom_palette = list(reversed(sns.color_palette(\"Blues\", n_colors=len(start_stations))))\n",
    "\n",
    "plt.figure(figsize=(14, 6))\n",
    "\n",
    "plt.subplot(1, 2, 1)\n",
    "ax = sns.barplot(x=start_stations.values, y=start_stations.index, palette=custom_palette)\n",
    "plt.title('Top Start Stations')\n",
    "plt.xlabel('Total Rentals')\n",
    "plt.ylabel('Start Station Name')\n",
    "plt.xticks(rotation=45)  # Rotate x-axis labels\n",
    "\n",
    "# Find the maximum value in start stations\n",
    "max_start_station_count = start_stations.max()\n",
    "\n",
    "# Highlight the maximum value with dark blue\n",
    "for bar in ax.patches:\n",
    "    if bar.get_width() == max_start_station_count:\n",
    "        bar.set_facecolor('darkblue')\n",
    "\n",
    "plt.subplot(1, 2, 2)\n",
    "ax = sns.barplot(x=end_stations.values, y=end_stations.index, palette=custom_palette)\n",
    "plt.title('Top End Stations')\n",
    "plt.xlabel('Total Rentals')\n",
    "plt.ylabel('End Station Name')\n",
    "plt.xticks(rotation=45)  # Rotate x-axis labels\n",
    "\n",
    "# Find the maximum value in end stations\n",
    "max_end_station_count = end_stations.max()\n",
    "\n",
    "# Highlight the maximum value with dark blue\n",
    "for bar in ax.patches:\n",
    "    if bar.get_width() == max_end_station_count:\n",
    "        bar.set_facecolor('darkblue')\n",
    "\n",
    "plt.tight_layout()\n",
    "plt.show()\n",
    "\n"
   ]
  },
  {
   "cell_type": "markdown",
   "metadata": {},
   "source": [
    "Hyde Park Corner emerges as the most popular start and end station, with a significantly higher usage frequency compared to other stations in the dataset\n"
   ]
  },
  {
   "cell_type": "markdown",
   "metadata": {},
   "source": [
    "### Least used start and end stations"
   ]
  },
  {
   "cell_type": "code",
   "execution_count": 162,
   "metadata": {
    "scrolled": true
   },
   "outputs": [],
   "source": [
    "# Get the top start and end stations\n",
    "start_stations = tfl_cycling_df_preprocessed['StartStation Name'].value_counts().tail(10)\n",
    "end_stations = tfl_cycling_df_preprocessed['EndStation Name'].value_counts().tail(10)\n"
   ]
  },
  {
   "cell_type": "code",
   "execution_count": 415,
   "metadata": {
    "scrolled": true
   },
   "outputs": [
    {
     "data": {
      "image/png": "[encoded data removed]",
      "text/plain": [
       "<Figure size 1400x600 with 2 Axes>"
      ]
     },
     "metadata": {},
     "output_type": "display_data"
    }
   ],
   "source": [
    "# Reverse the order of your data (start_stations and end_stations)\n",
    "start_stations = start_stations[::-1]\n",
    "end_stations = end_stations[::-1]\n",
    "\n",
    "# Define the color palette\n",
    "custom_palette = list(sns.color_palette(\"Blues\", n_colors=len(start_stations)))\n",
    "\n",
    "plt.figure(figsize=(14, 6))\n",
    "\n",
    "plt.subplot(1, 2, 1)\n",
    "ax = sns.barplot(x=start_stations.values, y=start_stations.index[::-1], palette=custom_palette)\n",
    "plt.title('Least Used Start Stations')\n",
    "plt.xlabel('Total Rentals')\n",
    "plt.ylabel('Start Station Name')\n",
    "plt.xticks(rotation=45)  # Rotate x-axis labels\n",
    "\n",
    "# Find the maximum value in start stations\n",
    "max_start_station_count = start_stations.max()\n",
    "\n",
    "# Highlight the maximum value with dark blue\n",
    "for bar in ax.patches:\n",
    "    if bar.get_width() == max_start_station_count:\n",
    "        bar.set_facecolor('darkblue')\n",
    "\n",
    "plt.subplot(1, 2, 2)\n",
    "ax = sns.barplot(x=end_stations.values, y=end_stations.index[::-1], palette=custom_palette)\n",
    "plt.title('Least Used End Stations')\n",
    "plt.xlabel('Total Rentals')\n",
    "plt.ylabel('End Station Name')\n",
    "plt.xticks(rotation=45)  # Rotate x-axis labels\n",
    "\n",
    "# Find the maximum value in end stations\n",
    "max_end_station_count = end_stations.max()\n",
    "\n",
    "# Highlight the maximum value with dark blue\n",
    "for bar in ax.patches:\n",
    "    if bar.get_width() == max_end_station_count:\n",
    "        bar.set_facecolor('darkblue')\n",
    "\n",
    "plt.tight_layout()\n",
    "plt.show()\n"
   ]
  },
  {
   "cell_type": "markdown",
   "metadata": {},
   "source": [
    "Paddington green police station emerges as the least popular start station and Oval way as the least popular end station"
   ]
  },
  {
   "cell_type": "code",
   "execution_count": 165,
   "metadata": {
    "id": "HZAFKz8Zgbxu",
    "scrolled": true
   },
   "outputs": [],
   "source": [
    "# Group by 'StartStation Name' and 'EndStation Name' and count the occurrences\n",
    "popular_routes = tfl_cycling_df_preprocessed.groupby(['StartStation Name', 'EndStation Name']).size().reset_index(name='Total Rentals by Route')\n",
    "\n",
    "# Sort the routes by count in descending order\n",
    "popular_routes = popular_routes.sort_values(by='Total Rentals by Route', ascending=False)\n",
    "\n",
    "# Get the top 10 popular routes\n",
    "top_10_routes = popular_routes.head(30)\n"
   ]
  },
  {
   "cell_type": "code",
   "execution_count": 166,
   "metadata": {
    "colab": {
     "base_uri": "https://localhost:8080/",
     "height": 363
    },
    "id": "5MO0Raw4gtpD",
    "outputId": "4734b864-f0b4-4466-d32d-5bb30e09ef10",
    "scrolled": true
   },
   "outputs": [
    {
     "data": {
      "text/html": [
       "<div>\n",
       "<style scoped>\n",
       "    .dataframe tbody tr th:only-of-type {\n",
       "        vertical-align: middle;\n",
       "    }\n",
       "\n",
       "    .dataframe tbody tr th {\n",
       "        vertical-align: top;\n",
       "    }\n",
       "\n",
       "    .dataframe thead th {\n",
       "        text-align: right;\n",
       "    }\n",
       "</style>\n",
       "<table border=\"1\" class=\"dataframe\">\n",
       "  <thead>\n",
       "    <tr style=\"text-align: right;\">\n",
       "      <th></th>\n",
       "      <th>StartStation Name</th>\n",
       "      <th>EndStation Name</th>\n",
       "      <th>Total Rentals by Route</th>\n",
       "    </tr>\n",
       "  </thead>\n",
       "  <tbody>\n",
       "    <tr>\n",
       "      <th>239895</th>\n",
       "      <td>Hyde Park Corner, Hyde Park</td>\n",
       "      <td>Hyde Park Corner, Hyde Park</td>\n",
       "      <td>45632</td>\n",
       "    </tr>\n",
       "    <tr>\n",
       "      <th>17099</th>\n",
       "      <td>Aquatic Centre, Queen Elizabeth Olympic Park</td>\n",
       "      <td>Aquatic Centre, Queen Elizabeth Olympic Park</td>\n",
       "      <td>42669</td>\n",
       "    </tr>\n",
       "    <tr>\n",
       "      <th>8898</th>\n",
       "      <td>Albert Gate, Hyde Park</td>\n",
       "      <td>Albert Gate, Hyde Park</td>\n",
       "      <td>20493</td>\n",
       "    </tr>\n",
       "    <tr>\n",
       "      <th>49172</th>\n",
       "      <td>Black Lion Gate, Kensington Gardens</td>\n",
       "      <td>Black Lion Gate, Kensington Gardens</td>\n",
       "      <td>19220</td>\n",
       "    </tr>\n",
       "    <tr>\n",
       "      <th>335648</th>\n",
       "      <td>Park Lane , Hyde Park</td>\n",
       "      <td>Park Lane , Hyde Park</td>\n",
       "      <td>18998</td>\n",
       "    </tr>\n",
       "    <tr>\n",
       "      <th>464437</th>\n",
       "      <td>Triangle Car Park, Hyde Park</td>\n",
       "      <td>Triangle Car Park, Hyde Park</td>\n",
       "      <td>18136</td>\n",
       "    </tr>\n",
       "    <tr>\n",
       "      <th>348103</th>\n",
       "      <td>Podium, Queen Elizabeth Olympic Park</td>\n",
       "      <td>Podium, Queen Elizabeth Olympic Park</td>\n",
       "      <td>15734</td>\n",
       "    </tr>\n",
       "    <tr>\n",
       "      <th>396163</th>\n",
       "      <td>Serpentine Car Park, Hyde Park</td>\n",
       "      <td>Serpentine Car Park, Hyde Park</td>\n",
       "      <td>9948</td>\n",
       "    </tr>\n",
       "    <tr>\n",
       "      <th>495838</th>\n",
       "      <td>Wellington Arch, Hyde Park</td>\n",
       "      <td>Wellington Arch, Hyde Park</td>\n",
       "      <td>9946</td>\n",
       "    </tr>\n",
       "    <tr>\n",
       "      <th>332069</th>\n",
       "      <td>Palace Gate, Kensington Gardens</td>\n",
       "      <td>Palace Gate, Kensington Gardens</td>\n",
       "      <td>9120</td>\n",
       "    </tr>\n",
       "    <tr>\n",
       "      <th>239543</th>\n",
       "      <td>Hyde Park Corner, Hyde Park</td>\n",
       "      <td>Albert Gate, Hyde Park</td>\n",
       "      <td>8863</td>\n",
       "    </tr>\n",
       "    <tr>\n",
       "      <th>460151</th>\n",
       "      <td>Timber Lodge, Queen Elizabeth Olympic Park</td>\n",
       "      <td>Timber Lodge, Queen Elizabeth Olympic Park</td>\n",
       "      <td>8495</td>\n",
       "    </tr>\n",
       "    <tr>\n",
       "      <th>9240</th>\n",
       "      <td>Albert Gate, Hyde Park</td>\n",
       "      <td>Hyde Park Corner, Hyde Park</td>\n",
       "      <td>7955</td>\n",
       "    </tr>\n",
       "    <tr>\n",
       "      <th>366096</th>\n",
       "      <td>Queen's Gate, Kensington Gardens</td>\n",
       "      <td>Queen's Gate, Kensington Gardens</td>\n",
       "      <td>7946</td>\n",
       "    </tr>\n",
       "    <tr>\n",
       "      <th>240137</th>\n",
       "      <td>Hyde Park Corner, Hyde Park</td>\n",
       "      <td>Serpentine Car Park, Hyde Park</td>\n",
       "      <td>7860</td>\n",
       "    </tr>\n",
       "    <tr>\n",
       "      <th>141423</th>\n",
       "      <td>East Village, Queen Elizabeth Olympic Park</td>\n",
       "      <td>East Village, Queen Elizabeth Olympic Park</td>\n",
       "      <td>7855</td>\n",
       "    </tr>\n",
       "    <tr>\n",
       "      <th>240239</th>\n",
       "      <td>Hyde Park Corner, Hyde Park</td>\n",
       "      <td>Triangle Car Park, Hyde Park</td>\n",
       "      <td>7685</td>\n",
       "    </tr>\n",
       "    <tr>\n",
       "      <th>295767</th>\n",
       "      <td>Monier Road, Hackney Wick</td>\n",
       "      <td>Aquatic Centre, Queen Elizabeth Olympic Park</td>\n",
       "      <td>7315</td>\n",
       "    </tr>\n",
       "    <tr>\n",
       "      <th>464124</th>\n",
       "      <td>Triangle Car Park, Hyde Park</td>\n",
       "      <td>Hyde Park Corner, Hyde Park</td>\n",
       "      <td>7250</td>\n",
       "    </tr>\n",
       "    <tr>\n",
       "      <th>17389</th>\n",
       "      <td>Aquatic Centre, Queen Elizabeth Olympic Park</td>\n",
       "      <td>Monier Road, Hackney Wick</td>\n",
       "      <td>7226</td>\n",
       "    </tr>\n",
       "    <tr>\n",
       "      <th>17443</th>\n",
       "      <td>Aquatic Centre, Queen Elizabeth Olympic Park</td>\n",
       "      <td>Podium, Queen Elizabeth Olympic Park</td>\n",
       "      <td>7135</td>\n",
       "    </tr>\n",
       "    <tr>\n",
       "      <th>54429</th>\n",
       "      <td>Bonner Gate, Victoria Park</td>\n",
       "      <td>Bonner Gate, Victoria Park</td>\n",
       "      <td>7045</td>\n",
       "    </tr>\n",
       "    <tr>\n",
       "      <th>247654</th>\n",
       "      <td>Jubilee Plaza, Canary Wharf</td>\n",
       "      <td>Jubilee Plaza, Canary Wharf</td>\n",
       "      <td>6760</td>\n",
       "    </tr>\n",
       "    <tr>\n",
       "      <th>4351</th>\n",
       "      <td>Ackroyd Drive, Bow</td>\n",
       "      <td>Maplin Street, Mile End</td>\n",
       "      <td>6759</td>\n",
       "    </tr>\n",
       "    <tr>\n",
       "      <th>49444</th>\n",
       "      <td>Black Lion Gate, Kensington Gardens</td>\n",
       "      <td>Hyde Park Corner, Hyde Park</td>\n",
       "      <td>6713</td>\n",
       "    </tr>\n",
       "    <tr>\n",
       "      <th>395935</th>\n",
       "      <td>Serpentine Car Park, Hyde Park</td>\n",
       "      <td>Hyde Park Corner, Hyde Park</td>\n",
       "      <td>6574</td>\n",
       "    </tr>\n",
       "    <tr>\n",
       "      <th>268700</th>\n",
       "      <td>Lee Valley VeloPark, Queen Elizabeth Olympic Park</td>\n",
       "      <td>Lee Valley VeloPark, Queen Elizabeth Olympic Park</td>\n",
       "      <td>6549</td>\n",
       "    </tr>\n",
       "    <tr>\n",
       "      <th>49576</th>\n",
       "      <td>Black Lion Gate, Kensington Gardens</td>\n",
       "      <td>Palace Gate, Kensington Gardens</td>\n",
       "      <td>6495</td>\n",
       "    </tr>\n",
       "    <tr>\n",
       "      <th>363369</th>\n",
       "      <td>Queen's Circus, Battersea Park</td>\n",
       "      <td>Queen's Circus, Battersea Park</td>\n",
       "      <td>6494</td>\n",
       "    </tr>\n",
       "    <tr>\n",
       "      <th>507736</th>\n",
       "      <td>Westminster Pier, Westminster</td>\n",
       "      <td>Westminster Pier, Westminster</td>\n",
       "      <td>6478</td>\n",
       "    </tr>\n",
       "  </tbody>\n",
       "</table>\n",
       "</div>"
      ],
      "text/plain": [
       "                                        StartStation Name  \\\n",
       "239895                        Hyde Park Corner, Hyde Park   \n",
       "17099        Aquatic Centre, Queen Elizabeth Olympic Park   \n",
       "8898                               Albert Gate, Hyde Park   \n",
       "49172                 Black Lion Gate, Kensington Gardens   \n",
       "335648                              Park Lane , Hyde Park   \n",
       "464437                       Triangle Car Park, Hyde Park   \n",
       "348103               Podium, Queen Elizabeth Olympic Park   \n",
       "396163                     Serpentine Car Park, Hyde Park   \n",
       "495838                         Wellington Arch, Hyde Park   \n",
       "332069                    Palace Gate, Kensington Gardens   \n",
       "239543                        Hyde Park Corner, Hyde Park   \n",
       "460151         Timber Lodge, Queen Elizabeth Olympic Park   \n",
       "9240                               Albert Gate, Hyde Park   \n",
       "366096                   Queen's Gate, Kensington Gardens   \n",
       "240137                        Hyde Park Corner, Hyde Park   \n",
       "141423         East Village, Queen Elizabeth Olympic Park   \n",
       "240239                        Hyde Park Corner, Hyde Park   \n",
       "295767                          Monier Road, Hackney Wick   \n",
       "464124                       Triangle Car Park, Hyde Park   \n",
       "17389        Aquatic Centre, Queen Elizabeth Olympic Park   \n",
       "17443        Aquatic Centre, Queen Elizabeth Olympic Park   \n",
       "54429                          Bonner Gate, Victoria Park   \n",
       "247654                        Jubilee Plaza, Canary Wharf   \n",
       "4351                                   Ackroyd Drive, Bow   \n",
       "49444                 Black Lion Gate, Kensington Gardens   \n",
       "395935                     Serpentine Car Park, Hyde Park   \n",
       "268700  Lee Valley VeloPark, Queen Elizabeth Olympic Park   \n",
       "49576                 Black Lion Gate, Kensington Gardens   \n",
       "363369                     Queen's Circus, Battersea Park   \n",
       "507736                      Westminster Pier, Westminster   \n",
       "\n",
       "                                          EndStation Name  \\\n",
       "239895                        Hyde Park Corner, Hyde Park   \n",
       "17099        Aquatic Centre, Queen Elizabeth Olympic Park   \n",
       "8898                               Albert Gate, Hyde Park   \n",
       "49172                 Black Lion Gate, Kensington Gardens   \n",
       "335648                              Park Lane , Hyde Park   \n",
       "464437                       Triangle Car Park, Hyde Park   \n",
       "348103               Podium, Queen Elizabeth Olympic Park   \n",
       "396163                     Serpentine Car Park, Hyde Park   \n",
       "495838                         Wellington Arch, Hyde Park   \n",
       "332069                    Palace Gate, Kensington Gardens   \n",
       "239543                             Albert Gate, Hyde Park   \n",
       "460151         Timber Lodge, Queen Elizabeth Olympic Park   \n",
       "9240                          Hyde Park Corner, Hyde Park   \n",
       "366096                   Queen's Gate, Kensington Gardens   \n",
       "240137                     Serpentine Car Park, Hyde Park   \n",
       "141423         East Village, Queen Elizabeth Olympic Park   \n",
       "240239                       Triangle Car Park, Hyde Park   \n",
       "295767       Aquatic Centre, Queen Elizabeth Olympic Park   \n",
       "464124                        Hyde Park Corner, Hyde Park   \n",
       "17389                           Monier Road, Hackney Wick   \n",
       "17443                Podium, Queen Elizabeth Olympic Park   \n",
       "54429                          Bonner Gate, Victoria Park   \n",
       "247654                        Jubilee Plaza, Canary Wharf   \n",
       "4351                              Maplin Street, Mile End   \n",
       "49444                         Hyde Park Corner, Hyde Park   \n",
       "395935                        Hyde Park Corner, Hyde Park   \n",
       "268700  Lee Valley VeloPark, Queen Elizabeth Olympic Park   \n",
       "49576                     Palace Gate, Kensington Gardens   \n",
       "363369                     Queen's Circus, Battersea Park   \n",
       "507736                      Westminster Pier, Westminster   \n",
       "\n",
       "        Total Rentals by Route  \n",
       "239895                   45632  \n",
       "17099                    42669  \n",
       "8898                     20493  \n",
       "49172                    19220  \n",
       "335648                   18998  \n",
       "464437                   18136  \n",
       "348103                   15734  \n",
       "396163                    9948  \n",
       "495838                    9946  \n",
       "332069                    9120  \n",
       "239543                    8863  \n",
       "460151                    8495  \n",
       "9240                      7955  \n",
       "366096                    7946  \n",
       "240137                    7860  \n",
       "141423                    7855  \n",
       "240239                    7685  \n",
       "295767                    7315  \n",
       "464124                    7250  \n",
       "17389                     7226  \n",
       "17443                     7135  \n",
       "54429                     7045  \n",
       "247654                    6760  \n",
       "4351                      6759  \n",
       "49444                     6713  \n",
       "395935                    6574  \n",
       "268700                    6549  \n",
       "49576                     6495  \n",
       "363369                    6494  \n",
       "507736                    6478  "
      ]
     },
     "execution_count": 166,
     "metadata": {},
     "output_type": "execute_result"
    }
   ],
   "source": [
    "top_10_routes"
   ]
  },
  {
   "cell_type": "markdown",
   "metadata": {
    "id": "eI4RenppRrdB"
   },
   "source": [
    "## 2. Data Science UseCases\n",
    "\n",
    "The TFL cycling dataset provides information about bike rentals in London, and it can be used for various data science use cases. Here are some potential use cases for this data:\n",
    "\n",
    "- Demand Forecasting: Predict future bike rental demand based on historical rental patterns, weather conditions, special events, and other relevant factors. This can help optimize bike availability and allocation.\n",
    "\n",
    "\n",
    "- Route Optimization: Optimize bike station locations and the allocation of bikes to stations to minimize empty or full stations. Machine learning models can help identify the best locations and rebalancing strategies.\n",
    "\n",
    "- Pricing Strategy: Analyze the relationship between rental prices, demand, and other factors to determine optimal pricing strategies that maximize revenue and ridership.\n",
    "\n",
    "- Operational Efficiency: Use data to optimize maintenance schedules, repair, and inspection of bikes and stations to reduce downtime and increase bike availability.\n",
    "\n",
    "- Seasonal and Temporal Trends: Identify seasonal and temporal patterns in bike rentals. For example, which months, days, or times of day are the busiest, and how does this change over time?\n",
    "\n",
    "- User Retention: Analyze user behavior to understand why some users stop renting bikes and develop strategies to retain them."
   ]
  },
  {
   "cell_type": "markdown",
   "metadata": {
    "id": "mgd3dnWWSU6X"
   },
   "source": [
    "# 3.  Data Science Use Case to Business Model: Demand Forecasting"
   ]
  },
  {
   "cell_type": "code",
   "execution_count": 384,
   "metadata": {
    "scrolled": true
   },
   "outputs": [],
   "source": [
    "from statsmodels.tsa.seasonal import seasonal_decompose"
   ]
  },
  {
   "cell_type": "code",
   "execution_count": 385,
   "metadata": {
    "scrolled": true
   },
   "outputs": [],
   "source": [
    "# Create a 'Year-Month-Day' column\n",
    "tfl_cycling_df_preprocessed['Year-Month-Day'] = tfl_cycling_df_preprocessed['Start Date'].dt.strftime('%Y-%m-%d')\n",
    "rentals_by_day = tfl_cycling_df_preprocessed.groupby('Year-Month-Day').size()\n",
    "rentals_by_day.columns = [\"Year-Month-Day\", \"Rentals\"]"
   ]
  },
  {
   "cell_type": "code",
   "execution_count": 386,
   "metadata": {
    "scrolled": true
   },
   "outputs": [],
   "source": [
    "rentals_by_day = rentals_by_day[:-1] # removing the last data point as it contains only 1 value"
   ]
  },
  {
   "cell_type": "code",
   "execution_count": 387,
   "metadata": {
    "id": "H9wQzLfOgPIA",
    "scrolled": true
   },
   "outputs": [],
   "source": [
    "# Create a 'Year-Month' column\n",
    "tfl_cycling_df_preprocessed['Year-Month'] = tfl_cycling_df_preprocessed['Start Date'].dt.strftime('%Y-%m')\n",
    "rentals_by_year_month = tfl_cycling_df_preprocessed.groupby('Year-Month').size()\n",
    "rentals_by_year_month.columns = [\"Year-Month\", \"Rentals\"]"
   ]
  },
  {
   "cell_type": "markdown",
   "metadata": {
    "id": "M621oSZdM60c"
   },
   "source": [
    "### Time Series Data Visualization"
   ]
  },
  {
   "cell_type": "markdown",
   "metadata": {},
   "source": [
    "#### Month wise analysis"
   ]
  },
  {
   "cell_type": "code",
   "execution_count": 388,
   "metadata": {
    "colab": {
     "base_uri": "https://localhost:8080/",
     "height": 601
    },
    "id": "wsFomJGYcoCI",
    "outputId": "af1000dc-6424-4a7e-f311-d30cd1119bc5",
    "scrolled": true
   },
   "outputs": [
    {
     "data": {
      "image/png": "[encoded data removed]",
      "text/plain": [
       "<Figure size 1200x600 with 1 Axes>"
      ]
     },
     "metadata": {},
     "output_type": "display_data"
    }
   ],
   "source": [
    "plt.figure(figsize=(12, 6))\n",
    "plt.plot(rentals_by_year_month.index, rentals_by_year_month, marker='o', linestyle='-')\n",
    "plt.title('Total Rentals by Month')\n",
    "plt.xlabel('Month')\n",
    "plt.ylabel('Total Rentals')\n",
    "plt.grid(True)\n",
    "\n",
    "# Rotate x-axis labels for better visibility\n",
    "plt.xticks(rotation=45)\n",
    "\n",
    "plt.show()\n"
   ]
  },
  {
   "cell_type": "code",
   "execution_count": 389,
   "metadata": {
    "id": "tbiT07PBPtmS",
    "scrolled": true
   },
   "outputs": [],
   "source": [
    "rentals_time_series = rentals_by_year_month"
   ]
  },
  {
   "cell_type": "code",
   "execution_count": 390,
   "metadata": {
    "id": "FiLtdcWnQVVL",
    "scrolled": true
   },
   "outputs": [],
   "source": [
    "# Perform seasonal decomposition\n",
    "result = seasonal_decompose(rentals_time_series, model='multiplicative', period=12)  # Adjust the period if needed"
   ]
  },
  {
   "cell_type": "code",
   "execution_count": 391,
   "metadata": {
    "colab": {
     "base_uri": "https://localhost:8080/",
     "height": 827
    },
    "id": "MSuj6yzwdqoV",
    "outputId": "29a097b4-b206-4849-dbbf-a53a20aefdd2",
    "scrolled": false
   },
   "outputs": [
    {
     "data": {
      "image/png": "[encoded data removed]",
      "text/plain": [
       "<Figure size 2400x1400 with 4 Axes>"
      ]
     },
     "metadata": {},
     "output_type": "display_data"
    }
   ],
   "source": [
    "plt.figure(figsize=(24, 14))  # Increase the figure size for better visibility\n",
    "plt.subplot(411)\n",
    "plt.plot(rentals_time_series, label='Original')\n",
    "plt.legend(loc='upper left')\n",
    "plt.title('Original Time Series')\n",
    "\n",
    "plt.subplot(412)\n",
    "plt.plot(result.trend, label='Trend')\n",
    "plt.legend(loc='upper left')\n",
    "plt.title('Trend Component')\n",
    "\n",
    "plt.subplot(413)\n",
    "plt.plot(result.seasonal, label='Seasonal')\n",
    "plt.legend(loc='upper left')\n",
    "plt.title('Seasonal Component')\n",
    "\n",
    "plt.subplot(414)\n",
    "plt.plot(result.resid, label='Residual')\n",
    "plt.legend(loc='upper left')\n",
    "plt.title('Residual Component')\n",
    "\n",
    "plt.tight_layout()\n",
    "plt.xticks(rotation=45)  # Rotate x-axis labels for better visibility\n",
    "plt.show()\n"
   ]
  },
  {
   "cell_type": "markdown",
   "metadata": {},
   "source": [
    "Time series data exhibits multiplicative seasonality and no obvious trend, Exponential Smoothing models, particularly the Holt-Winters Exponential Smoothing model with additive seasonality, are a suitable choice. The Holt-Winters method can also be used with multiplicative seasonality by specifying the 'multiplicative' parameter for the seasonal component.\n",
    "\n",
    "Here are the characteristics of some time series models in this context:\n",
    "\n",
    "###### Holt-Winters Exponential Smoothing:\n",
    "\n",
    "* Suitable for data with multiplicative seasonality.\n",
    "* Allows you to capture seasonality, trend, and level components.\n",
    "* It can adapt to changes in seasonality over time.\n",
    "* The 'multiplicative' parameter can be set to handle multiplicative seasonality.\n",
    "\n",
    "######  TBATS (Trigonometric seasonality, Box-Cox transformation, ARMA errors, Trend, and Seasonal components):\n",
    "\n",
    "* TBATS models can handle data with both additive and multiplicative seasonality.\n",
    "* It includes multiple components that capture seasonality, trend, and errors.\n",
    "* TBATS models are flexible and can be suitable for a wide range of time series data.\n"
   ]
  },
  {
   "cell_type": "code",
   "execution_count": 393,
   "metadata": {
    "scrolled": true
   },
   "outputs": [
    {
     "name": "stdout",
     "output_type": "stream",
     "text": [
      "Holt-Winters RMSE: 0.198\n",
      "TBATS RMSE: 0.229\n"
     ]
    },
    {
     "data": {
      "image/png": "[encoded data removed]",
      "text/plain": [
       "<Figure size 1200x600 with 1 Axes>"
      ]
     },
     "metadata": {},
     "output_type": "display_data"
    }
   ],
   "source": [
    "import pandas as pd\n",
    "import numpy as np\n",
    "import matplotlib.pyplot as plt\n",
    "from statsmodels.tsa.holtwinters import ExponentialSmoothing\n",
    "from statsmodels.tsa.statespace.sarimax import SARIMAX\n",
    "from tbats import TBATS\n",
    "from sklearn.metrics import mean_squared_error\n",
    "from math import sqrt\n",
    "\n",
    "# Create a DataFrame from the provided data\n",
    "data = {\n",
    "    'Year-Month': ['2021-01', '2021-02', '2021-03', '2021-04', '2021-05', '2021-06', '2021-07', '2021-08', '2021-09', '2021-10', '2021-11', '2021-12', '2022-01', '2022-02', '2022-03', '2022-04', '2022-05', '2022-06', '2022-07', '2022-08', '2022-09', '2022-10', '2022-11', '2022-12', '2023-01', '2023-02', '2023-03', '2023-04', '2023-05'],\n",
    "    'Rentals': [405015, 504154, 738522, 930934, 912059, 1169603, 1155434, 1098972, 1208914, 1099712, 936941, 661029, 741875, 743581, 1047369, 1022467, 1190590, 1268701, 1303376, 1249038, 796412, 861664, 723460, 470761, 569504, 612571, 629728, 646025, 821882]\n",
    "}\n",
    "\n",
    "df = pd.DataFrame(data)\n",
    "df['Year-Month'] = pd.to_datetime(df['Year-Month'])\n",
    "\n",
    "# Take the logarithm of Rentals\n",
    "df['Log_Rentals'] = np.log(df['Rentals'])\n",
    "\n",
    "# Split data into training and testing\n",
    "train = df.iloc[:-5]  # Training data (all except the last 12 months)\n",
    "test = df.iloc[-5:]  # Testing data (last 12 months)\n",
    "\n",
    "# Holt-Winters Exponential Smoothing\n",
    "model_hw = ExponentialSmoothing(train['Log_Rentals'], seasonal='add', seasonal_periods=12)\n",
    "fit_hw = model_hw.fit(optimized=True)\n",
    "forecast_hw = fit_hw.forecast(steps=5)\n",
    "rmse_hw = sqrt(mean_squared_error(test['Log_Rentals'], forecast_hw))\n",
    "\n",
    "# TBATS\n",
    "model_tbats = TBATS(seasonal_periods=(12,))\n",
    "fit_tbats = model_tbats.fit(train['Log_Rentals'])\n",
    "forecast_tbats = fit_tbats.forecast(steps=5)\n",
    "rmse_tbats = sqrt(mean_squared_error(test['Log_Rentals'], forecast_tbats))\n",
    "\n",
    "# Evaluate and compare the models\n",
    "print(f'Holt-Winters RMSE: {rmse_hw:.3f}')\n",
    "print(f'TBATS RMSE: {rmse_tbats:.3f}')\n",
    "\n",
    "# Plot forecasts\n",
    "plt.figure(figsize=(12, 6))\n",
    "plt.plot(df['Year-Month'], df['Log_Rentals'], label='Log of Rentals')\n",
    "plt.plot(test['Year-Month'], forecast_hw, label='Holt-Winters Forecast', linestyle='--')\n",
    "plt.plot(test['Year-Month'], forecast_tbats, label='TBATS Forecast', linestyle='--')\n",
    "plt.xlabel('Year-Month')\n",
    "plt.ylabel('Log(Rentals)')\n",
    "plt.title('Monthly Rental Forecasts (Log Scale)')\n",
    "plt.legend()\n",
    "plt.grid(True)\n",
    "plt.show()"
   ]
  },
  {
   "cell_type": "markdown",
   "metadata": {},
   "source": [
    "Holt-Winters Exponential Smoothing is recommended as the method of choice for forecasting the next 'N' months. To further improve the accuracy of predictions, it's advisable to collect and incorporate more historical data points, if available. Additionally, ongoing monitoring and model evaluation should be part of the forecasting process to ensure the model's continued reliability."
   ]
  },
  {
   "cell_type": "markdown",
   "metadata": {},
   "source": [
    "### Recommendations"
   ]
  },
  {
   "cell_type": "markdown",
   "metadata": {},
   "source": [
    "#### 1. Supply Chain Optimization\n",
    "Hyde Park Corner Expansion: Since Hyde Park Corner is the most popular start and end station, invest in expanding and optimizing services in this area\n",
    "#### 2. Seasonal Marketing\n",
    "- Optimize Service for Hourly Rentals: Given that the most common usage pattern is for short trips within the same hour, consider offering hourly rental options. \n",
    "- Weekday Specials: As Thursdays are the most popular days for rentals, consider introducing weekday specials or discounts to incentivize usage during weekdays.\n",
    "- Peak Rental Hour Services: To meet the high demand during the 17th hour of the day, ensure that you have an adequate supply of bikes available during this time.\n"
   ]
  },
  {
   "cell_type": "code",
   "execution_count": null,
   "metadata": {},
   "outputs": [],
   "source": []
  }
 ],
 "metadata": {
  "accelerator": "GPU",
  "colab": {
   "gpuType": "T4",
   "provenance": []
  },
  "kernelspec": {
   "display_name": "Python 3 (ipykernel)",
   "language": "python",
   "name": "python3"
  },
  "language_info": {
   "codemirror_mode": {
    "name": "ipython",
    "version": 3
   },
   "file_extension": ".py",
   "mimetype": "text/x-python",
   "name": "python",
   "nbconvert_exporter": "python",
   "pygments_lexer": "ipython3",
   "version": "3.11.3"
  }
 },
 "nbformat": 4,
 "nbformat_minor": 1
}
